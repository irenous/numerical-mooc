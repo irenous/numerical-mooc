{
 "cells": [
  {
   "cell_type": "code",
   "execution_count": 6,
   "metadata": {
    "collapsed": true
   },
   "outputs": [],
   "source": [
    "from matplotlib import pyplot\n",
    "import numpy\n",
    "%matplotlib inline\n",
    "from matplotlib import rcParams\n",
    "rcParams['font.family'] = 'serif'\n",
    "rcParams['font.size'] = 16"
   ]
  },
  {
   "cell_type": "code",
   "execution_count": 20,
   "metadata": {
    "collapsed": false
   },
   "outputs": [
    {
     "name": "stdout",
     "output_type": "stream",
     "text": [
      "[ 0.          0.29306834 -0.049232   ..., -0.049232   -0.049232   -0.049232  ]\n"
     ]
    }
   ],
   "source": [
    "T=10\n",
    "nt=1000\n",
    "dt=T/nt\n",
    "alpha=2.0\n",
    "c=0.5\n",
    "\n",
    "t=numpy.arange(0,T+dt,dt)\n",
    "x=numpy.empty(nt+1)\n",
    "x[0]=0\n",
    "numpy.random.seed()\n",
    "x[1:]=x[:-1]+alpha*numpy.sqrt(dt)*numpy.random.normal(0,1)\n",
    "\n",
    "print(x)"
   ]
  },
  {
   "cell_type": "code",
   "execution_count": 49,
   "metadata": {
    "collapsed": true
   },
   "outputs": [],
   "source": [
    "T=10\n",
    "nt=1000\n",
    "dt=T/nt\n",
    "alpha=2.0\n",
    "c=1\n",
    "\n",
    "t=numpy.arange(0,T+dt,dt)\n",
    "x=numpy.empty(nt+1)\n",
    "x[0]=0\n",
    "\n",
    "for i in range(nt):\n",
    "    x[i+1]=x[i]+c*dt+alpha*numpy.sqrt(dt)*numpy.random.normal(0,1)"
   ]
  },
  {
   "cell_type": "code",
   "execution_count": 50,
   "metadata": {
    "collapsed": false
   },
   "outputs": [
    {
     "data": {
      "text/plain": [
       "[<matplotlib.lines.Line2D at 0x8e34550>]"
      ]
     },
     "execution_count": 50,
     "metadata": {},
     "output_type": "execute_result"
    },
    {
     "data": {
      "image/png": "[encoded data removed]",
      "text/plain": [
       "<matplotlib.figure.Figure at 0x8c02240>"
      ]
     },
     "metadata": {},
     "output_type": "display_data"
    }
   ],
   "source": [
    "pyplot.plot(t,x)"
   ]
  },
  {
   "cell_type": "code",
   "execution_count": null,
   "metadata": {
    "collapsed": true
   },
   "outputs": [],
   "source": []
  },
  {
   "cell_type": "code",
   "execution_count": null,
   "metadata": {
    "collapsed": true
   },
   "outputs": [],
   "source": []
  }
 ],
 "metadata": {
  "kernelspec": {
   "display_name": "Python 3",
   "language": "python",
   "name": "python3"
  },
  "language_info": {
   "codemirror_mode": {
    "name": "ipython",
    "version": 3
   },
   "file_extension": ".py",
   "mimetype": "text/x-python",
   "name": "python",
   "nbconvert_exporter": "python",
   "pygments_lexer": "ipython3",
   "version": "3.4.4"
  }
 },
 "nbformat": 4,
 "nbformat_minor": 0
}
