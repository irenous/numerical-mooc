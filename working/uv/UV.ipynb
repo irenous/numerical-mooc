{
 "cells": [
  {
   "cell_type": "markdown",
   "metadata": {},
   "source": [
    "# Reaction-diffusion Assignment\n",
    "## The Gray-Scott Model\n",
    "\n",
    "##### Laurent Pétré & Ilan Renous"
   ]
  },
  {
   "cell_type": "markdown",
   "metadata": {},
   "source": [
    "Let's get started!"
   ]
  },
  {
   "cell_type": "code",
   "execution_count": null,
   "metadata": {
    "collapsed": true
   },
   "outputs": [],
   "source": [
    "# We import the libraries we will need\n",
    "import numpy as npy\n",
    "import matplotlib.pyplot as plt\n",
    "%matplotlib inline\n",
    "from JSAnimation.IPython_display import display_animation\n",
    "import matplotlib.animation as anim"
   ]
  },
  {
   "cell_type": "markdown",
   "metadata": {},
   "source": [
    "## The Gray-Scott Model"
   ]
  },
  {
   "cell_type": "markdown",
   "metadata": {},
   "source": []
  },
  {
   "cell_type": "markdown",
   "metadata": {},
   "source": [
    "## Discretisation of the equations"
   ]
  },
  {
   "cell_type": "markdown",
   "metadata": {},
   "source": []
  },
  {
   "cell_type": "markdown",
   "metadata": {},
   "source": [
    "## Solve !"
   ]
  },
  {
   "cell_type": "markdown",
   "metadata": {},
   "source": []
  },
  {
   "cell_type": "code",
   "execution_count": null,
   "metadata": {
    "collapsed": false
   },
   "outputs": [],
   "source": [
    "n = 192\n",
    "Du, Dv, F, k = 0.00016, 0.00008, 0.035, 0.065 \n",
    "dh = 5/(n-1)\n",
    "T = 8000\n",
    "dt = .9 * dh**2 / (4*max(Du,Dv))\n",
    "nt = int(T/dt)\n",
    "\n",
    "uvinitial = npy.load('../../lessons/04_spreadout/data/uvinitial.npz')\n",
    "U = uvinitial['U']\n",
    "V = uvinitial['V']\n",
    "\n",
    "# Solve\n",
    "for n in range(nt):\n",
    "    Un = U.copy()\n",
    "    Vn = V.copy()\n",
    "\n",
    "    U[1:-1,1:-1] = Un[1:-1,1:-1] + dt*( \\\n",
    "                (Du/(dh**2))*(Un[2:,1:-1] - 4*Un[1:-1,1:-1] + Un[:-2,1:-1] + Un[1:-1,2:] + Un[1:-1,:-2]) \\\n",
    "                - Un[1:-1,1:-1]*(Vn[1:-1,1:-1])**2 + F*(1 - Un[1:-1,1:-1])  )\n",
    "                \n",
    "    V[1:-1,1:-1] = Vn[1:-1,1:-1] + dt*( \\\n",
    "                (Dv/(dh**2))*(Vn[2:,1:-1] - 4*Vn[1:-1,1:-1] + Vn[:-2,1:-1] + Vn[1:-1,2:] + Vn[1:-1,:-2]) \\\n",
    "                + Un[1:-1,1:-1]*(Vn[1:-1,1:-1])**2 - (F+k)*Vn[1:-1,1:-1]  )\n",
    "  \n",
    "    U[-1,:] = U[-2,:]\n",
    "    U[:,-1] = U[:,-2]\n",
    "    U[0,:]= U[1,:]\n",
    "    U[:,0]= U[:,1]\n",
    "\n",
    "    V[-1,:] = V[-2,:]\n",
    "    V[:,-1] = V[:,-2]\n",
    "    V[0,:]= V[1,:]\n",
    "    V[:,0]= V[:,1]\n",
    "\n",
    "# Output\n",
    "print(u_out[100,::40])\n",
    "print([ 0.92469521, 0.85013834, 0.66815621, 0.90196481,  0.9039502 ])\n"
   ]
  },
  {
   "cell_type": "markdown",
   "metadata": {},
   "source": [
    "## Conclusion"
   ]
  },
  {
   "cell_type": "markdown",
   "metadata": {},
   "source": [
    "##### Source\n",
    "\n",
    "(1) We used the following lectures https://github.com/numerical-mooc/numerical-mooc available under Creative Commons Attribution license CC-BY 4.0, (c)2014 L.A. Barba, C. Cooper, G.F. Forsyth, A. Krishnan."
   ]
  },
  {
   "cell_type": "markdown",
   "metadata": {},
   "source": [
    "---\n",
    "###### The cell below loads the style of this notebook. "
   ]
  },
  {
   "cell_type": "code",
   "execution_count": null,
   "metadata": {
    "collapsed": false
   },
   "outputs": [],
   "source": [
    "# Execute this cell to load the notebook's style sheet, then ignore it\n",
    "from IPython.core.display import HTML\n",
    "css_file = '../../styles/numericalmoocstyle.css'\n",
    "HTML(open(css_file, \"r\").read())"
   ]
  },
  {
   "cell_type": "code",
   "execution_count": null,
   "metadata": {
    "collapsed": true
   },
   "outputs": [],
   "source": []
  }
 ],
 "metadata": {
  "kernelspec": {
   "display_name": "Python 3",
   "language": "python",
   "name": "python3"
  },
  "language_info": {
   "codemirror_mode": {
    "name": "ipython",
    "version": 3
   },
   "file_extension": ".py",
   "mimetype": "text/x-python",
   "name": "python",
   "nbconvert_exporter": "python",
   "pygments_lexer": "ipython3",
   "version": "3.4.3"
  }
 },
 "nbformat": 4,
 "nbformat_minor": 0
}
