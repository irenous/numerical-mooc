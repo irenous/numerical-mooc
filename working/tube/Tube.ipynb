{
 "cells": [
  {
   "cell_type": "markdown",
   "metadata": {},
   "source": [
    "## Sod's Test Problem : The Shock Tube\n",
    "\n",
    "##### Assignment\n",
    "##### Laurent Pétré & Ilan Renous"
   ]
  },
  {
   "cell_type": "markdown",
   "metadata": {},
   "source": [
    "We are going to describe the evolution of the pressure, the speed and density of a gaz in a shock tube using the Richtemyer method. Let's get strated!"
   ]
  },
  {
   "cell_type": "code",
   "execution_count": null,
   "metadata": {
    "collapsed": true
   },
   "outputs": [],
   "source": [
    "# We import the libraries we will need\n",
    "import numpy as npy\n",
    "import matplotlib.pyplot as plt\n",
    "%matplotlib inline\n",
    "from JSAnimation.IPython_display import display_animation\n",
    "import matplotlib.animation as anim"
   ]
  },
  {
   "cell_type": "markdown",
   "metadata": {},
   "source": [
    "### The shock Tube"
   ]
  },
  {
   "cell_type": "markdown",
   "metadata": {},
   "source": [
    "A shock tube is an idealized device that generates a one-dimensional shock wave in a compressible gas. The setting allows an analytical solution of the Euler equations, which is very useful for comparing with the numerical results to assess their accuracy.\n",
    "\n",
    "It consist in a tube separated in two part by a infinitely thin, rigid diaphragm. The regions on both side of that separation have different initial pressure and density and the gas is initailly at rest. At time $t = 0.0 s$, the diaphragm is ruptured instantaneously. An unsteady flow is thus establish consisting of:\n",
    "\n",
    "* a shock wave traveling to the right\n",
    "* an expansion wave traveling to the left\n",
    "* a moving contact discontinuity\n",
    "\n",
    "This problem can be illustared as follow:\n",
    "![shocktube](../../lessons/03_wave/figures/shocktube.png)"
   ]
  },
  {
   "cell_type": "markdown",
   "metadata": {},
   "source": [
    "###  Sock Tube's Equations "
   ]
  },
  {
   "cell_type": "markdown",
   "metadata": {},
   "source": [
    "Using Euler equation for a inviscid fluid with density $\\rho$, speed $u$ and pressure $p$, that consist of the conservation laws of mass and momentum, and the energy equation, we get:\n",
    "\n",
    "$$\n",
    "\\frac{\\partial }{\\partial t} \\vec{\\mathbf{u}} + \\frac{\\partial }{\\partial x} \\vec{\\mathbf{f}} = 0\n",
    "$$\n",
    "\n",
    "where $$\n",
    "\\vec{\\mathbf{u}} = \\left[ \\begin{array}{c}\n",
    "\\rho \\\\\n",
    "\\rho u \\\\\n",
    "\\rho e_T \\\\ \n",
    "\\end{array} \\right]$$\n",
    "\n",
    "and $$\n",
    "\\vec{\\mathbf{f}} = \\left[ \\begin{array}{c}\n",
    "\\rho u \\\\\n",
    "\\rho u^2 + p \\\\\n",
    "(\\rho e_T + p) u \\\\ \\end{array} \\right]\n",
    "$$\n",
    "\n",
    "Using now the equation state of an ideal gas, which is\n",
    "\n",
    "$$e = e(\\rho, p) = \\frac{p}{(\\gamma -1) \\rho},$$\n",
    "\n",
    "where $\\gamma = 1.4$ is a reasonable value to model air.\n",
    "\n",
    "We can now express $p$ as \n",
    "\n",
    "$$p = (\\gamma -1)\\left(\\rho e_T - \\frac{\\rho u^2}{2}\\right).$$\n",
    "\n",
    "Now, we need to express  $ \\vec{\\mathbf{f}}= \n",
    "\\left[ \\begin{array}{c}\n",
    "f_1 \\\\\n",
    "f_2 \\\\\n",
    "f_3 \\\\ \\end{array} \\right]$ in terms of $\\vec{\\mathbf{u}} = \n",
    "\\left[ \\begin{array}{c}\n",
    "u_1 \\\\\n",
    "u_2 \\\\\n",
    "u_3 \\\\ \n",
    "\\end{array} \\right]$\n",
    "\n",
    "Using the expressions above and after some algebraic manipulations, we finaly get\n",
    "\n",
    "$$\\vec{\\mathbf{f}} = \\left[ \\begin{array}{c}\n",
    "f_1 \\\\\n",
    "f_2 \\\\\n",
    "f_3 \\\\ \\end{array} \\right] =\n",
    "\\left[ \\begin{array}{c}\n",
    "u_2\\\\\n",
    "\\frac{u^2_2}{u_1} + (\\gamma -1)\\left(u_3 - \\frac{1}{2} \\frac{u^2_2}{u_1} \\right) \\\\\n",
    "\\left(u_3 + (\\gamma -1)\\left(u_3 - \\frac{1}{2} \\frac{u^2_2}{u_1}\\right) \\right) \\frac{u_2}{u_1}\\\\ \\end{array}\n",
    "\\right]$$\n",
    "\n"
   ]
  },
  {
   "cell_type": "markdown",
   "metadata": {},
   "source": [
    "##### Implementation"
   ]
  },
  {
   "cell_type": "markdown",
   "metadata": {},
   "source": [
    "To solve the problem in Python, we will need to define the vector $\\vec{f}$ which is a function of vector $\\vec{u}$ :"
   ]
  },
  {
   "cell_type": "code",
   "execution_count": null,
   "metadata": {
    "collapsed": true
   },
   "outputs": [],
   "source": [
    "def f(u, gamma = 1.4):\n",
    "    \"\"\"\n",
    "    Returns the flux and corresponding values for \n",
    "    given density, velocity and pressure.\n",
    "    \n",
    "    Parameters\n",
    "    ----------\n",
    "    u: array[N, 3] of floats\n",
    "        array of N values of density, velocity and pressure\n",
    "        \n",
    "    gamma: float\n",
    "        constant of the gas used in the problem\n",
    "\n",
    "    Returns\n",
    "    -------\n",
    "    f_u: array[N, 3] of floats\n",
    "        computed value for flux and corresonding values\n",
    "    \"\"\"\n",
    "\n",
    "    f_u = npy.empty_like(u)\n",
    "\n",
    "    f_u[:,0] = u[:,1]\n",
    "    f_u[:,1] = (u[:,1]**2)/u[:,0] + \\\n",
    "        (gamma - 1)*(u[:,2] - 0.5*((u[:,1]**2)/u[:,0]))\n",
    "    f_u[:,2] = (u[:,2] + \\\n",
    "                (gamma - 1)*(u[:,2] - 0.5*((u[:,1]**2)/u[:,0]))\\\n",
    "               )*(u[:,1]/u[:,0])\n",
    "\n",
    "    return f_u"
   ]
  },
  {
   "cell_type": "markdown",
   "metadata": {},
   "source": [
    "### Initial conditions"
   ]
  },
  {
   "cell_type": "markdown",
   "metadata": {},
   "source": [
    "In a tube spanning from $x = -10 \\text{m}$ to $x = 10 \\text{m}$ with the rigid membrane at $x = 0 \\text{m}$, we have the following initial gas states:\n",
    "\n",
    "$$\\vec{IC}_L = \\left[ \\begin{array}{c}\n",
    "\\rho_L \\\\ u_L \\\\ p_L \\\\ \\end{array}\\right] = \n",
    "\\left[ \\begin{array}{c}\n",
    "1\\ kg/m^3 \\\\ 0\\ m/s \\\\ 100\\ kN/m^2 \\\\ \\end{array}\\right]$$\n",
    "\n",
    "$$\\vec{IC}_R = \\left[ \\begin{array}{c}\n",
    "\\rho_R \\\\ u_R \\\\ p_R \\\\ \\end{array}\\right] = \n",
    "\\left[ \\begin{array}{c}\n",
    "0.125\\ kg/m^3 \\\\ 0\\ m/s \\\\ 10\\ kN/m^2 \\\\ \\end{array}\\right]$$\n",
    "\n",
    "where $\\vec{IC}_L$ are the initial density, velocity and pressure on the left side of the tube membrane and $\\vec{IC}_R$ are the initial density, velocity and pressure on the right side of the tube membrane."
   ]
  },
  {
   "cell_type": "markdown",
   "metadata": {},
   "source": [
    "##### Implementation"
   ]
  },
  {
   "cell_type": "markdown",
   "metadata": {},
   "source": [
    "In Python, that gives us :"
   ]
  },
  {
   "cell_type": "code",
   "execution_count": null,
   "metadata": {
    "collapsed": false
   },
   "outputs": [],
   "source": [
    "# Initial conditions in terms of density, speed and pressure\n",
    "ICL = npy.array([1, 0, 100000])\n",
    "ICR = npy.array([0.125, 0, 10000])"
   ]
  },
  {
   "cell_type": "markdown",
   "metadata": {},
   "source": [
    "### The Richtmyer method"
   ]
  },
  {
   "cell_type": "markdown",
   "metadata": {},
   "source": [
    "To solve this problem, we are going tu use the Richtmyer method, which is given by:\n",
    "\n",
    "$$\n",
    "\\vec{\\mathbf{u}}^{n+\\frac{1}{2}}_{i+\\frac{1}{2}} = \\frac{1}{2} \\left( \\vec{\\mathbf{u}}^n_{i+1} + \\vec{\\mathbf{u}}^n_i \\right) - \n",
    "\\frac{\\Delta t}{2 \\Delta x} \\left( \\vec{\\mathbf{f}}^n_{i+1} - \\vec{\\mathbf{f}}^n_i\\right) $$ $$\n",
    "\\vec{\\mathbf{u}}^{n+1}_i = \\vec{\\mathbf{u}}^n_i - \\frac{\\Delta t}{\\Delta x} \\left(\\vec{\\mathbf{f}}^{n+\\frac{1}{2}}_{i+\\frac{1}{2}} - \\vec{\\mathbf{f}}^{n+\\frac{1}{2}}_{i-\\frac{1}{2}} \\right)\n",
    "$$\n",
    "\n",
    "\n",
    "The flux vectors used in the second step are obtained by evaluating the flux functions on the output of the first step:\n",
    "\n",
    "$$\\vec{\\mathbf{f}}^{n+\\frac{1}{2}}_{i+\\frac{1}{2}} = \\vec{\\mathbf{f}}\\left(\\vec{\\mathbf{u}}^{n+\\frac{1}{2}}_{i+\\frac{1}{2}}\\right).$$"
   ]
  },
  {
   "cell_type": "markdown",
   "metadata": {},
   "source": [
    "##### Implementation"
   ]
  },
  {
   "cell_type": "code",
   "execution_count": null,
   "metadata": {
    "collapsed": true
   },
   "outputs": [],
   "source": [
    "def solve(u, f, dt, dx, nt):\n",
    "    \"\"\"\n",
    "    Compute the solution of the partial differential equation : \n",
    "    du/dt + df(u)/dx = 0 using Richtmeyer method.\n",
    "    \n",
    "    Parameters\n",
    "    ----------\n",
    "    u: array[nt+1, N, M] of floats\n",
    "        array used to save the datas\n",
    "        initial condition must be set in u[0, :, :]\n",
    "\n",
    "    f(u): function of an array of floats returning an array of floats\n",
    "        see de definition of the PDE\n",
    "\n",
    "    dt: float\n",
    "        time step\n",
    "\n",
    "    dx: float\n",
    "        space step\n",
    "\n",
    "    nt: integer\n",
    "        number of iterations\n",
    "    \"\"\"\n",
    "\n",
    "    uh = u[0].copy()\n",
    "\n",
    "    for n in range(0, nt):\n",
    "        Fn = f(u[n])\n",
    "\n",
    "        # Predictor\n",
    "        uh[:-1] = 0.5*(u[n, 1:]+u[n, :-1]) - 0.5*dt/dx*(Fn[1:]-Fn[:-1])\n",
    "        Fnh = f(uh)\n",
    "\n",
    "        # Corrector\n",
    "        u[n+1, 1:] = (u[n, 1:] - dt/dx*(Fnh[1:]-Fnh[:-1]))\n",
    "        u[n+1, 0] = u[0, 0]"
   ]
  },
  {
   "cell_type": "markdown",
   "metadata": {},
   "source": [
    "### Simulation"
   ]
  },
  {
   "cell_type": "markdown",
   "metadata": {},
   "source": [
    "Now, we have all the tools to solve the problem."
   ]
  },
  {
   "cell_type": "code",
   "execution_count": null,
   "metadata": {
    "collapsed": false
   },
   "outputs": [],
   "source": [
    "# Simulation conditions\n",
    "dx = 0.25\n",
    "nx = 81\n",
    "x = npy.linspace(-10, 10, nx)\n",
    "\n",
    "dt = 0.0002\n",
    "t_to_sim = 0.01\n",
    "nt = int(t_to_sim/dt)\n",
    "\n",
    "gamma = 1.4\n",
    "\n",
    "# Initial conditions in the form of u\n",
    "u0 = npy.empty((nx,3))\n",
    "u0[:40, 0] = ICL[0]\n",
    "u0[40:, 0] = ICR[0]\n",
    "u0[:40, 1] = ICL[0]*ICL[1]\n",
    "u0[40:, 1] = ICR[0]*ICR[1]\n",
    "u0[:40, 2] =  ICL[2]/(gamma - 1) + 0.5*ICL[0]*ICL[1]**2\n",
    "u0[40:, 2] = ICR[2]/(gamma - 1) + 0.5*ICR[0]*ICR[1]**2\n",
    "\n",
    "# Array to save the datas\n",
    "u = npy.empty((nt+1, nx, 3))\n",
    "u[0] = u0.copy()\n",
    "\n",
    "# Solving\n",
    "solve(u, f, dt, dx, nt)\n",
    "\n",
    "# Output\n",
    "u_out = u[nt, 50, :]\n",
    "print(\"Density : \", u_out[0])\n",
    "print(\"Velocity : \", u_out[1]/u_out[0])\n",
    "print(\"Pressure : \", (u_out[2] - \\\n",
    "    0.5*u_out[0]*(u_out[1]/u_out[0])**2)*(gamma - 1))"
   ]
  },
  {
   "cell_type": "markdown",
   "metadata": {},
   "source": [
    "### Animation"
   ]
  },
  {
   "cell_type": "markdown",
   "metadata": {},
   "source": [
    "Let's take a look at the evolution of our variables with some animations."
   ]
  },
  {
   "cell_type": "markdown",
   "metadata": {},
   "source": [
    "Here is an animation of the evolution of the velocity of the gas along the tube."
   ]
  },
  {
   "cell_type": "code",
   "execution_count": null,
   "metadata": {
    "collapsed": false
   },
   "outputs": [],
   "source": [
    "# Function used to create the line at each moment\n",
    "def animate(y):\n",
    "    line.set_data(x, y)\n",
    "\n",
    "# Creation of the animation for velocity\n",
    "fig = plt.figure()\n",
    "ax = plt.axes(xlim=(-10, 10), ylim=(0, 500),xlabel=('Distance'),ylabel=('speed'));\n",
    "line = ax.plot([], [])[0]\n",
    "\n",
    "anim.FuncAnimation(fig, animate, frames=u[:,:,1]/u[:,:,0], interval=80)"
   ]
  },
  {
   "cell_type": "markdown",
   "metadata": {},
   "source": [
    "Here is an animation of the evolution of the pressure of the gas along the tube."
   ]
  },
  {
   "cell_type": "code",
   "execution_count": null,
   "metadata": {
    "collapsed": false
   },
   "outputs": [],
   "source": [
    "# Creation of the animation for pressure\n",
    "fig = plt.figure()\n",
    "ax = plt.axes(xlim=(-10, 10), ylim=(0, 120000),xlabel=('Distance'),ylabel=('pressure'));\n",
    "line = ax.plot([], [])[0]\n",
    "\n",
    "anim.FuncAnimation(fig, animate, \\\n",
    "    frames=((u[:, :, 2] - \\\n",
    "    0.5*u[:, :, 0]*(u[:, :, 1]/u[:, :, 0])**2)*(gamma - 1)), \\\n",
    "    interval=80)"
   ]
  },
  {
   "cell_type": "markdown",
   "metadata": {},
   "source": [
    "Here is an animation of the evolution of the density of the gas along the tube."
   ]
  },
  {
   "cell_type": "code",
   "execution_count": null,
   "metadata": {
    "collapsed": false
   },
   "outputs": [],
   "source": [
    "# Creation of the animation for density\n",
    "fig = plt.figure()\n",
    "ax = plt.axes(xlim=(-10, 10), ylim=(0, 1.2),xlabel=('Distance'),ylabel=('density'));\n",
    "line = ax.plot([], [])[0]\n",
    "\n",
    "anim.FuncAnimation(fig, animate, frames=u[:,:,0], interval=80)"
   ]
  },
  {
   "cell_type": "markdown",
   "metadata": {},
   "source": [
    "## Conclusion\n"
   ]
  },
  {
   "cell_type": "markdown",
   "metadata": {},
   "source": [
    "Our solutions seem legit from a physical perspective. Indeed, we can see the high pressure and high density gas flowing, as a shock wave, through the low pressure gas as the system goes towards an equilibrium. We can also discern the expansion wave traveling to the left.\n",
    "\n",
    "Our animations let us see how the limits of the numerical methods at the edges of the shock waves influence our results. Let's compare our results, with the Richtmyer method, to the analytic results of this problem shown in the picture below.\n",
    "\n",
    "![shock_analytic](../../lessons/03_wave/figures/shock_tube_.01.png)\n",
    "\n",
    "As we see, our method has some limitation, especially on the edge of the shock wave. Nevertheless, the overall result is pretty close to the analytical results in a first approximation."
   ]
  },
  {
   "cell_type": "markdown",
   "metadata": {},
   "source": [
    "##### Source\n",
    "\n",
    "(1) We used the following lectures https://github.com/numerical-mooc/numerical-mooc available under Creative Commons Attribution license CC-BY 4.0, (c)2014 L.A. Barba, C. Cooper, G.F. Forsyth, A. Krishnan."
   ]
  },
  {
   "cell_type": "markdown",
   "metadata": {},
   "source": [
    "---\n",
    "###### The cell below loads the style of this notebook. "
   ]
  },
  {
   "cell_type": "code",
   "execution_count": null,
   "metadata": {
    "collapsed": false
   },
   "outputs": [],
   "source": [
    "# Execute this cell to load the notebook's style sheet, then ignore it\n",
    "from IPython.core.display import HTML\n",
    "css_file = '../../styles/numericalmoocstyle.css'\n",
    "HTML(open(css_file, \"r\").read())"
   ]
  },
  {
   "cell_type": "code",
   "execution_count": null,
   "metadata": {
    "collapsed": true
   },
   "outputs": [],
   "source": []
  }
 ],
 "metadata": {
  "kernelspec": {
   "display_name": "Python 3",
   "language": "python",
   "name": "python3"
  },
  "language_info": {
   "codemirror_mode": {
    "name": "ipython",
    "version": 3
   },
   "file_extension": ".py",
   "mimetype": "text/x-python",
   "name": "python",
   "nbconvert_exporter": "python",
   "pygments_lexer": "ipython3",
   "version": "3.4.3"
  }
 },
 "nbformat": 4,
 "nbformat_minor": 0
}
