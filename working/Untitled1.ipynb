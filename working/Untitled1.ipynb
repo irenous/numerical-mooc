{
 "cells": [
  {
   "cell_type": "code",
   "execution_count": 3,
   "metadata": {
    "collapsed": false
   },
   "outputs": [
    {
     "name": "stdout",
     "output_type": "stream",
     "text": [
      "5195\n",
      "[[ 0.          0.          0.         ...,  0.          0.          0.        ]\n",
      " [ 0.025       0.00311408 -0.00715178 ..., -0.00715178  0.00311408  0.025     ]\n",
      " [ 0.05        0.00396704 -0.024129   ..., -0.024129    0.00396704  0.05      ]\n",
      " ..., \n",
      " [ 0.95        0.06988006 -0.41244296 ..., -0.41244296  0.06988006  0.95      ]\n",
      " [ 0.975       0.30591225  0.07398561 ...,  0.07398561  0.30591225  0.975     ]\n",
      " [ 1.          1.          1.         ...,  1.          1.          1.        ]]\n",
      "6.00684370812\n",
      "5600.0\n",
      "[ 0.8   -3.865 -5.004 -5.004 -3.865  0.8  ]\n"
     ]
    }
   ],
   "source": [
    "from matplotlib import pyplot\n",
    "import numpy\n",
    "\n",
    "from matplotlib import rcParams\n",
    "rcParams['font.family'] = 'serif'\n",
    "rcParams['font.size'] = 16\n",
    "from mpl_toolkits.mplot3d import Axes3D\n",
    "from matplotlib import cm\n",
    "\n",
    "# variables declaration\n",
    "nx=41\n",
    "ny=41\n",
    "\n",
    "x=numpy.linspace(0,l,nx)\n",
    "y=numpy.linspace(0,h,ny)\n",
    "\n",
    "l=1\n",
    "h=1\n",
    "u=1\n",
    "\n",
    "dx=l/(nx-1)\n",
    "dy=h/(ny-1)\n",
    "l1_target = 1e-6\n",
    "\n",
    "\n",
    "w=numpy.zeros((nx,ny))\n",
    "psi=numpy.zeros((nx,ny))\n",
    "\n",
    "for j in range(0,nx):\n",
    "    psi[:,j]=u*y[:]\n",
    "\n",
    "def L1norm(new, old):\n",
    "    norm = numpy.sum(numpy.abs(new-old))\n",
    "    return norm\n",
    "\n",
    "def stokes_system(w,psi,l1_target,dx,dy,u):\n",
    "    iteration=0\n",
    "    stop1=1\n",
    "    stop2=1\n",
    "\n",
    "    while(stop1>l1_target or stop2>l1_target):\n",
    "\n",
    "        psin=psi.copy()\n",
    "        wn=w.copy()\n",
    "\n",
    "        w[1:-1,1:-1]=.25*(wn[2:,1:-1]+wn[:-2,1:-1]+wn[1:-1,:-2]+wn[1:-1,2:])\n",
    "\n",
    "\n",
    "        psi[1:-1:,1:-1]= 1/(2*(dx**2 + dy**2))* \\\n",
    "                ((dx**2)*(dy**2)*wn[1:-1,1:-1] # <------------\n",
    "                            +(psin[2:,1:-1] \\\n",
    "                             +psin[:-2,1:-1]+psin[1:-1,:-2]+psin[1:-1,2:])*dx**2) # <---------\n",
    "\n",
    "        w[-1 ,:]=(-1/(2*(dy)**2))*(8*psi[-2,:]-psi[-3,:])-(3*u)/dy # <----\n",
    "        w[:,0]=(-1/(2*(dy)**2))*(8*psi[:,1]-psi[:,2])\n",
    "        w[0,:]=(-1/(2*(dy)**2))*(8*psi[1,:]-psi[2,:])\n",
    "        w[:,-1]=(-1/(2*(dy)**2))*(8*psi[:,-2]-psi[:,-3]) # <--------\n",
    "\n",
    "        stop1=L1norm(psi,psin)\n",
    "        stop2=L1norm(w,wn)\n",
    "        iteration+=1\n",
    "\n",
    "    return psi, iteration\n",
    "\n",
    "psik,iteration = stokes_system(w,psi,l1_target,dx,dy,u)\n",
    "\n",
    "print(iteration)\n",
    "print(psik)\n",
    "\n",
    "\n",
    "print(numpy.amax(numpy.abs(psi)))\n",
    "print(numpy.amax(numpy.abs(w)))\n",
    "print(numpy.round(psi[32,::8], 4))\n"
   ]
  },
  {
   "cell_type": "code",
   "execution_count": null,
   "metadata": {
    "collapsed": true
   },
   "outputs": [],
   "source": [
    " 0.     -0.0575 -0.0944 -0.0944 -0.0575  0.    "
   ]
  }
 ],
 "metadata": {
  "kernelspec": {
   "display_name": "Python 3",
   "language": "python",
   "name": "python3"
  },
  "language_info": {
   "codemirror_mode": {
    "name": "ipython",
    "version": 3
   },
   "file_extension": ".py",
   "mimetype": "text/x-python",
   "name": "python",
   "nbconvert_exporter": "python",
   "pygments_lexer": "ipython3",
   "version": "3.4.4"
  }
 },
 "nbformat": 4,
 "nbformat_minor": 0
}
