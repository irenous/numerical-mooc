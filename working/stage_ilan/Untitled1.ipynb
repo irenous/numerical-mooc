{
 "cells": [
  {
   "cell_type": "code",
   "execution_count": 91,
   "metadata": {
    "collapsed": false
   },
   "outputs": [
    {
     "name": "stdout",
     "output_type": "stream",
     "text": [
      "w3= 13.4586220786\n"
     ]
    }
   ],
   "source": [
    "#we import the libraries \n",
    "from matplotlib import pyplot\n",
    "import numpy\n",
    "%matplotlib inline\n",
    "from matplotlib import rcParams\n",
    "rcParams['font.family'] = 'serif'\n",
    "rcParams['font.size'] = 16\n",
    "from mpl_toolkits.mplot3d import Axes3D\n",
    "from matplotlib import cm\n",
    "import matplotlib.image as mpimg\n",
    "print(\"w3=\",w3[15,15])"
   ]
  },
  {
   "cell_type": "code",
   "execution_count": 92,
   "metadata": {
    "collapsed": true
   },
   "outputs": [],
   "source": [
    "def L1norm(new, old):\n",
    "    '''compute the norm between psi(k+1) and psi(k)\n",
    "    \n",
    "    Parameters:\n",
    "    ----------\n",
    "    new : 2D array of floats\n",
    "        psi(k+1)\n",
    "    old: 2D array of floats\n",
    "        psi(k)\n",
    "        \n",
    "    Returns:\n",
    "    -------\n",
    "    norm: float\n",
    "        norm between psi(k) and psi(k+1)\n",
    "    ''' \n",
    "    norm = numpy.sum(numpy.abs(new-old))\n",
    "    return norm\n"
   ]
  },
  {
   "cell_type": "code",
   "execution_count": 93,
   "metadata": {
    "collapsed": false
   },
   "outputs": [],
   "source": [
    "# resolution \n",
    "nx=41\n",
    "ny=41\n",
    "    \n",
    "# cavity of length l and height h\n",
    "l=1\n",
    "h=1\n",
    "\n",
    "# speed of the flow u\n",
    "u=1\n",
    "\n",
    "#dimension of the central square\n",
    "r=int((nx-1)/10)\n",
    "#position of the center of the square\n",
    "xi=int((nx-1)/2)\n",
    "yi=int((ny-1)/2)\n",
    "\n",
    "#grid\n",
    "x=numpy.linspace(0,l,nx)\n",
    "y=numpy.linspace(0,h,ny)\n",
    "#grid mesh\n",
    "dx=l/(nx-1)\n",
    "dy=h/(ny-1)\n",
    "\n",
    "#norm target\n",
    "l1_target = 1e-6\n",
    "\n",
    "#potential flow\n",
    "w=numpy.zeros((nx,ny))\n",
    "psi=numpy.zeros((nx,ny))"
   ]
  },
  {
   "cell_type": "code",
   "execution_count": 94,
   "metadata": {
    "collapsed": true
   },
   "outputs": [],
   "source": [
    "gw3=numpy.zeros((nx,ny))\n",
    "gw2=numpy.zeros((nx,ny))\n",
    "gw1=numpy.zeros((nx,ny))"
   ]
  },
  {
   "cell_type": "code",
   "execution_count": 95,
   "metadata": {
    "collapsed": false
   },
   "outputs": [],
   "source": [
    "#values of psi=u*y on the cavity's boundaries\n",
    "psi[:,0]=u*y[:]\n",
    "psi[:,-1]=u*y[:]\n",
    "psi[-1,:]=u*y[-1]\n",
    "psi[0,:]=u*y[0]"
   ]
  },
  {
   "cell_type": "code",
   "execution_count": 96,
   "metadata": {
    "collapsed": true
   },
   "outputs": [],
   "source": [
    "def BCs_obstacle2(w,psi,y,xi,yi,r,h,u):\n",
    "    '''BCs for a square obstacle in the middle of the grid and uniform speed u at the edge of the cavity\n",
    "    \n",
    "    Parameters:\n",
    "    ----------\n",
    "    w : 2D array of floats\n",
    "        w on the Boundaries\n",
    "    psi: 2D array of floats\n",
    "        psi on the Boundaries\n",
    "    xi: float\n",
    "        middle of the x axis\n",
    "    yi: float\n",
    "        middle of the y axis\n",
    "    r: float\n",
    "        1/2 side of the cube\n",
    "    h: float\n",
    "        height of the cavity\n",
    "    u: float\n",
    "        speed of the flow on the on the edge of the cavity\n",
    "    \n",
    "    Returns:\n",
    "    -------\n",
    "    psi: 2D array of float\n",
    "        Distribution after BCs\n",
    "    w: 2D array of float\n",
    "        Distribution after BCs\n",
    "    ''' \n",
    "\n",
    "    #BCs cavity\n",
    "        \n",
    "    w[-1,:]= (-1/dx**2)*(6*dy*u-7*psi[-1,:]+8*psi[-2,:]-psi[-3,:])\n",
    "    w[0,:]= (-1/dx**2)*(-6*dy*u-7*psi[0,:]+8*psi[1,:]-psi[2,:])\n",
    "    w[:,0]= (-1/dx**2)*(-7*psi[:,0]+8*psi[:,1]-psi[:,2])\n",
    "    w[:,-1]= (-1/dx**2)*(-7*psi[:,-1]+8*psi[:,-2]-psi[:,-3])\n",
    "    \n",
    "    #BCs square\n",
    "    w[yi-r,xi-r:xi+r+1]=(-1/(2*(dy)**2))*(8*psi[yi-r-1,xi-r:xi+r+1]-psi[yi-r-2,xi-r:xi+r+1])\n",
    "    w[yi-r:yi+r+1,xi-r]=(-1/(2*(dy)**2))*(8*psi[yi-r:yi+r+1,xi-r-1]-psi[yi-r:yi+r+1,xi-r-2])\n",
    "    w[yi+r,xi-r:xi+r+1]=(-1/(2*(dy)**2))*(8*psi[yi+r+1,xi-r:xi+r+1]-psi[yi+r+2,xi-r:xi+r+1])\n",
    "    w[yi-r:yi+r+1,xi+r]=(-1/(2*(dy)**2))*(8*psi[yi-r:yi+r+1,xi+r+1]-psi[yi-r:yi+r+1,xi+r+2])\n",
    "        \n",
    "    return psi,w"
   ]
  },
  {
   "cell_type": "code",
   "execution_count": 97,
   "metadata": {
    "collapsed": true
   },
   "outputs": [],
   "source": [
    "def stokes_system(r,xi,yi,h,nx,ny,w,psi,l1_target,dx,dy,u,y,boundary):\n",
    "    '''Performs Jacobi relaxation for the cavity flow\n",
    "    \n",
    "    Parameters:\n",
    "    ----------\n",
    "    w : 2D array of floats\n",
    "        Initial guess\n",
    "    psi: 2D array of floats\n",
    "        Initial guess\n",
    "    dx: float\n",
    "        Mesh spacing in x direction\n",
    "    dy: float\n",
    "        Mesh spacing in y direction\n",
    "    l1_target: float\n",
    "        Target difference between two consecutive iterates\n",
    "    boundary: integer\n",
    "        determine the BCS function tu use\n",
    "    Returns:\n",
    "    -------\n",
    "    psi: 2D array of float\n",
    "        Distribution after relaxation\n",
    "    iteration: number of iteration\n",
    "    ''' \n",
    "    iteration=0\n",
    "    stop1=1\n",
    "    stop2=1\n",
    "    psin = numpy.empty_like(psi)\n",
    "    wn= numpy.empty_like(w)\n",
    "    \n",
    "    while(stop1>l1_target or stop2>l1_target):\n",
    "        \n",
    "        psin=psi.copy()\n",
    "        wn=w.copy()\n",
    "        w[1:-1,1:-1]=.25*(wn[2:,1:-1]+wn[:-2,1:-1]+w[1:-1,:-2]+wn[1:-1,2:])\n",
    "        \n",
    "        psi[1:-1:,1:-1]=.25*((dx**2)*wn[1:-1,1:-1]+psin[2:,1:-1] \\\n",
    "                             +psin[:-2,1:-1]+psi[1:-1,:-2]+psin[1:-1,2:]) \n",
    "        \n",
    "        #BCs function to use\n",
    "        if boundary==1:\n",
    "            psi,w = BCs_obstacle1(w,psi,y,xi,yi,r,h,u)\n",
    "        elif boundary==2:    \n",
    "            psi,w = BCs_obstacle2(w,psi,y,xi,yi,r,h,u)  \n",
    "        elif boundary==3:   \n",
    "            psi,w = BCs_obstacle3(w,psi,y,xi,yi,r,h,u)\n",
    "        \n",
    "        stop1=L1norm(psi,psin)\n",
    "        stop2=L1norm(w,wn)\n",
    "        iteration+=1\n",
    "        \n",
    "    return w,psi, iteration"
   ]
  },
  {
   "cell_type": "code",
   "execution_count": 98,
   "metadata": {
    "collapsed": true
   },
   "outputs": [],
   "source": [
    "def BCs_obstacle3(w,psi,y,xi,yi,r,h,u):\n",
    "    '''BCs for a square obstacle in the middle of the grid and uniform speed u at the edge of the cavity\n",
    "    \n",
    "    Parameters:\n",
    "    ----------\n",
    "    w : 2D array of floats\n",
    "        w on the Boundaries\n",
    "    psi: 2D array of floats\n",
    "        psi on the Boundaries\n",
    "    xi: float\n",
    "        middle of the x axis\n",
    "    yi: float\n",
    "        middle of the y axis\n",
    "    r: float\n",
    "        1/2 side of the cube\n",
    "    h: float\n",
    "        height of the cavity\n",
    "    u: float\n",
    "        speed of the flow on the on the edge of the cavity\n",
    "    \n",
    "    Returns:\n",
    "    -------\n",
    "    psi: 2D array of float\n",
    "        Distribution after BCs\n",
    "    w: 2D array of float\n",
    "        Distribution after BCs\n",
    "    ''' \n",
    "\n",
    "    #BCs cavity\n",
    "        \n",
    "    w[-1,:]= (-1/dx**2)*(6*dy*u-7*psi[-1,:]+8*psi[-2,:]-psi[-3,:])\n",
    "    w[0,:]= (-1/dx**2)*(-6*dy*u-7*psi[0,:]+8*psi[1,:]-psi[2,:])\n",
    "    w[:,0]= (-1/dx**2)*(-7*psi[:,0]+8*psi[:,1]-psi[:,2])\n",
    "    w[:,-1]= (-1/dx**2)*(-7*psi[:,-1]+8*psi[:,-2]-psi[:,-3])\n",
    "    \n",
    "    #BCs square\n",
    "    w[yi-r,xi-r:xi+r+1]=(-1/(2*(dy)**2))*(8*psi[yi-r-1,xi-r:xi+r+1]-7*u*(h/2)-psi[yi-r-2,xi-r:xi+r+1])\n",
    "    w[yi-r:yi+r+1,xi-r]=(-1/(2*(dy)**2))*(8*psi[yi-r:yi+r+1,xi-r-1]-7*u*(h/2)-psi[yi-r:yi+r+1,xi-r-2])\n",
    "    w[yi+r,xi-r:xi+r+1]=(-1/(2*(dy)**2))*(8*psi[yi+r+1,xi-r:xi+r+1]-7*u*(h/2)-psi[yi+r+2,xi-r:xi+r+1])\n",
    "    w[yi-r:yi+r+1,xi+r]=(-1/(2*(dy)**2))*(8*psi[yi-r:yi+r+1,xi+r+1]-7*u*(h/2)-psi[yi-r:yi+r+1,xi+r+2])\n",
    "        \n",
    "    return psi,w"
   ]
  },
  {
   "cell_type": "code",
   "execution_count": 99,
   "metadata": {
    "collapsed": false
   },
   "outputs": [
    {
     "name": "stdout",
     "output_type": "stream",
     "text": [
      "number of iterations = 1934\n",
      "gw2= -13.5211988629\n",
      "w3= 13.4586220786\n"
     ]
    }
   ],
   "source": [
    "#we choose the second BCs function\n",
    "boundary=2\n",
    "\n",
    "#compute psi\n",
    "w2,psi2,iteration = stokes_system(r,xi,yi,h,nx,ny,w,psi,l1_target,dx,dy,u,y,boundary)\n",
    "gw2=w2\n",
    "print(\"number of iterations =\",iteration)\n",
    "print(\"gw2=\",gw2[15,15])\n",
    "print(\"w3=\",w3[15,15])"
   ]
  },
  {
   "cell_type": "code",
   "execution_count": 100,
   "metadata": {
    "collapsed": false
   },
   "outputs": [
    {
     "name": "stdout",
     "output_type": "stream",
     "text": [
      "number of iterations = 1884\n",
      "w3= 13.4586220786\n",
      "gw2= 13.4586220786\n"
     ]
    }
   ],
   "source": [
    "#we choose the third BCs function\n",
    "boundary=3\n",
    "\n",
    "#compute psi\n",
    "w3,psi3,iteration = stokes_system(r,xi,yi,h,nx,ny,w,psi,l1_target,dx,dy,u,y,boundary)\n",
    "print(\"number of iterations =\",iteration)\n",
    "print(\"w3=\",w3[15,15])\n",
    "print(\"gw2=\",gw2[15,15])"
   ]
  },
  {
   "cell_type": "code",
   "execution_count": null,
   "metadata": {
    "collapsed": true
   },
   "outputs": [],
   "source": []
  },
  {
   "cell_type": "code",
   "execution_count": null,
   "metadata": {
    "collapsed": true
   },
   "outputs": [],
   "source": []
  }
 ],
 "metadata": {
  "kernelspec": {
   "display_name": "Python 3",
   "language": "python",
   "name": "python3"
  },
  "language_info": {
   "codemirror_mode": {
    "name": "ipython",
    "version": 3
   },
   "file_extension": ".py",
   "mimetype": "text/x-python",
   "name": "python",
   "nbconvert_exporter": "python",
   "pygments_lexer": "ipython3",
   "version": "3.4.4"
  }
 },
 "nbformat": 4,
 "nbformat_minor": 0
}
