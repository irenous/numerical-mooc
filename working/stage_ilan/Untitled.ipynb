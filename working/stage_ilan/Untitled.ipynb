{
 "cells": [
  {
   "cell_type": "code",
   "execution_count": 21,
   "metadata": {
    "collapsed": false
   },
   "outputs": [
    {
     "name": "stdout",
     "output_type": "stream",
     "text": [
      "u= [  0.   4.   8.  12.  16.  20.  24.  28.  32.  36.]\n",
      "v= [ 1.  1.  1.  1.  1.  1.  1.  1.  1.  1.]\n",
      "u= [  0.   1.   1.   1.   1.   1.  24.  28.  32.  36.]\n"
     ]
    }
   ],
   "source": [
    "import numpy\n",
    "nx=10\n",
    "u=numpy.zeros(10)\n",
    "v=numpy.ones(10)\n",
    "j=0\n",
    "for i in range (0,10):\n",
    "    u[i]=i*4\n",
    "    j=j+1\n",
    "\n",
    "print(\"u=\",u)\n",
    "print(\"v=\",v)\n",
    "u[1:6]=v[1:6]\n",
    "print(\"u=\",u)"
   ]
  },
  {
   "cell_type": "code",
   "execution_count": null,
   "metadata": {
    "collapsed": true
   },
   "outputs": [],
   "source": []
  }
 ],
 "metadata": {
  "kernelspec": {
   "display_name": "Python 3",
   "language": "python",
   "name": "python3"
  },
  "language_info": {
   "codemirror_mode": {
    "name": "ipython",
    "version": 3
   },
   "file_extension": ".py",
   "mimetype": "text/x-python",
   "name": "python",
   "nbconvert_exporter": "python",
   "pygments_lexer": "ipython3",
   "version": "3.4.4"
  }
 },
 "nbformat": 4,
 "nbformat_minor": 0
}
