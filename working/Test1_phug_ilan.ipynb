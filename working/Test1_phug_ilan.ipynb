{
 "cells": [
  {
   "cell_type": "code",
   "execution_count": 1,
   "metadata": {
    "collapsed": true
   },
   "outputs": [],
   "source": [
    "import numpy\n",
    "import math\n",
    "from matplotlib import pyplot\n",
    "%matplotlib inline"
   ]
  },
  {
   "cell_type": "code",
   "execution_count": 2,
   "metadata": {
    "collapsed": true
   },
   "outputs": [],
   "source": [
    "T=1000\n",
    "dt=0.1\n",
    "N=int(T/dt)+1\n",
    "t=numpy.linspace(0.0,T,N)"
   ]
  },
  {
   "cell_type": "code",
   "execution_count": 23,
   "metadata": {
    "collapsed": false
   },
   "outputs": [],
   "source": [
    "h0=0\n",
    "v0=0\n",
    "mp0=100\n",
    "dmp0=-20\n",
    "ms=50\n",
    "g=9.81\n",
    "rho=1.061\n",
    "pi=math.pi\n",
    "A=pi*0.5**2\n",
    "ve=325\n",
    "Cd=0.15\n",
    "\n",
    "v=numpy.zeros([N])\n",
    "h=numpy.zeros([N])\n",
    "mp=numpy.zeros([N])\n",
    "dmp=numpy.zeros([N])\n",
    "mp[0]=mp0\n",
    "dmp[0]=dmp0\n",
    "v[0]=v0\n",
    "h[0]=h0"
   ]
  },
  {
   "cell_type": "code",
   "execution_count": 37,
   "metadata": {
    "collapsed": false
   },
   "outputs": [
    {
     "name": "stdout",
     "output_type": "stream",
     "text": [
      "0.0\n"
     ]
    }
   ],
   "source": [
    "n=1\n",
    "while mp[n-1]>0:\n",
    "    mp[n]=mp[n-1]+dmp[n-1]*dt\n",
    "    dmp[n]=dmp[n-1]\n",
    "    n=n+1 \n",
    "print(dmp[51])"
   ]
  },
  {
   "cell_type": "code",
   "execution_count": 31,
   "metadata": {
    "collapsed": false
   },
   "outputs": [
    {
     "name": "stdout",
     "output_type": "stream",
     "text": [
      "[ 0.          3.35233333  6.76417436 ...,         inf         inf\n",
      "         inf]\n"
     ]
    },
    {
     "name": "stderr",
     "output_type": "stream",
     "text": [
      "C:\\Users\\Ilan\\Anaconda3\\lib\\site-packages\\ipykernel\\__main__.py:2: RuntimeWarning: overflow encountered in double_scalars\n",
      "  from ipykernel import kernelapp as app\n"
     ]
    }
   ],
   "source": [
    "for i in range(1,N):\n",
    "    v[i]=v[i-1]-(g+dmp[n-1]*ve/(ms+mp[i-1])-\\\n",
    "    rho*v[i-1]*abs(v[i-1])*A*Cd/(ms+mp[i-1]))*dt\n",
    "print(v)"
   ]
  },
  {
   "cell_type": "code",
   "execution_count": 9,
   "metadata": {
    "collapsed": true
   },
   "outputs": [],
   "source": [
    "?abs"
   ]
  }
 ],
 "metadata": {
  "kernelspec": {
   "display_name": "Python 3",
   "language": "python",
   "name": "python3"
  },
  "language_info": {
   "codemirror_mode": {
    "name": "ipython",
    "version": 3
   },
   "file_extension": ".py",
   "mimetype": "text/x-python",
   "name": "python",
   "nbconvert_exporter": "python",
   "pygments_lexer": "ipython3",
   "version": "3.4.3"
  }
 },
 "nbformat": 4,
 "nbformat_minor": 0
}
