{
 "cells": [
  {
   "cell_type": "markdown",
   "metadata": {},
   "source": [
    "# Monte Carlo"
   ]
  },
  {
   "cell_type": "code",
   "execution_count": null,
   "metadata": {
    "collapsed": true
   },
   "outputs": [],
   "source": [
    "import numpy\n",
    "from matplotlib import pyplot\n",
    "%matplotlib inline"
   ]
  },
  {
   "cell_type": "markdown",
   "metadata": {},
   "source": [
    "## Random numbers"
   ]
  },
  {
   "cell_type": "markdown",
   "metadata": {},
   "source": [
    "### Built-in"
   ]
  },
  {
   "cell_type": "code",
   "execution_count": null,
   "metadata": {
    "collapsed": false
   },
   "outputs": [],
   "source": [
    "x = numpy.random.normal(loc=0, scale=1, size=100000)\n",
    "\n",
    "# Plot\n",
    "pyplot.xlim(-5, 5)\n",
    "\n",
    "binwidth = 0.2\n",
    "bins = numpy.arange(-5, 5, binwidth)\n",
    "pyplot.hist(x, bins, normed=True);\n",
    "\n",
    "#Expected\n",
    "bin_centers = bins[:-1] + binwidth/2\n",
    "pyplot.plot(bin_centers, numpy.exp(-bin_centers**2/2.0)/numpy.sqrt(2*numpy.pi))"
   ]
  },
  {
   "cell_type": "code",
   "execution_count": null,
   "metadata": {
    "collapsed": false
   },
   "outputs": [],
   "source": [
    "x = numpy.random.exponential(scale=4, size=100000)\n",
    "\n",
    "# Plot\n",
    "pyplot.xlim(0, 20)\n",
    "\n",
    "binwidth = 0.5\n",
    "bins = numpy.arange(0, 20, binwidth)\n",
    "pyplot.hist(x, bins, normed=True);\n",
    "\n",
    "#Expected\n",
    "bin_centers = bins[:-1] + binwidth/2\n",
    "pyplot.plot(bin_centers, (1/4)*numpy.exp(-(1/4)*bin_centers))"
   ]
  },
  {
   "cell_type": "markdown",
   "metadata": {},
   "source": [
    "### Box-Muller"
   ]
  },
  {
   "cell_type": "code",
   "execution_count": null,
   "metadata": {
    "collapsed": false
   },
   "outputs": [],
   "source": [
    "def gauss(avg, stdev):\n",
    "    # Implémentation de la méthode Box-Muller polaire\n",
    "    # Cette forme est plus rapide et plus précise autour des 0 des nombres aléatoires\n",
    "\n",
    "    s = 2.0\n",
    "    while ( (s == 0) or ( s>=1 ) ):\n",
    "            i = numpy.random.random_sample(2)\n",
    "            i[:] = i[:]*2 - 1\n",
    "            s = sum(i*i)\n",
    "\n",
    "    return avg + stdev * i[:]*numpy.sqrt((-2*numpy.log(s))/s)\n",
    "\n",
    "x = numpy.empty(100000)\n",
    "for i in range(0, 50000):\n",
    "    t = gauss(0, 1)\n",
    "    x[i] = t[0]\n",
    "    x[50000 + i] = t[1]\n",
    "\n",
    "# Plot\n",
    "pyplot.xlim(-5, 5)\n",
    "\n",
    "binwidth = 0.2\n",
    "bins = numpy.arange(-5, 5, binwidth)\n",
    "pyplot.hist(x, bins, normed=True);\n",
    "\n",
    "#Expected\n",
    "bin_centers = bins[:-1] + binwidth/2\n",
    "pyplot.plot(bin_centers, numpy.exp(-bin_centers**2/2.0)/numpy.sqrt(2*numpy.pi))"
   ]
  },
  {
   "cell_type": "markdown",
   "metadata": {
    "collapsed": true
   },
   "source": [
    "## Brownian motion"
   ]
  },
  {
   "cell_type": "markdown",
   "metadata": {},
   "source": [
    "### Systematic\n",
    "\n",
    "$$ dx=cdt+\\alpha \\sqrt{dt}\\cal{N(0,1)} $$"
   ]
  },
  {
   "cell_type": "code",
   "execution_count": null,
   "metadata": {
    "collapsed": false
   },
   "outputs": [],
   "source": [
    "npart = 100000\n",
    "\n",
    "T = 50.0\n",
    "nt = 500\n",
    "dt = T/nt\n",
    "\n",
    "alpha = 2.0\n",
    "c = 0.5\n",
    "\n",
    "# Generate a set of initial positions based on the Gaussian distribution\n",
    "x = numpy.random.normal(loc=0,scale=1,size=npart)\n",
    "\n",
    "# Evolution\n",
    "for i in range(nt):\n",
    "    xi = x.copy()\n",
    "    x = xi + c*dt + alpha*numpy.sqrt(dt)*numpy.random.normal(0, 1, npart)\n",
    "\n",
    "# Plot\n",
    "pyplot.figure(figsize=(15, 10))\n",
    "pyplot.xlim(-50, 100)\n",
    "\n",
    "binwidth = 0.75\n",
    "bins = numpy.arange(-50, 100, binwidth)\n",
    "pyplot.hist(x, bins, normed=True);\n",
    "\n",
    "#Expected\n",
    "bin_centers = bins[:-1] + binwidth/2\n",
    "pyplot.plot(bin_centers, numpy.exp(-(bin_centers - c*T)**2/(2.0*alpha**2*T)) \\\n",
    "                            / numpy.sqrt(2*numpy.pi*alpha**2*T))"
   ]
  },
  {
   "cell_type": "markdown",
   "metadata": {},
   "source": [
    "### Friction\n",
    "\n",
    "$$ dx=-\\gamma x dt +\\alpha \\sqrt{dt}\\cal{N(0,1)} $$"
   ]
  },
  {
   "cell_type": "code",
   "execution_count": null,
   "metadata": {
    "collapsed": false
   },
   "outputs": [],
   "source": [
    "npart = 100000\n",
    "\n",
    "T = 50.0\n",
    "nt = 500\n",
    "dt = T/nt\n",
    "\n",
    "alpha = 2.0\n",
    "gamma = 0.5\n",
    "\n",
    "# Generate a set of initial positions based on the Gaussian distribution\n",
    "x = numpy.random.normal(loc=0, scale=1, size=npart)\n",
    "\n",
    "# Evolution\n",
    "for i in range(nt):\n",
    "    xi = x.copy()\n",
    "    x = xi - gamma*xi*dt + alpha*numpy.sqrt(dt)*numpy.random.normal(0, 1, npart)\n",
    "\n",
    "# Plot\n",
    "pyplot.figure(figsize=(15, 10))\n",
    "pyplot.xlim(-50, 50)\n",
    "\n",
    "binwidth = 0.5\n",
    "bins = numpy.arange(-50, 50, binwidth)\n",
    "pyplot.hist(x, bins, normed=True);\n",
    "\n",
    "#Expected\n",
    "bin_centers = bins[:-1] + binwidth/2\n",
    "pyplot.plot(bin_centers, numpy.exp(-(bin_centers)**2/(2.0*alpha**2*T)) \\\n",
    "                            / numpy.sqrt(2*numpy.pi*alpha**2*T))"
   ]
  },
  {
   "cell_type": "markdown",
   "metadata": {},
   "source": [
    "## Ising model"
   ]
  },
  {
   "cell_type": "markdown",
   "metadata": {},
   "source": [
    "### Functions definition"
   ]
  },
  {
   "cell_type": "code",
   "execution_count": null,
   "metadata": {
    "collapsed": false
   },
   "outputs": [],
   "source": [
    "def energy_array(sp, alpha):\n",
    "    return -alpha*sp[:, :]* \\\n",
    "        (numpy.roll(sp, 1, axis=0) + numpy.roll(sp, -1, axis=0) + \\\n",
    "         numpy.roll(sp, 1, axis=1) + numpy.roll(sp, -1, axis=1))\n",
    "\n",
    "def total_energy(sp, alpha):\n",
    "    return energy_array(sp, alpha).sum()"
   ]
  },
  {
   "cell_type": "code",
   "execution_count": null,
   "metadata": {
    "collapsed": true
   },
   "outputs": [],
   "source": [
    "def total_magnetization(sp):\n",
    "    return sp.sum()"
   ]
  },
  {
   "cell_type": "code",
   "execution_count": null,
   "metadata": {
    "collapsed": true
   },
   "outputs": [],
   "source": [
    "def metropolis_at_site(sp,alpha,ix,iy):\n",
    "    \"\"\" Flips a dipole at site ix, iy when probability condition is met \n",
    "   \n",
    "    Parameters:\n",
    "    ----------\n",
    "    sp: numpy array\n",
    "        array of spins\n",
    "    alpha  : real\n",
    "        coupling constant J/(kb*T)\n",
    "    ix   : int\n",
    "        location in x\n",
    "    iy   : int\n",
    "        location in y\n",
    "    \"\"\"\n",
    "    sigma=sp[ix,iy]\n",
    "    energy_before_flip = energy_at_site(sp,alpha,sigma,ix,iy)\n",
    "    sigma = -sigma\n",
    "    energy_if_site_flipped = energy_at_site(sp,alpha,sigma,ix,iy)\n",
    "    \n",
    "    # Flip the site with Metropolis probability\n",
    "    # Condition is always satisifed if dE < 0\n",
    "    if (numpy.random.random_sample()<numpy.exp(-(energy_if_site_flipped \\\n",
    "                                               -energy_before_flip))):\n",
    "        sp[ix,iy]=-sp[ix,iy]\n",
    "\n",
    "def ising_model_metropolis(sp, NMC, nx, ny, alpha):\n",
    "    \"\"\" Creates a sequence of states for the Ising model using\n",
    "    the Metropolis algorithm\n",
    "   \n",
    "    Parameters:\n",
    "    ----------\n",
    "    sp   : initial lattice state\n",
    "    nx   : int\n",
    "        Discretization points in x\n",
    "    ny   : int\n",
    "        Discretization points in y\n",
    "    NMC  : int\n",
    "        Number of states to create\n",
    "    alpha  : real\n",
    "        coupling constant J/(kb*T)\n",
    "    Returns:\n",
    "    -------\n",
    "    states: sequence of states\n",
    "    \"\"\"\n",
    "    states = numpy.empty([NMC+1,nx,ny])\n",
    "    states[0] = sp.copy()\n",
    "    \n",
    "    for i in range(1,NMC+1):\n",
    "        for j in range(0,nx*ny):\n",
    "            ix=numpy.random.random_integers(0,nx-1)\n",
    "            iy=numpy.random.random_integers(0,ny-1)\n",
    "            metropolis_at_site(sp,alpha,ix,iy)\n",
    "        states[i]=sp.copy()\n",
    "    return states"
   ]
  },
  {
   "cell_type": "code",
   "execution_count": null,
   "metadata": {
    "collapsed": false
   },
   "outputs": [],
   "source": [
    "NMC = 100\n",
    "\n",
    "nx = 100\n",
    "ny = 100\n",
    "\n",
    "na = 20\n",
    "\n",
    "alpha = numpy.linspace(0.25, 0.55, na)\n",
    "#alpha = [0.1, 0.2, 0.3, 0.35, 0.37, 0.39, 0.41, 0.43, 0.45, 0.5, 0.6, 0.7]\n",
    "energy = numpy.zeros(na)\n",
    "magn = numpy.zeros(na)\n",
    "\n",
    "for i in range(0, na):\n",
    "    sp = numpy.ones([nx,ny])\n",
    "    states = ising_model_metropolis(sp, NMC, nx, ny, alpha[i])\n",
    "    for j in range(0, NMC+1):\n",
    "        energy[i] += total_energy(states[j], alpha[i])/(NMC+1)\n",
    "        magn[i] += total_magnetization(states[j])/(NMC+1)"
   ]
  },
  {
   "cell_type": "code",
   "execution_count": null,
   "metadata": {
    "collapsed": false
   },
   "outputs": [],
   "source": [
    "pyplot.figure(figsize=(15, 10))\n",
    "pyplot.plot(alpha, energy)\n",
    "pyplot.plot(alpha, magn)"
   ]
  },
  {
   "cell_type": "code",
   "execution_count": null,
   "metadata": {
    "collapsed": true
   },
   "outputs": [],
   "source": []
  }
 ],
 "metadata": {
  "kernelspec": {
   "display_name": "Python 3",
   "language": "python",
   "name": "python3"
  },
  "language_info": {
   "codemirror_mode": {
    "name": "ipython",
    "version": 3
   },
   "file_extension": ".py",
   "mimetype": "text/x-python",
   "name": "python",
   "nbconvert_exporter": "python",
   "pygments_lexer": "ipython3",
   "version": "3.4.4"
  }
 },
 "nbformat": 4,
 "nbformat_minor": 0
}
