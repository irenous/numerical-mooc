{
 "cells": [
  {
   "cell_type": "markdown",
   "metadata": {},
   "source": [
    "# Rocket assignment\n",
    "\n",
    "##### Laurent Pétré & Ilan Renous\n"
   ]
  },
  {
   "cell_type": "markdown",
   "metadata": {},
   "source": [
    "We are going to integrate the speed and the height of a rocket under given conditions. To do so, we are going to use Euler's method."
   ]
  },
  {
   "cell_type": "code",
   "execution_count": 94,
   "metadata": {
    "collapsed": true
   },
   "outputs": [],
   "source": [
    "#we import the libraries we need\n",
    "import numpy as npy\n",
    "import matplotlib.pyplot as plt\n",
    "%matplotlib inline"
   ]
  },
  {
   "cell_type": "markdown",
   "metadata": {},
   "source": [
    "## Rocket motion equations\n",
    "\n",
    "The equations of motion for a rocket in purely vertical flight are given by\n",
    "\n",
    "\\begin{align}\n",
    "\\frac{dh}{dt} &= v\\\\\n",
    "(m_s+m_p) \\frac{dv}{dt}& = -(m_s+m_p)g + \\dot{m}_pv_e - \\frac{1}{2}\\rho v|v|AC_D\n",
    "\\end{align}\n",
    "\n",
    "$h$ is the altitude of the rocket\n",
    "\n",
    "$m_s = 50kg$ is the weight of the rocket shell\n",
    "\n",
    "$g = 9.81 \\frac{m}{s^2}$\n",
    "\n",
    "$\\rho = 1.091 \\frac{kg}{m^3}$ is the average air density (assumed constant throughout flight)\n",
    "\n",
    "$A = \\pi r^2$ is the maximum cross sectional area of the rocket, where $r = 0.5 m$\n",
    "\n",
    "$v_e = 325 \\frac{m}{s}$ is the exhaust speed\n",
    "\n",
    "$C_D = 0.15 $ is the drag coefficient\n",
    "\n",
    "$m_{po} = 100 kg$ at time $t = 0$ is the initial weight of the rocket propellant\n",
    "\n",
    "The mass of the remaining propellant is given by:\n",
    "\n",
    "$$m_p = m_{po} - \\int^t_0 \\dot{m}_p d\\tau$$\n",
    "\n",
    "where the time-varying burn rate  $\\dot{m}_p$  is 20kg/s during the five first seconds, and then drop to zero.\n"
   ]
  },
  {
   "cell_type": "markdown",
   "metadata": {},
   "source": [
    "## Defining  functions"
   ]
  },
  {
   "cell_type": "markdown",
   "metadata": {},
   "source": [
    "We are going to define a vectorial function that"
   ]
  },
  {
   "cell_type": "code",
   "execution_count": 95,
   "metadata": {
    "collapsed": true
   },
   "outputs": [],
   "source": [
    "def f(t, u, ms = 50.0, g = -9.81, rho = 1.019, r = 0.5, ve = 325.,\\\n",
    "      CD = 0.15, mpdot = 20):\n",
    "    u_ = npy.zeros(3)\n",
    "\n",
    "    # Mass u_[0]\n",
    "    if t < 5 :\n",
    "        u_[0] = -mpdot\n",
    "    else :\n",
    "        u_[0] = 0\n",
    "    \n",
    "    # Height u_[1]\n",
    "    u_[1] = u[2]\n",
    "\n",
    "    # Speed u_[2]\n",
    "    u_[2] = g - (0.5*rho*npy.pi*(r**2)*CD*u[2]*npy.abs(u[2]))/(ms+u[0])-(u_[0]*ve)/(ms+u[0])\n",
    "\n",
    "    return u_"
   ]
  },
  {
   "cell_type": "markdown",
   "metadata": {},
   "source": [
    "## Euler's Method\n",
    "Let $u$ be a function of time $t$. the derivative of $u$ is a fonction $f(u)$.\n",
    "\n",
    "The approximate solution at time $t_n$ is $u_n$, and the numerical solution of the differential equation consists of computing a sequence of approximate solutions by the following formula:\n",
    "\n",
    "$$u_{n+1} = u_n + \\Delta t \\,f(u_n).$$\n",
    "\n",
    "This formula is called **Euler's method**.\n",
    "\n",
    "In code that gives:"
   ]
  },
  {
   "cell_type": "code",
   "execution_count": 96,
   "metadata": {
    "collapsed": true
   },
   "outputs": [],
   "source": [
    "def solve(t, u, f_func, stop_func, dt):\n",
    "    i = 0\n",
    "    while True :\n",
    "        u[:,i+1] = u[:,i] + dt*f_func(t[i], u[:,i])\n",
    "\n",
    "        if stop_func(t, u, i) :\n",
    "            break\n",
    "\n",
    "        i = i + 1\n"
   ]
  },
  {
   "cell_type": "markdown",
   "metadata": {},
   "source": [
    "Now we are going to discretize time and define a vector u containing the information about the mass, height and speed of the rocket at a time $t_n$  "
   ]
  },
  {
   "cell_type": "code",
   "execution_count": 97,
   "metadata": {
    "collapsed": true
   },
   "outputs": [],
   "source": [
    "t = npy.linspace(0, 40, 4000)\n",
    "u = npy.zeros((3,4000))\n",
    "u[0, 0] = 100."
   ]
  },
  {
   "cell_type": "markdown",
   "metadata": {},
   "source": []
  },
  {
   "cell_type": "code",
   "execution_count": 98,
   "metadata": {
    "collapsed": true
   },
   "outputs": [],
   "source": [
    "def stop(t, u, step):\n",
    "    return (u[1, step] < 0)"
   ]
  },
  {
   "cell_type": "markdown",
   "metadata": {},
   "source": []
  },
  {
   "cell_type": "code",
   "execution_count": 99,
   "metadata": {
    "collapsed": false
   },
   "outputs": [],
   "source": [
    "solve(t, u, f, stop, 0.01)"
   ]
  },
  {
   "cell_type": "code",
   "execution_count": 100,
   "metadata": {
    "collapsed": false,
    "scrolled": true
   },
   "outputs": [
    {
     "data": {
      "image/png": "[encoded data removed]",
      "text/plain": [
       "<matplotlib.figure.Figure at 0x90490f0>"
      ]
     },
     "metadata": {},
     "output_type": "display_data"
    }
   ],
   "source": [
    "plt.figure(figsize=(15,10))\n",
    "plt.plot(t, u[0,:])\n",
    "plt.plot(t, u[1,:])\n",
    "plt.plot(t, u[2,:])\n",
    "plt.xlabel('t', fontsize=14) #x label\n",
    "plt.legend(['mass','height','speed'])\n",
    "plt.show()"
   ]
  },
  {
   "cell_type": "code",
   "execution_count": 101,
   "metadata": {
    "collapsed": false
   },
   "outputs": [
    {
     "name": "stdout",
     "output_type": "stream",
     "text": [
      "Temps et vitesse du retour au sol : 40.0 0.0\n",
      "Hauteur max et temps : 1396.36897\n",
      "Vitesse max, temps et hauteur : 235.993832859\n",
      "0.0\n"
     ]
    }
   ],
   "source": [
    "    print(\"Temps et vitesse du retour au sol :\", t[-1], u[2,-1])\n",
    "    print(\"Hauteur max et temps :\"\\\n",
    "          , max(u[1,:])) #, t[h.index(max(h))])\n",
    "    print(\"Vitesse max, temps et hauteur :\"\\\n",
    "          , max(u[2,:])) #, t[v.index(max(v))], h[v.index(max(v))])\n",
    "    print(u[0,3950])"
   ]
  },
  {
   "cell_type": "markdown",
   "metadata": {},
   "source": [
    "###### Source:\n"
   ]
  },
  {
   "cell_type": "code",
   "execution_count": null,
   "metadata": {
    "collapsed": true
   },
   "outputs": [],
   "source": []
  },
  {
   "cell_type": "code",
   "execution_count": null,
   "metadata": {
    "collapsed": true
   },
   "outputs": [],
   "source": []
  }
 ],
 "metadata": {
  "kernelspec": {
   "display_name": "Python 3",
   "language": "python",
   "name": "python3"
  },
  "language_info": {
   "codemirror_mode": {
    "name": "ipython",
    "version": 3
   },
   "file_extension": ".py",
   "mimetype": "text/x-python",
   "name": "python",
   "nbconvert_exporter": "python",
   "pygments_lexer": "ipython3",
   "version": "3.4.3"
  }
 },
 "nbformat": 4,
 "nbformat_minor": 0
}
