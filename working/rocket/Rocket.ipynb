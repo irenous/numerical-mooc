{
 "cells": [
  {
   "cell_type": "markdown",
   "metadata": {},
   "source": [
    "# Rocket assignment\n",
    "\n",
    "##### Laurent Pétré & Ilan Renous"
   ]
  },
  {
   "cell_type": "markdown",
   "metadata": {},
   "source": [
    "We are going to integrate the speed and the height of a rocket under given conditions. To do so, we are going to use Euler's method. Let's get started!"
   ]
  },
  {
   "cell_type": "code",
   "execution_count": 16,
   "metadata": {
    "collapsed": true
   },
   "outputs": [],
   "source": [
    "# We import the libraries we will need\n",
    "import numpy as npy\n",
    "import matplotlib.pyplot as plt\n",
    "%matplotlib inline"
   ]
  },
  {
   "cell_type": "markdown",
   "metadata": {},
   "source": [
    "## Rocket motion equations \n",
    "\n",
    "The equations of motion for a rocket in purely vertical flight are given by\n",
    "\n",
    "\\begin{align}\n",
    "\\frac{dh}{dt} &= v\\\\\n",
    "(m_s+m_p) \\frac{dv}{dt}& = -(m_s+m_p)g + \\dot{m}_pv_e - \\frac{1}{2}\\rho v|v|AC_D\n",
    "\\end{align}\n",
    "\n",
    "where,\n",
    "\n",
    "* $h$ is the altitude of the rocket\n",
    "\n",
    "* $m_s = 50kg$ is the weight of the rocket shell\n",
    "\n",
    "* $g = 9.81 \\frac{m}{s^2}$\n",
    "\n",
    "* $\\rho = 1.091 \\frac{kg}{m^3}$ is the average air density (assumed constant throughout flight)\n",
    "\n",
    "* $A = \\pi r^2$ is the maximum cross sectional area of the rocket, where $r = 0.5 m$\n",
    "\n",
    "* $v_e = 325 \\frac{m}{s}$ is the exhaust speed\n",
    "\n",
    "* $C_D = 0.15 $ is the drag coefficient\n",
    "\n",
    "* $m_{po} = 100 kg$ at time $t = 0$ is the initial weight of the rocket propellant\n",
    "\n",
    "The mass of the remaining propellant is given by:\n",
    "\n",
    "$$m_p = m_{po} - \\int^t_0 \\dot{m}_p d\\tau$$\n",
    "\n",
    "where the time-varying burn rate  $\\dot{m}_p$  is 20kg/s during the five first seconds, and then drop to zero.\n"
   ]
  },
  {
   "cell_type": "markdown",
   "metadata": {},
   "source": [
    "### Defining  functions\n",
    "\n",
    "We are going to define a vectorial function of all the variables above, which is going to express the following vector: $$\\begin{equation}\n",
    "\\vec{f}  = \\begin{pmatrix} \\dot{m}_{p} \\\\ \\dot{h} \\\\ \\dot{v} \\end{pmatrix}\n",
    "\\end{equation}$$."
   ]
  },
  {
   "cell_type": "code",
   "execution_count": 17,
   "metadata": {
    "collapsed": true
   },
   "outputs": [],
   "source": [
    "def mpdot(t):\n",
    "    if t < 5.0 :\n",
    "        return -20.0\n",
    "    else:\n",
    "        return 0.0\n",
    "\n",
    "def f(t, u, mpdot_func, \\\n",
    "      ms = 50.0, g = -9.81, rho = 1.091, r = 0.5, ve = 325, CD = 0.15):\n",
    "    \"\"\"\n",
    "    Returns the derivative of the functions mp, h and v.\n",
    "    \n",
    "    Parameters\n",
    "    ----------\n",
    "    t: float\n",
    "        time\n",
    "        \n",
    "    u: array[3] of float\n",
    "        contains mp, h and v at time t\n",
    "    \n",
    "    mpdot_func; function of float\n",
    "        returns mpdot at time t \n",
    "        \n",
    "    Returns\n",
    "    -------\n",
    "    u_ : array[3] of float\n",
    "        array containing the values of f    \n",
    "    \"\"\"\n",
    "\n",
    "    u_ = npy.zeros(3) \n",
    "\n",
    "    # Mass u_[0]\n",
    "    u_[0] = mpdot_func(t)\n",
    "    \n",
    "    # Height u_[1]\n",
    "    u_[1] = u[2]\n",
    "\n",
    "    # Speed u_[2]\n",
    "    u_[2] = g - (0.5*rho*npy.pi*(r**2)*CD*u[2]*npy.abs(u[2]))/(ms+u[0]) \\\n",
    "        - (u_[0]*ve)/(ms+u[0])\n",
    "\n",
    "    return u_"
   ]
  },
  {
   "cell_type": "markdown",
   "metadata": {},
   "source": [
    "## Euler's Method\n",
    "\n",
    "Let $u$ be a function of time $t$. the derivative of $u$ is a fonction $f(t, u)$.\n",
    "\n",
    "The approximate solution at time $t_n$ is $u_n$, and the numerical solution of the differential equation consists of computing a sequence of approximate solutions by the following formula:\n",
    "\n",
    "$$u_{n+1} = u_n + \\Delta t \\,f(t_n, u_n).$$\n",
    "\n",
    "This formula is called **Euler's method**.\n",
    "\n",
    "In Python that gives:"
   ]
  },
  {
   "cell_type": "code",
   "execution_count": 18,
   "metadata": {
    "collapsed": true
   },
   "outputs": [],
   "source": [
    "def solve(t, u, f_func, stop_func, dt):\n",
    "    \"\"\"\n",
    "    Vectorial Euler's method implementation.\n",
    "    \n",
    "    Parameters\n",
    "    ----------\n",
    "    t: array[N] of float\n",
    "        discrete time\n",
    "        \n",
    "    u: array[MxN] of float\n",
    "        approximated function\n",
    "        \n",
    "    f_func: array[M] of float\n",
    "        derivative of u at time t\n",
    "        \n",
    "    N is the maximum number of iterations\n",
    "    M is the number of functions we want to approximate\n",
    "        \n",
    "    Returns\n",
    "    -------\n",
    "    i: integer\n",
    "        index of the last element of u computed\n",
    "    \"\"\"\n",
    " \n",
    "    i = 0\n",
    "    while True :\n",
    "        u[:,i+1] = u[:,i] + dt*f_func(t[i], u[:,i])\n",
    "\n",
    "        if stop_func(t, u, i) :\n",
    "            return i\n",
    "\n",
    "        i = i + 1"
   ]
  },
  {
   "cell_type": "markdown",
   "metadata": {},
   "source": [
    "We used the stop function which stops the iteration once the rocket has returned to the ground. That also allows us to know at what time this happens."
   ]
  },
  {
   "cell_type": "code",
   "execution_count": 19,
   "metadata": {
    "collapsed": true
   },
   "outputs": [],
   "source": [
    "def stop(t, u, i):\n",
    "    \"\"\"\n",
    "    Stops the iteration process when h < 0\n",
    "    \"\"\"\n",
    "    return (u[1, i] < 0)"
   ]
  },
  {
   "cell_type": "markdown",
   "metadata": {},
   "source": [
    "## Solve!\n",
    "\n",
    "Now we are going to discretize time and define the following vector: $$\\begin{equation}\n",
    "\\vec{u}_{n}  = \\begin{pmatrix} m_{p} \\\\ h \\\\ v \\end{pmatrix}\\end{equation}$$ which will contain the information about the mass, height and speed of the rocket at a time $t_n$."
   ]
  },
  {
   "cell_type": "code",
   "execution_count": 20,
   "metadata": {
    "collapsed": false
   },
   "outputs": [],
   "source": [
    "dt = 0.1 # Simulation step\n",
    "t_to_sim = 40.0 # Simulation time\n",
    "\n",
    "t = npy.linspace(0, t_to_sim, int(t_to_sim/dt))\n",
    "u = npy.zeros((3, int(t_to_sim/dt)))\n",
    "u[0, 0] = 100.0 # Initial conditions"
   ]
  },
  {
   "cell_type": "markdown",
   "metadata": {},
   "source": [
    "We are now going to use all the fonctions defined above to solve this problem. We are in fact going to solve the following equation:$$\\begin{equation}\\ \\vec{u}_{n+1}=\\vec{u}_{n}+ \\vec{f}_{n}\\Delta t \\ \\end{equation}$$ which is a vectorial equivalent of the Euler's method given above."
   ]
  },
  {
   "cell_type": "code",
   "execution_count": 21,
   "metadata": {
    "collapsed": false
   },
   "outputs": [],
   "source": [
    "i = solve(t, u, lambda t, u: f(t, u, mpdot), stop, dt)"
   ]
  },
  {
   "cell_type": "markdown",
   "metadata": {},
   "source": [
    "## Solutions\n",
    "Here is the graph of the mass of the propellant and the height and speed of the rocket as function of time: "
   ]
  },
  {
   "cell_type": "code",
   "execution_count": 22,
   "metadata": {
    "collapsed": false,
    "scrolled": true
   },
   "outputs": [
    {
     "data": {
      "image/png": "[encoded data removed]",
      "text/plain": [
       "<matplotlib.figure.Figure at 0x7a39080>"
      ]
     },
     "metadata": {},
     "output_type": "display_data"
    }
   ],
   "source": [
    "plt.figure(figsize=(15,6))\n",
    "\n",
    "plt.plot(t, u[0,:])\n",
    "plt.plot(t, u[1,:])\n",
    "plt.plot(t, u[2,:])\n",
    "\n",
    "plt.xlabel('t', fontsize=14)\n",
    "plt.legend(['mass','height','speed'])\n",
    "\n",
    "plt.show()"
   ]
  },
  {
   "cell_type": "markdown",
   "metadata": {},
   "source": [
    "1. At time $t=3.2s$, the mass of rocket propellant remaining in the rocket is: $36.0 kg$.\n",
    "\n",
    "2. The maximum speed of the rocket is: $232.11\\frac{m}{s}$ this occur after $5.01s$. The altitude at this time is: $523.52m$.\n",
    "    \n",
    "3. The rocket's maximum altitude during flight is $1334.18m$ and occurs at time $15.74s$.\n",
    "\n",
    "4. The rocket impacts the ground at time $t=37.19s$ and its velocity is $-86.01\\frac{m}{s}$."
   ]
  },
  {
   "cell_type": "code",
   "execution_count": 23,
   "metadata": {
    "collapsed": false
   },
   "outputs": [
    {
     "name": "stdout",
     "output_type": "stream",
     "text": [
      "Mass of rocket propellant at 3.2s : 36.0\n",
      "Time and speed when return to the ground : 37.1929824561 -86.0068349838\n",
      "Maximum height and time : 1334.18294543 15.7393483709\n",
      "Maximum speed, time and height : 232.106133413 5.01253132832 523.522834292\n"
     ]
    }
   ],
   "source": [
    "print(\"Mass of rocket propellant at 3.2s :\", u[0, int(3.2/dt)])\n",
    "print(\"Time and speed when return to the ground :\", t[i], u[2, i])\n",
    "hmax = npy.amax(u[1,:])\n",
    "hmax_i = npy.argmax(u[1,:])\n",
    "print(\"Maximum height and time :\", hmax, t[hmax_i])\n",
    "vmax = npy.amax(u[2,:])\n",
    "vmax_i = npy.argmax(u[2,:])\n",
    "print(\"Maximum speed, time and height :\", vmax, t[vmax_i], u[1, vmax_i])"
   ]
  },
  {
   "cell_type": "markdown",
   "metadata": {},
   "source": [
    "## Conclusion\n",
    "\n",
    "It was really interesting to have an approach to numerical analysis. For this rather basic prolem, Euler's method was really appropriate."
   ]
  },
  {
   "cell_type": "markdown",
   "metadata": {},
   "source": [
    "##### Source\n",
    "\n",
    "(1) We used the following lectures https://github.com/numerical-mooc/numerical-mooc available under Creative Commons Attribution license CC-BY 4.0, (c)2014 L.A. Barba, C. Cooper, G.F. Forsyth, A. Krishnan."
   ]
  },
  {
   "cell_type": "markdown",
   "metadata": {},
   "source": [
    "---\n",
    "###### The cell below loads the style of this notebook. "
   ]
  },
  {
   "cell_type": "code",
   "execution_count": 9,
   "metadata": {
    "collapsed": false
   },
   "outputs": [
    {
     "data": {
      "text/html": [
       "<link href='http://fonts.googleapis.com/css?family=Alegreya+Sans:100,300,400,500,700,800,900,100italic,300italic,400italic,500italic,700italic,800italic,900italic' rel='stylesheet' type='text/css'>\n",
       "<link href='http://fonts.googleapis.com/css?family=Arvo:400,700,400italic' rel='stylesheet' type='text/css'>\n",
       "<link href='http://fonts.googleapis.com/css?family=PT+Mono' rel='stylesheet' type='text/css'>\n",
       "<link href='http://fonts.googleapis.com/css?family=Shadows+Into+Light' rel='stylesheet' type='text/css'>\n",
       "<link href='http://fonts.googleapis.com/css?family=Nixie+One' rel='stylesheet' type='text/css'>\n",
       "<style>\n",
       "\n",
       "@font-face {\n",
       "    font-family: \"Computer Modern\";\n",
       "    src: url('http://mirrors.ctan.org/fonts/cm-unicode/fonts/otf/cmunss.otf');\n",
       "}\n",
       "\n",
       "#notebook_panel { /* main background */\n",
       "    background: rgb(245,245,245);\n",
       "}\n",
       "\n",
       "div.cell { /* set cell width */\n",
       "    width: 750px;\n",
       "}\n",
       "\n",
       "div #notebook { /* centre the content */\n",
       "    background: #fff; /* white background for content */\n",
       "    width: 1000px;\n",
       "    margin: auto;\n",
       "    padding-left: 0em;\n",
       "}\n",
       "\n",
       "#notebook li { /* More space between bullet points */\n",
       "    margin-top:0.8em;\n",
       "}\n",
       "\n",
       "/* draw border around running cells */\n",
       "div.cell.border-box-sizing.code_cell.running { \n",
       "    border: 1px solid #111;\n",
       "}\n",
       "\n",
       "/* Put a solid color box around each cell and its output, visually linking them*/\n",
       "div.cell.code_cell {\n",
       "    background-color: rgb(256,256,256); \n",
       "    border-radius: 0px; \n",
       "    padding: 0.5em;\n",
       "    margin-left:1em;\n",
       "    margin-top: 1em;\n",
       "}\n",
       "\n",
       "div.text_cell_render{\n",
       "    font-family: 'Alegreya Sans' sans-serif;\n",
       "    line-height: 140%;\n",
       "    font-size: 125%;\n",
       "    font-weight: 400;\n",
       "    width:600px;\n",
       "    margin-left:auto;\n",
       "    margin-right:auto;\n",
       "}\n",
       "\n",
       "\n",
       "/* Formatting for header cells */\n",
       ".text_cell_render h1 {\n",
       "    font-family: 'Nixie One', serif;\n",
       "    font-style:regular;\n",
       "    font-weight: 400;    \n",
       "    font-size: 45pt;\n",
       "    line-height: 100%;\n",
       "    color: rgb(0,51,102);\n",
       "    margin-bottom: 0.5em;\n",
       "    margin-top: 0.5em;\n",
       "    display: block;\n",
       "}\n",
       "\n",
       ".text_cell_render h2 {\n",
       "    font-family: 'Nixie One', serif;\n",
       "    font-weight: 400;\n",
       "    font-size: 30pt;\n",
       "    line-height: 100%;\n",
       "    color: rgb(0,51,102);\n",
       "    margin-bottom: 0.1em;\n",
       "    margin-top: 0.3em;\n",
       "    display: block;\n",
       "}\t\n",
       "\n",
       ".text_cell_render h3 {\n",
       "    font-family: 'Nixie One', serif;\n",
       "    margin-top:16px;\n",
       "    font-size: 22pt;\n",
       "    font-weight: 600;\n",
       "    margin-bottom: 3px;\n",
       "    font-style: regular;\n",
       "    color: rgb(102,102,0);\n",
       "}\n",
       "\n",
       ".text_cell_render h4 {    /*Use this for captions*/\n",
       "    font-family: 'Nixie One', serif;\n",
       "    font-size: 14pt;\n",
       "    text-align: center;\n",
       "    margin-top: 0em;\n",
       "    margin-bottom: 2em;\n",
       "    font-style: regular;\n",
       "}\n",
       "\n",
       ".text_cell_render h5 {  /*Use this for small titles*/\n",
       "    font-family: 'Nixie One', sans-serif;\n",
       "    font-weight: 400;\n",
       "    font-size: 16pt;\n",
       "    color: rgb(163,0,0);\n",
       "    font-style: italic;\n",
       "    margin-bottom: .1em;\n",
       "    margin-top: 0.8em;\n",
       "    display: block;\n",
       "}\n",
       "\n",
       ".text_cell_render h6 { /*use this for copyright note*/\n",
       "    font-family: 'PT Mono', sans-serif;\n",
       "    font-weight: 300;\n",
       "    font-size: 9pt;\n",
       "    line-height: 100%;\n",
       "    color: grey;\n",
       "    margin-bottom: 1px;\n",
       "    margin-top: 1px;\n",
       "}\n",
       "\n",
       ".CodeMirror{\n",
       "    font-family: \"PT Mono\";\n",
       "    font-size: 90%;\n",
       "}\n",
       "\n",
       "</style>\n",
       "<script>\n",
       "    MathJax.Hub.Config({\n",
       "                        TeX: {\n",
       "                           extensions: [\"AMSmath.js\"],\n",
       "                           equationNumbers: { autoNumber: \"AMS\", useLabelIds: true}\n",
       "                           },\n",
       "                tex2jax: {\n",
       "                    inlineMath: [ ['$','$'], [\"\\\\(\",\"\\\\)\"] ],\n",
       "                    displayMath: [ ['$$','$$'], [\"\\\\[\",\"\\\\]\"] ]\n",
       "                },\n",
       "                displayAlign: 'center', // Change this to 'center' to center equations.\n",
       "                \"HTML-CSS\": {\n",
       "                    styles: {'.MathJax_Display': {\"margin\": 4}}\n",
       "                }\n",
       "        });\n",
       "</script>\n"
      ],
      "text/plain": [
       "<IPython.core.display.HTML object>"
      ]
     },
     "execution_count": 9,
     "metadata": {},
     "output_type": "execute_result"
    }
   ],
   "source": [
    "# Execute this cell to load the notebook's style sheet, then ignore it\n",
    "from IPython.core.display import HTML\n",
    "css_file = '../../styles/numericalmoocstyle.css'\n",
    "HTML(open(css_file, \"r\").read())"
   ]
  }
 ],
 "metadata": {
  "kernelspec": {
   "display_name": "Python 3",
   "language": "python",
   "name": "python3"
  },
  "language_info": {
   "codemirror_mode": {
    "name": "ipython",
    "version": 3
   },
   "file_extension": ".py",
   "mimetype": "text/x-python",
   "name": "python",
   "nbconvert_exporter": "python",
   "pygments_lexer": "ipython3",
   "version": "3.4.3"
  }
 },
 "nbformat": 4,
 "nbformat_minor": 0
}
