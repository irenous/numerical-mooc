{
 "cells": [
  {
   "cell_type": "markdown",
   "metadata": {},
   "source": [
    "# Reaction-diffusion Assignment\n",
    "## The Gray-Scott Model\n",
    "\n",
    "##### Laurent Pétré & Ilan Renous"
   ]
  },
  {
   "cell_type": "markdown",
   "metadata": {},
   "source": [
    "In this assignment, we are going to simulate the interaction of two generic chemical species reacting diffusing. We are going tu use a two dimension version of a model called the Gray-Scott model. Let's get started!"
   ]
  },
  {
   "cell_type": "code",
   "execution_count": null,
   "metadata": {
    "collapsed": true
   },
   "outputs": [],
   "source": [
    "# We import the libraries we will need\n",
    "import numpy as npy\n",
    "import matplotlib.pyplot as plt\n",
    "import matplotlib.cm as cm\n",
    "%matplotlib inline\n",
    "from JSAnimation.IPython_display import display_animation\n",
    "import matplotlib.animation as anim"
   ]
  },
  {
   "cell_type": "markdown",
   "metadata": {},
   "source": [
    "## The Gray-Scott Model"
   ]
  },
  {
   "cell_type": "markdown",
   "metadata": {},
   "source": [
    "The Gray-Scott model represents the reaction and diffusion of two generic chemical species, $U$ and $V$, whose concentration at a point in space is represented by variables $u$ and $v$. The model follows some simple rules.  \n",
    "\n",
    "*  Each chemical _diffuses_ through space at its own rate.\n",
    "*  Species $U$ is added at a constant feed rate into the system.\n",
    "*  Two units of species V can 'turn' a unit of species U into V: $\\; 2V+U\\rightarrow 3V$\n",
    "*  There's a constant kill rate removing species $V$."
   ]
  },
  {
   "cell_type": "markdown",
   "metadata": {},
   "source": [
    "This model results in the following system of partial differential equations for the concentrations $u(x,y,t)$ and $v(x,y,t)$ of both chemical species:\n",
    "\\begin{align}\n",
    "\\frac{\\partial u}{\\partial t} &= D_u \\nabla ^2 u - uv^2 + F(1-u)\\\\\n",
    "\\frac{\\partial v}{\\partial t} &= D_v \\nabla ^2 v + uv^2 - (F + k)v\n",
    "\\end{align}\n",
    "\n",
    "with $D_u$ and $D_v$ the respective rates of diffusion\n",
    "\n",
    "and $\\nabla ^2$ is the Laplacian:\n",
    "\n",
    "$$\n",
    "\\nabla ^2 u = \\frac{\\partial ^2 u}{\\partial x^2} + \\frac{\\partial ^2 u}{\\partial y^2}\n",
    "$$"
   ]
  },
  {
   "cell_type": "markdown",
   "metadata": {},
   "source": [
    "## Discretisation of the equations"
   ]
  },
  {
   "cell_type": "markdown",
   "metadata": {},
   "source": [
    "We need to discretise these equations to get a numerical approximation. We are going to use a forward-time, centered-space discretization . For the first equation, this gives us:\n",
    "\n",
    "$$\n",
    "\\frac{u^{n+1}_{i,j} - u^n_{i,j}}{\\Delta t} =\\\\ D_u \\left( \\frac{u^n_{i+1, j} - 2u^n_{i,j} + u^n_{i-1,j}}{\\Delta x^2} + \\frac{u^n_{i, j+1} - 2u^n_{i,j} + u^n_{i,j-1}}{\\Delta y^2}\\right)+(G_1)^n_{i,j}\n",
    "$$\n",
    "\n",
    "Where $(G_1)^n_{i,j}=-u^n_{i,j}  (v^n_{i,j})^2+ F(1-u^n_{i,j})$\n"
   ]
  },
  {
   "cell_type": "markdown",
   "metadata": {},
   "source": [
    "Rearranging the equation to solve for the value at the next time step, $u^{n+1}_{i,j}$, and assume that $\\Delta x = \\Delta y = \\delta$, yields\n",
    "\n",
    "$$\n",
    "u^{n+1}_{i,j}=\\\\ u^n_{i,j} +\\Delta t \\left( \\frac{D_u}{\\delta ^2} \\left( \\ u^n_{i+1, j} - 4u^n_{i,j} + u^n_{i-1,j} + u^n_{i, j+1}+ u^n_{i,j-1}\\right)+(G_1)^n_{i,j}\\right)\n",
    "$$"
   ]
  },
  {
   "cell_type": "markdown",
   "metadata": {},
   "source": [
    "Similarly, for the second equation, we have \n",
    "\n",
    "$$\n",
    "v^{n+1}_{i,j}= \\\\v^n_{i,j} +\\Delta t \\left( \\frac{D_v}{\\delta ^2} \\left(v^n_{i+1, j} - 4v^n_{i,j} + v^n_{i-1,j} + v^n_{i, j+1} + v^n_{i,j-1}\\right)+(G_2)^n_{i,j}\\right)\n",
    "$$\n",
    "\n",
    "Where $(G_2)^n_{i,j}=u^n_{i,j}  (v^n_{i,j})^2- (F+k)v^n_{i,j}$"
   ]
  },
  {
   "cell_type": "markdown",
   "metadata": {},
   "source": [
    "That's a little messy, but we will have all the information we need.\n",
    "\n",
    "We can already write the functions G1 and G2."
   ]
  },
  {
   "cell_type": "code",
   "execution_count": null,
   "metadata": {
    "collapsed": true
   },
   "outputs": [],
   "source": [
    "def G1(U, V, F, k):\n",
    "    return - U*(V)**2 + F*(1 - U)\n",
    "\n",
    "def G2(U, V, F, k):\n",
    "    return U*(V)**2 - (F+k)*V"
   ]
  },
  {
   "cell_type": "markdown",
   "metadata": {},
   "source": [
    "## Boundary conditions\n",
    "\n",
    "For this problem, we are going to use zero Neumann boundary conditions on all sides of the domain. These are : \n",
    "\n",
    "$$\n",
    "\\frac{\\partial u}{\\partial x}= \\frac{u^n_{N,j} - u^n_{N-1,j}}{\\delta} =0\n",
    "$$\n",
    "\n",
    "$$\n",
    "\\frac{\\partial u}{\\partial y}= \\frac{u^n_{i,N} - u^n_{i,N-1}}{\\delta} =0\n",
    "$$\n",
    "\n",
    "$$\n",
    "\\frac{\\partial v}{\\partial x}= \\frac{v^n_{N,j} - v^n_{N-1,j}}{\\delta} =0\n",
    "$$\n",
    "\n",
    "$$\n",
    "\\frac{\\partial v}{\\partial y}= \\frac{v^n_{i,N} - v^n_{i,N-1}}{\\delta} =0\n",
    "$$\n",
    "\n",
    "Where N is the index of the cell at the boundaries of our spacial domain (i.e. N = 0 and N = 192 here)."
   ]
  },
  {
   "cell_type": "markdown",
   "metadata": {},
   "source": [
    "## Implementation\n",
    "\n",
    "We can now implement those equations. The boundary conditions need to be applied at each itterations. In Python that gives us :"
   ]
  },
  {
   "cell_type": "code",
   "execution_count": null,
   "metadata": {
    "collapsed": false
   },
   "outputs": [],
   "source": [
    "def solve(U0, V0, Du, Dv, G1, G2, dh, dt, nt, callback):\n",
    "    \"\"\"\n",
    "    Compute the solution of the partial differential system : \n",
    "        - du/dt = Du*(div(grad(u)) + G1(u, v)\n",
    "        - dv/dt = Dv*(div(grad(v)) + G2(u, v).\n",
    "\n",
    "    Parameters\n",
    "    ----------\n",
    "    U0, V0: array[NxN] of floats\n",
    "        initial conditions\n",
    "    \n",
    "    Du, Dv : floats\n",
    "        see equation definition\n",
    "\n",
    "    G1, G2: functions of an array of floats returning an array of floats\n",
    "        see de definition of the PDEs\n",
    "\n",
    "    dh: float\n",
    "        space step\n",
    "\n",
    "    dt: float\n",
    "        time step\n",
    "\n",
    "    dx: float\n",
    "        space step\n",
    "\n",
    "    nt: integer\n",
    "        number of iterations\n",
    "\n",
    "    callback(n, u, v): function of the iteration and an array of floats\n",
    "        the array of floats is the value of the solution for that iteration\n",
    "\n",
    "    Returns\n",
    "    -------\n",
    "    U, V: array[NxN]\n",
    "        solution of the system\n",
    "    \"\"\"\n",
    "\n",
    "    U = U0.copy()\n",
    "    V = V0.copy()\n",
    "\n",
    "    for i in range(nt):\n",
    "        Un = U.copy()\n",
    "        Vn = V.copy()\n",
    "\n",
    "        U[1:-1,1:-1] = Un[1:-1,1:-1] + dt*( \\\n",
    "            (Du/(dh**2))*(Un[2:,1:-1] + Un[:-2,1:-1] + Un[1:-1,2:] + Un[1:-1,:-2] - 4*Un[1:-1,1:-1]) \\\n",
    "            + G1(Un[1:-1,1:-1], Vn[1:-1,1:-1]) )\n",
    "                \n",
    "        V[1:-1,1:-1] = Vn[1:-1,1:-1] + dt*( \\\n",
    "            (Dv/(dh**2))*(Vn[2:,1:-1] + Vn[:-2,1:-1] + Vn[1:-1,2:] + Vn[1:-1,:-2] - 4*Vn[1:-1,1:-1]) \\\n",
    "            + G2(Un[1:-1,1:-1], Vn[1:-1,1:-1]) )\n",
    "\n",
    "        U[-1,:] = U[-2,:]\n",
    "        U[:,-1] = U[:,-2]\n",
    "        U[0,:]= U[1,:]\n",
    "        U[:,0]= U[:,1]\n",
    "\n",
    "        V[-1,:] = V[-2,:]\n",
    "        V[:,-1] = V[:,-2]\n",
    "        V[0,:]= V[1,:]\n",
    "        V[:,0]= V[:,1]\n",
    "\n",
    "        callback(i + 1, U, V)\n",
    "\n",
    "    return U, V"
   ]
  },
  {
   "cell_type": "markdown",
   "metadata": {},
   "source": [
    "## Solve !"
   ]
  },
  {
   "cell_type": "markdown",
   "metadata": {},
   "source": [
    "We created the function needed to solve this problem, all we need now is initial conditions and simulation parameters. Let's choose the following parameters :\n",
    "\n",
    "* Grid of points with dimension `192x192` points\n",
    "* Domain is $5{\\rm m} \\times 5{\\rm m}$\n",
    "* Final time is $8000{\\rm s}$\n",
    "* $Du, Dv, F, k = 0.00016, 0.00008, 0.035, 0.065 $\n",
    "* For the initial distribution of $u$ and $v$, we download a grid given in the lesson."
   ]
  },
  {
   "cell_type": "markdown",
   "metadata": {},
   "source": [
    "We saw that, in two dimension, the stability constraints for an explicit scheme is given by\n",
    "\n",
    "$$\n",
    "\\alpha \\frac{\\Delta t}{(\\Delta x)^2} + \\alpha \\frac{\\Delta t}{(\\Delta y)^2} < \\frac{1}{2}.\n",
    "$$\n",
    "\n",
    "With $\\Delta x = \\Delta y = \\delta$ the stability condition is:\n",
    "\n",
    "$$\n",
    "\\alpha \\frac{\\Delta t}{\\delta^2} < \\frac{1}{4}\n",
    "$$\n",
    "\n",
    "To be sure to stay within the stability condition, we set our time step to be \n",
    "\n",
    "$$\\Delta t = \\frac{9}{40}\\frac{\\delta^2}{\\max(D_u, D_v)}$$"
   ]
  },
  {
   "cell_type": "code",
   "execution_count": null,
   "metadata": {
    "collapsed": false
   },
   "outputs": [],
   "source": [
    "# Gray-Scott model parameters\n",
    "Du, Dv, F, k = 0.00016, 0.00008, 0.035, 0.065\n",
    "\n",
    "# Space conditions\n",
    "n = 192\n",
    "dh = 5/(n-1)\n",
    "\n",
    "# Time conditions\n",
    "T = 8000\n",
    "dt = .9 * dh**2 / (4*max(Du,Dv))\n",
    "nt = int(T/dt)\n",
    "\n",
    "# Initial conditions\n",
    "uvinitial = npy.load('../../lessons/04_spreadout/data/uvinitial.npz')\n",
    "U0 = uvinitial['U']\n",
    "V0 = uvinitial['V']"
   ]
  },
  {
   "cell_type": "markdown",
   "metadata": {},
   "source": [
    "In order to draw an after the simulation, we will backup some datas. Here, we backup one data out of 100 :"
   ]
  },
  {
   "cell_type": "code",
   "execution_count": null,
   "metadata": {
    "collapsed": false
   },
   "outputs": [],
   "source": [
    "back = []\n",
    "back.append((U0.copy(), V0.copy()))\n",
    "\n",
    "def backup(i, U, V):\n",
    "    \"\"\"\n",
    "    Save the U and V arrays in the form of a tuple in the back\n",
    "    list for iterations multiples of 100.\n",
    "    \"\"\"\n",
    "\n",
    "    if ((i % 100) == 0):\n",
    "        back.append((U.copy(), V.copy()))"
   ]
  },
  {
   "cell_type": "markdown",
   "metadata": {},
   "source": [
    "Now, it's time to launch the simulation :"
   ]
  },
  {
   "cell_type": "code",
   "execution_count": null,
   "metadata": {
    "collapsed": false
   },
   "outputs": [],
   "source": [
    "# Solve\n",
    "U, V = solve(U0, V0, Du, Dv, \\\n",
    "    lambda U, V: G1(U, V, F, k), lambda U, V: G2(U, V, F, k), \\\n",
    "    dh, dt, nt, backup)\n",
    "\n",
    "# Output\n",
    "print(U[100,::40])"
   ]
  },
  {
   "cell_type": "markdown",
   "metadata": {},
   "source": [
    "## Animation"
   ]
  },
  {
   "cell_type": "code",
   "execution_count": null,
   "metadata": {
    "collapsed": false
   },
   "outputs": [],
   "source": [
    "# Initial figure\n",
    "fig = plt.figure()\n",
    "\n",
    "plt.subplot(1, 2, 1)\n",
    "imgU = plt.imshow(back[0][0], cmap = cm.RdBu)\n",
    "plt.xticks([]), plt.yticks([]);\n",
    "\n",
    "plt.subplot(1, 2, 2)\n",
    "imgV = plt.imshow(back[0][1], cmap = cm.RdBu)\n",
    "plt.xticks([]), plt.yticks([]);\n",
    "\n",
    "# Animate\n",
    "def animate(data):\n",
    "    imgU.set_array(data[0])\n",
    "    imgV.set_array(data[1])\n",
    "\n",
    "anim.FuncAnimation(fig, animate, frames=back, interval=80)"
   ]
  },
  {
   "cell_type": "markdown",
   "metadata": {},
   "source": [
    "## Conclusion\n",
    "\n",
    "Using a explicit scheme was easier to implement in code but we had to take a very small time step to reach stability. Implicit scheme would not have required such small time step to give a stable approximation.\n",
    "\n",
    "It was intersting to change the values of the different parameters to see different patterns of density evovle in time."
   ]
  },
  {
   "cell_type": "markdown",
   "metadata": {},
   "source": [
    "##### Source\n",
    "\n",
    "(1) We used the following lectures https://github.com/numerical-mooc/numerical-mooc available under Creative Commons Attribution license CC-BY 4.0, (c)2014 L.A. Barba, C. Cooper, G.F. Forsyth, A. Krishnan."
   ]
  },
  {
   "cell_type": "markdown",
   "metadata": {},
   "source": [
    "---\n",
    "###### The cell below loads the style of this notebook. "
   ]
  },
  {
   "cell_type": "code",
   "execution_count": null,
   "metadata": {
    "collapsed": false
   },
   "outputs": [],
   "source": [
    "# Execute this cell to load the notebook's style sheet, then ignore it\n",
    "from IPython.core.display import HTML\n",
    "css_file = '../../styles/numericalmoocstyle.css'\n",
    "HTML(open(css_file, \"r\").read())"
   ]
  },
  {
   "cell_type": "code",
   "execution_count": null,
   "metadata": {
    "collapsed": true
   },
   "outputs": [],
   "source": []
  }
 ],
 "metadata": {
  "kernelspec": {
   "display_name": "Python 3",
   "language": "python",
   "name": "python3"
  },
  "language_info": {
   "codemirror_mode": {
    "name": "ipython",
    "version": 3
   },
   "file_extension": ".py",
   "mimetype": "text/x-python",
   "name": "python",
   "nbconvert_exporter": "python",
   "pygments_lexer": "ipython3",
   "version": "3.4.3"
  }
 },
 "nbformat": 4,
 "nbformat_minor": 0
}
