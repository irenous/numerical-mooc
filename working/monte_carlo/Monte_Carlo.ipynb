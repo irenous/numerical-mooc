{
 "cells": [
  {
   "cell_type": "markdown",
   "metadata": {},
   "source": [
    "# Monte Carlo Assignment\n",
    "## The Stokes Flow\n",
    "\n",
    "##### Laurent Pétré & Ilan Renous"
   ]
  },
  {
   "cell_type": "markdown",
   "metadata": {},
   "source": [
    "In this assignment, we are going to generate random numbers with different distributions, simulate a brownian motion and simulate a model that predicts magnetism in a ferromagnetic material."
   ]
  },
  {
   "cell_type": "code",
   "execution_count": null,
   "metadata": {
    "collapsed": true
   },
   "outputs": [],
   "source": [
    "# We import the libraries we will need\n",
    "import numpy\n",
    "from matplotlib import pyplot\n",
    "%matplotlib inline"
   ]
  },
  {
   "cell_type": "markdown",
   "metadata": {},
   "source": [
    "## Random numbers\n",
    "\n",
    "### Built-in Vs DIY Implementations"
   ]
  },
  {
   "cell_type": "markdown",
   "metadata": {},
   "source": [
    "For the exponential distribution, we use the inverse function method. This method tells us that the function $$\n",
    "F(x) = -\\frac{1}{\\alpha}\\log(1-x).\n",
    "$$\n",
    "follows a exponential distribution with x a is uniformly distributed in the interval $[0.1[$ .\n",
    "We are going to compare this home-made distribution with a built in generator."
   ]
  },
  {
   "cell_type": "code",
   "execution_count": null,
   "metadata": {
    "collapsed": false
   },
   "outputs": [],
   "source": [
    "alpha = 0.25 # Rate of the exponential distribution\n",
    "\n",
    "# Built-in generator\n",
    "x = numpy.random.exponential(scale=1/alpha, size=100000)\n",
    "\n",
    "# Inverse function\n",
    "u = numpy.random.random_sample(100000)\n",
    "y = -1/alpha*numpy.log(1-u)\n",
    "\n",
    "# Plot\n",
    "pyplot.figure(figsize=(10,10))\n",
    "pyplot.xlim(0, 20)\n",
    "\n",
    "binwidth = 0.5\n",
    "bins = numpy.arange(0, 20, binwidth)\n",
    "pyplot.hist(y, bins, normed=True);\n",
    "pyplot.hist(x, bins, normed=True, alpha=0.75);\n",
    "\n",
    "#Expected\n",
    "bin_centers = bins[:-1] + binwidth/2\n",
    "pyplot.plot(bin_centers, alpha*numpy.exp(-alpha*bin_centers))"
   ]
  },
  {
   "cell_type": "markdown",
   "metadata": {},
   "source": [
    "We see that the two distribution give very similar random number distribution."
   ]
  },
  {
   "cell_type": "markdown",
   "metadata": {},
   "source": [
    "For the gaussian distribution, we will use the rejection method. This method uses a set of random numbers with a given distribution $p_1(x)$, and then extracts from it a subset that obeys the desired distribution $p_2(x)$. In order for the method to work, there must exist a constant K such that we have, \n",
    "\n",
    "$$\n",
    "{p_2(x)}\\leq {Kp_1(x)},\\quad \\forall x.\n",
    "$$\n",
    "\n",
    "We can choose to generate a Gaussian distibution ($p_2(x)$), from an exponantial distribution ($p_1(x)$) since there exist such a constant $K$. Let's use this method and compare it to the built in numpy metod.\n",
    "\n",
    "The rejection method algorithm works as follows. \n",
    "\n",
    "1. We generate a number $x$ according to the exponential distribution.\n",
    "2. We draw a random number $U$ between 0 and 1\n",
    "3. We keep the number $x$ in our final set of randoms numbers if $U<\\frac{p_2(x)}{Kp_1(x)}$.\n"
   ]
  },
  {
   "cell_type": "code",
   "execution_count": null,
   "metadata": {
    "collapsed": false
   },
   "outputs": [],
   "source": [
    "N = 100000 # Number of random numbers to draw\n",
    "h=[] # Empty list for the final set of numbers\n",
    "\n",
    "# Given Gaussian generator from the course with VNR method\n",
    "for i in range(N):\n",
    "    # Distribute g according to the exponential distribution\n",
    "    u1 = numpy.random.random_sample()\n",
    "    g = numpy.log(1/(1-u1))\n",
    "    K = 1.4\n",
    "\n",
    "    # Generate a second number for the acceptance/rejection condition\n",
    "    u2 = numpy.random.random_sample()\n",
    "\n",
    "    # Acceptance/rejection step\n",
    "    ratio = 2*numpy.exp(-g**2/2.0)/numpy.sqrt(2*numpy.pi) / \\\n",
    "                (K*numpy.exp(-g))\n",
    "    if (u2<ratio):\n",
    "        # Append g to the set h\n",
    "        h.append(g)\n",
    "\n",
    "# Built-in generator\n",
    "# We generate twice as much number as with the VNRM \n",
    "# to have to have a scaled histogram \n",
    "x = numpy.random.normal(loc=0, scale=1, size=2*len(h))\n",
    "\n",
    "# Plot\n",
    "pyplot.figure(figsize=(10,10))\n",
    "pyplot.xlim(-5, 5)\n",
    "\n",
    "binwidth = 0.2\n",
    "bins = numpy.arange(-5, 5, binwidth)\n",
    "pyplot.hist(x, bins, normed=False)\n",
    "pyplot.hist(h, bins, normed=False, alpha=0.75)\n",
    "\n",
    "#Expected\n",
    "bin_centers = bins[:-1] + binwidth/2\n",
    "pyplot.plot(bin_centers, \\\n",
    "    numpy.exp(-bin_centers**2/2.0)/numpy.sqrt(2*numpy.pi))"
   ]
  },
  {
   "cell_type": "markdown",
   "metadata": {},
   "source": [
    "Once again, we can see that the random numbers genreated by the rejection method are really close to those generated by the built in generator."
   ]
  },
  {
   "cell_type": "markdown",
   "metadata": {},
   "source": [
    "### Box-Muller"
   ]
  },
  {
   "cell_type": "markdown",
   "metadata": {},
   "source": [
    "Now, we are going to use another method to generate a gaussian distribution : the Box-Muller method.\n",
    "\n",
    "This method can be summurized as follow :\n",
    "\n",
    "We must first consider the product of two independant gaussian distributions for the sake of our calculation.\n",
    "\n",
    "$$\n",
    "f(x, y)=\\frac{1}{2\\pi} e^{-\\frac{x^2+y^2}{2}}\n",
    "$$\n",
    "\n",
    "We consider the polar coordinates\n",
    "\n",
    "$$x=r\\cos(\\theta)$$\n",
    "$$y=r\\sin(\\theta)$$\n",
    "\n",
    "From the central symmetry, $\\theta$ is of course uniformly distributed in the interval $[0, 2\\pi[$. With this fact, we can conclude that, for $x$ and $y$ distributed following a gaussian distribution, $r$ is distibuted following the relation:\n",
    "\n",
    "$$r=\\sqrt{-2\\ln{u}}$$\n",
    "\n",
    "Where u is a uniformly distributed variable in the interval $[0,1[$.If we generate $x$ and $y$ with those distrubution of $r$ and $\\theta$, they will follow two independent gaussian distrubutions.\n",
    "\n",
    "\n",
    "In Python that gives us :"
   ]
  },
  {
   "cell_type": "code",
   "execution_count": null,
   "metadata": {
    "collapsed": false
   },
   "outputs": [],
   "source": [
    "def box_muller(avg, stdev):\n",
    "    \"\"\"\n",
    "    Box Muller implementation.\n",
    "\n",
    "    Parameters\n",
    "    ----------\n",
    "    avg: float\n",
    "        average of the gauss distribution\n",
    "\n",
    "    stdev: float\n",
    "        standard deviation of the gaussian\n",
    "\n",
    "    Returns\n",
    "    -------\n",
    "    array[2]\n",
    "        two independant numbers distributed following the requested gaussian\n",
    "    \"\"\"\n",
    "\n",
    "    i = numpy.random.random_sample(2)\n",
    "    r = numpy.sqrt(-2*numpy.log(i[0]))\n",
    "\n",
    "    return avg + stdev * \\\n",
    "        r*numpy.array([numpy.cos(2*numpy.pi*i[1]), \\\n",
    "                        numpy.sin(2*numpy.pi*i[1])])\n",
    "\n",
    "# We draw 100000 numbers\n",
    "x = numpy.empty(100000)\n",
    "for i in range(0, 50000):\n",
    "    t = box_muller(0, 1)\n",
    "    x[i] = t[0]\n",
    "    x[50000 + i] = t[1]\n",
    "\n",
    "# Plot\n",
    "pyplot.xlim(-5, 5)\n",
    "\n",
    "binwidth = 0.2\n",
    "bins = numpy.arange(-5, 5, binwidth)\n",
    "pyplot.hist(x, bins, normed=True);\n",
    "\n",
    "#Expected\n",
    "bin_centers = bins[:-1] + binwidth/2\n",
    "pyplot.plot(bin_centers, \\\n",
    "        numpy.exp(-bin_centers**2/2.0)/numpy.sqrt(2*numpy.pi))"
   ]
  },
  {
   "cell_type": "markdown",
   "metadata": {},
   "source": [
    "This method is very efficient and generate, like we can see on this graph, random numbers following a gaussian distribution."
   ]
  },
  {
   "cell_type": "markdown",
   "metadata": {},
   "source": [
    "## Brownian motion\n",
    "\n",
    "The model equation for the evolution of the position of a molecule of dye in water is:\n",
    "\n",
    "$$\n",
    "dx=x(t+dt)−x(t)=ds\n",
    "$$\n",
    "\n",
    "$ds$ is a displacement resulting from the collision with surrounding water molecules.\n",
    "\n",
    "We will model $ds$ as\n",
    "$$ ds=cdt+\\sqrt{\\alpha dt}\\cal{N(0,1)} $$\n",
    "\n",
    "where $\\alpha$ is the same diffusion coefficient that one would use in the diffusion equation $$\n",
    "\\frac{\\partial \\rho}{\\partial t}=\\alpha \\frac{\\partial^2 \\rho}{\\partial x^2}\n",
    "$$\n",
    "\n",
    "With $\\rho$ being the density of the dye.\n",
    "\n",
    "Moreover, at each time step, $\\cal{N(0,1)}$ is a random number that is generated from a normal  distribution $f(n)$, centered around $0$, and with variance equal to $1$. \n",
    "\n",
    "This is a deplacement forced by a random collision and by a systematic displacement $cdt$. This could model an electrons under a electric field \"colliding\" randomly with atoms in a metal."
   ]
  },
  {
   "cell_type": "markdown",
   "metadata": {},
   "source": [
    "To test our stochastic model and make the comparison with the diffusion equation, we initialise the position of our sample of molecules with a Gaussian distribution:\n",
    "\n",
    "$$\n",
    "P(x) = \\frac{1}{\\sqrt{2\\pi\\sigma^2}}e^{-\\frac{(x-\\mu)^2}{2\\sigma^2}}\n",
    "$$ \n",
    "\n",
    "where $\\sigma^2$ is the variance of the positions and $\\mu$ is their average. As $n(x,0)=NP(x)dx$, we have $\\rho(x,0)=P(x)$. In this case, the solution of the diffusion equation,\n",
    "\n",
    "$$\n",
    "\\frac{\\partial \\rho}{\\partial t}=\\alpha \\frac{\\partial^2 \\rho}{\\partial x^2}\n",
    "$$\n",
    "\n",
    "can be computed exactly and is given by:\n",
    "\n",
    "$$\n",
    "\\rho(x,t)=\\frac{1}{\\sqrt{2\\pi\\sigma_t^2}}e^{-\\frac{(x-\\mu_t)^2}{2\\sigma_t^2}}\n",
    "$$\n",
    "\n",
    "with $\\sigma^2_t = 2\\alpha t + \\sigma^2$ and $\\mu_t=ct$.\n",
    "\n",
    "We will follow the path of 100000 particules that are subject to this motion during a time  $T$. Let's see whats does the position distribution looks like at time $T$. If all goes well, we should recover this solution using our random walk technique."
   ]
  },
  {
   "cell_type": "code",
   "execution_count": null,
   "metadata": {
    "collapsed": false
   },
   "outputs": [],
   "source": [
    "# Initial conditions\n",
    "npart = 100000\n",
    "mu = 0.\n",
    "sigma = 1.\n",
    "\n",
    "# Time to simulate\n",
    "T = 50.\n",
    "nt = 500\n",
    "dt = T/nt\n",
    "\n",
    "# System parameters\n",
    "alpha = 2.\n",
    "c = 0.5\n",
    "\n",
    "# Generate a set of initial positions based on the Gaussian distribution\n",
    "x = numpy.random.normal(loc = mu, scale=sigma, size=npart)\n",
    "\n",
    "# Evolution\n",
    "for i in range(nt):\n",
    "    xi = x.copy()\n",
    "    x = xi + c*dt + numpy.sqrt(2*alpha*dt)*numpy.random.normal(0, 1, npart)\n",
    "\n",
    "# Plot\n",
    "pyplot.figure(figsize=(15, 10))\n",
    "pyplot.xlim(-50, 100)\n",
    "\n",
    "binwidth = 0.75\n",
    "bins = numpy.arange(-50, 100, binwidth)\n",
    "pyplot.hist(x, bins, normed=True);\n",
    "\n",
    "# Expected\n",
    "mut = mu + c*T\n",
    "sigmat2 = 2*alpha*T + sigma**2\n",
    "\n",
    "bin_centers = bins[:-1] + binwidth/2\n",
    "pyplot.plot(bin_centers, \\\n",
    "    numpy.exp(-(bin_centers - mut)**2/(2*sigmat2)) * \\\n",
    "    1/numpy.sqrt(2*numpy.pi*sigmat2))"
   ]
  },
  {
   "cell_type": "markdown",
   "metadata": {},
   "source": [
    "It looks like the random walk algorithm gives a very similar to the exact solution.  The particles tend to spread away from each other and are \"pushed\" towards increasing x."
   ]
  },
  {
   "cell_type": "markdown",
   "metadata": {},
   "source": [
    "### Friction\n",
    "\n",
    "We can also model the displacment $ds$ by \n",
    "\n",
    "$$ ds=-\\gamma x dt +\\sqrt{\\alpha dt}\\cal{N(0,1)} $$\n",
    "\n",
    "this can be a model for a deplacement forced by a rondom collision with a friction term. We will analize the positions of the particules after a time $T$ with the same initial setup as before. We can show that the exact solution for the distribution is given by\n",
    "\n",
    "$$\n",
    "P(x,t)=\\frac{1}{\\sqrt{\\frac{4\\pi\\alpha}{\\gamma}(1-e^{-2\\gamma t})}}e^{-\\frac{(x-e^{-\\gamma t}x_0)^2}{4\\alpha /\\gamma}(1-e^{-2\\gamma t})}\n",
    "$$\n",
    "\n",
    "Where $x_0$ is the initial distribution for the position, a normal distribution in our case. We can see that this goes for $t\\rightarrow \\infty$ to \n",
    "\n",
    "$$\n",
    "P(x) = \\frac{1}{\\sqrt{4\\pi\\alpha /\\gamma}}e^{-\\frac{x^2}{\\alpha /\\gamma^2}}\n",
    "$$ \n",
    "\n",
    "Which is a gaussian distribution with $\\mu=0$ and $\\sigma=2\\alpha /\\gamma$\n",
    "We will analize the positions of the particules after a time $T$ very big with the same initial setup as before."
   ]
  },
  {
   "cell_type": "code",
   "execution_count": null,
   "metadata": {
    "collapsed": false
   },
   "outputs": [],
   "source": [
    "# Initial conditions\n",
    "npart = 100000\n",
    "mu = 0.\n",
    "sigma = 1.\n",
    "\n",
    "# Time to simulate\n",
    "T = 150000\n",
    "nt = 50000\n",
    "#T1 = 15000\n",
    "#T2 = 20000\n",
    "\n",
    "# System parameters\n",
    "alpha = 2.\n",
    "gamma = 0.4\n",
    "\n",
    "def friction(T, nt):\n",
    "    dt = T/nt\n",
    "\n",
    "    # Generate a set of initial positions based on the Gaussian distribution\n",
    "    x = numpy.random.normal(loc = mu, scale=sigma, size=npart)\n",
    "\n",
    "    # Evolution\n",
    "    for i in range(nt):\n",
    "        xi = x.copy()\n",
    "        x = xi - gamma*xi*dt + \\\n",
    "            numpy.sqrt(2*alpha*dt)*numpy.random.normal(0, 1, npart)\n",
    "\n",
    "    return x\n",
    "\n",
    "x = friction(T, nt)\n",
    "#x1 = friction(T1, nt)\n",
    "#x2 = friction(T2, nt)\n",
    "\n",
    "# Plot\n",
    "pyplot.figure(figsize=(15, 10))\n",
    "pyplot.xlim(-50, 50)\n",
    "\n",
    "binwidth = 0.5\n",
    "bins = numpy.arange(-50, 50, binwidth)\n",
    "pyplot.hist(x, bins, normed=True);\n",
    "#pyplot.hist(x1, bins, normed=True);\n",
    "#pyplot.hist(x2, bins, normed=True, alpha=0.75)\n",
    "\n",
    "# Expected\n",
    "mut = mu\n",
    "sigmat2 = 2*alpha/gamma\n",
    "\n",
    "bin_centers = bins[:-1] + binwidth/2\n",
    "pyplot.plot(bin_centers, \\\n",
    "    numpy.exp(-(bin_centers - mut)**2/(2*sigmat2)) * \\\n",
    "    1/numpy.sqrt(2*numpy.pi*sigmat2))"
   ]
  },
  {
   "cell_type": "markdown",
   "metadata": {},
   "source": [
    " We can see that they are really close. We can suppose that the distribution reaches a steady states as $t\\rightarrow \\infty$."
   ]
  },
  {
   "cell_type": "markdown",
   "metadata": {},
   "source": [
    "## Phase transition for ferromagnteic material\n",
    "\n",
    "Using, the Metropolis algorithm, we are going to compute the magnetisation of a ferromagnetic material following the Ising model. We will prove that a metal, following this model, has different magnetic propreties before and after a temperature $T_c$. This temperature is called the the Curie temperature. "
   ]
  },
  {
   "cell_type": "markdown",
   "metadata": {},
   "source": [
    "### Ising model\n",
    "\n",
    "In the Ising model of ferromagnetism, the material considered is described using dipoles, distributed on a regular lattice and that can either point upwards or downwards (see figure 1). These dipoles represent the atoms that constitute the material and act like magnets oriented in different directions.\n",
    "\n",
    "<img src=\"lattice1.png\" alt=\"Drawing\" style=\"width: 300px;\"/>\n",
    "Figure 1\n",
    "\n",
    "In the simplest version of the Ising model, all the dipoles interact with their nearest neighbors (left, right, above, below). When two neighbors are aligned, the system is in a more stable configuration than when they are aligned in opposite directions. The energy of the system can then be written as,\n",
    "\n",
    "$$\n",
    "E=-J\\sum_{pairs(i,j)} s_i s_j\n",
    "$$\n",
    "\n",
    "where the sum runs over all the pairs of dipoles in the system and $s_i$ denotes the 'spin' of the $i$-th dipole which is equal to $1$ or $-1$ wether the dipole points upwards or downwards; $J>0$ is the coupling constant for each pair of dipoles. We thus see that the energy is minimized and equal to $-JN_{pairs}$ when all the dipoles point in the same direction.\n",
    "\n",
    "For computation, we will adopt a non-dimensional unit system. \n",
    "Initially, our ferromagnetism problem has two parameters: the temperature $T$ and the coupling constant $J$. However, if we adopt as energy unit the product $k_b T$, our model has only one free parameter $\\alpha=J/(k_b T)$ and the relevant formulas read:\n",
    "\n",
    "$$\n",
    "E = -{\\alpha} \\sum_{pairs(i,j)} s_i s_j\n",
    "$$"
   ]
  },
  {
   "cell_type": "code",
   "execution_count": null,
   "metadata": {
    "collapsed": true
   },
   "outputs": [],
   "source": [
    "def energy_at_site(sp, alpha, sigma, ix, iy):\n",
    "    \"\"\"\n",
    "    Computes the contribution to the energy for a given spin\n",
    "    at location ix,iy for a lattice with periodic boundary conditions\n",
    "   \n",
    "    Parameters:\n",
    "    ----------\n",
    "    sp: array[NxN]\n",
    "        array of spins\n",
    "    alpha: float\n",
    "        coupling constant J/(kb*T)\n",
    "    sigma: int\n",
    "        spin at site ix, iy\n",
    "    ix, iy: int\n",
    "        x and y location\n",
    "   \n",
    "    Returns:\n",
    "    -------\n",
    "    energy: float\n",
    "        energy for the given configuration\n",
    "    \"\"\"\n",
    "\n",
    "    return -alpha*sigma*(sp[(ix-1)%nx,iy]+sp[(ix+1)%nx,iy]+sp[ix,(iy-1)%ny]+sp[ix,(iy+1)%ny])"
   ]
  },
  {
   "cell_type": "markdown",
   "metadata": {},
   "source": [
    "According to statistical mechanics, the probability of finding the system in a given configuration $X$ is equal to,\n",
    "\n",
    "$$\n",
    "p(X) = \\frac{e^{-\\beta E_X}}{Z}\n",
    "$$\n",
    "\n",
    "where $E_X$ is the potential energy of the configuration and $\\beta=1/k_B T$ where $k_B$ is the so-called Boltzmann constant. In other words, the higher the potential energy, the less likely it is to find the system in the corresponding configuration. In the above formula $Z$ is a normalisation constant such that $\\sum_X p(X)=1$."
   ]
  },
  {
   "cell_type": "markdown",
   "metadata": {},
   "source": [
    "### The Metropolis algorithm\n",
    "\n",
    "Let us consider an initial state in which each spin takes a random orientation.\n",
    "\n",
    "The unit step of the Metropolis algorithm consists in choosing a random spin and in attempting to change its orientation. If the energy of the reversed spin decreases, the flipped state is chosen as the new configuration of the system.\n",
    "Otherwise if the energy increases by $\\Delta E$, the flip is only accepted with the probability,\n",
    "\n",
    "$$\n",
    "p_{\\rm flip}=e^{-\\Delta E},\n",
    "$$\n",
    "\n",
    "otherwise the current state is retained as the new configuration. This process is repeated until a large enough number of states $X_k$ has been collected.\n",
    "\n",
    "With the formula above, we immediately see that each time a dipole is flipped, the energy changes by an amount equal to,\n",
    "\n",
    "$$\n",
    "\\Delta E = -{\\alpha} s_i \\sum_{j \\in n(i)} s_j\n",
    "$$\n",
    "\n",
    "where $n(i)$ denotes all the neighbors of the $i$-th dipole. $\\Delta E$ is positive or negative depending on the sign of $s_i$ and the total spin of the neighbors.\n",
    "\n",
    "The contribution to the energy coming from a change of spin at one site is computed with the following function. we assume that the system is periodic in both directions :"
   ]
  },
  {
   "cell_type": "code",
   "execution_count": null,
   "metadata": {
    "collapsed": true
   },
   "outputs": [],
   "source": [
    "def metropolis_at_site(sp, alpha, ix, iy):\n",
    "    \"\"\"\n",
    "    Flips a dipole at site ix, iy when probability condition is met.\n",
    "\n",
    "    Parameters:\n",
    "    ----------\n",
    "    sp: arra[NxN]\n",
    "        array of spins\n",
    "    alpha: float\n",
    "        coupling constant J/(kb*T)\n",
    "    ix, iy: int\n",
    "        x and y location\n",
    "    \"\"\"\n",
    "\n",
    "    sigma=sp[ix,iy]\n",
    "    energy_before_flip = energy_at_site(sp,alpha,sigma,ix,iy)\n",
    "    sigma = -sigma\n",
    "    energy_if_site_flipped = energy_at_site(sp,alpha,sigma,ix,iy)\n",
    "    \n",
    "    # Flip the site with Metropolis probability\n",
    "    # Condition is always satisifed if dE < 0\n",
    "    if (numpy.random.random_sample()<numpy.exp(-(energy_if_site_flipped \\\n",
    "                                               -energy_before_flip))):\n",
    "        sp[ix,iy]=-sp[ix,iy]"
   ]
  },
  {
   "cell_type": "markdown",
   "metadata": {},
   "source": [
    "The averages we are interested in, such as the energy or the magnetisation, are then computed according to,\n",
    "\n",
    "$$\n",
    "<E> = \\frac{\\sum_k E_k}{N_k}\\\\\n",
    "<M> = \\frac{\\sum_k M_k}{N_k}\n",
    "$$\n",
    "\n",
    "where the sums run over all the states generated through the Metropolis algorithm and $N_k$ is the total number of them. And with $M_X=\\sum_{i=1}^N s_i$ for the given state. Above the Curie temperature, one has $<M>=0$ while $<M>$ has a finite non vanishing value below the Curie temperature.\n",
    "\n",
    "Compared to the averages over all possible states, we see here that we only sum over a subset of them. However, thanks to the Metropolis algorithm, the states corresponding to different values of the energy are generated with the right distribution function and the averages above converge to the equilibrium values as $N_k\\rightarrow \\infty$."
   ]
  },
  {
   "cell_type": "code",
   "execution_count": null,
   "metadata": {
    "collapsed": false
   },
   "outputs": [],
   "source": [
    "def energy_array(sp, alpha):\n",
    "    \"\"\"\n",
    "    Computes the energy lattice from a spin lattice.\n",
    "   \n",
    "    Parameters:\n",
    "    ----------\n",
    "    sp: array[NxM]\n",
    "        array of spins\n",
    "\n",
    "    alpha: float\n",
    "        coupling constant\n",
    "   \n",
    "    Returns:\n",
    "    -------\n",
    "    array[NxM] of float\n",
    "        energy lattice for the given configuration\n",
    "    \"\"\"\n",
    "\n",
    "    return -alpha*sp[:, :]* \\\n",
    "        (numpy.roll(sp, 1, axis=0) + numpy.roll(sp, -1, axis=0) + \\\n",
    "         numpy.roll(sp, 1, axis=1) + numpy.roll(sp, -1, axis=1))\n",
    "\n",
    "def total_energy(sp, alpha):\n",
    "    \"\"\"\n",
    "    Computes the total energy of the lattice.\n",
    "   \n",
    "    Parameters:\n",
    "    ----------\n",
    "    sp: array[NxM]\n",
    "        array of spins\n",
    "\n",
    "    alpha: float\n",
    "        coupling constant\n",
    "\n",
    "    Returns:\n",
    "    -------\n",
    "    float\n",
    "        total energy for the given configuration\n",
    "    \"\"\"\n",
    "\n",
    "    return energy_array(sp, alpha).sum()\n",
    "\n",
    "def total_magnetization(sp):\n",
    "    \"\"\"\n",
    "    Computes the total magnetiaztion of the lattice.\n",
    "   \n",
    "    Parameters:\n",
    "    ----------\n",
    "    sp: array[NxM]\n",
    "        array of spins\n",
    "   \n",
    "    Returns:\n",
    "    -------\n",
    "    float\n",
    "        magnetization for the given configuration\n",
    "    \"\"\"\n",
    "\n",
    "    return sp.sum()"
   ]
  },
  {
   "cell_type": "markdown",
   "metadata": {},
   "source": [
    "### Implementation\n",
    "We will run the metropolis algorithm on all the sites."
   ]
  },
  {
   "cell_type": "code",
   "execution_count": null,
   "metadata": {
    "collapsed": true
   },
   "outputs": [],
   "source": [
    "def ising_model_metropolis(sp, alpha, NMC):\n",
    "    \"\"\"\n",
    "    Creates a sequence of states for the Ising model using\n",
    "    the Metropolis algorithm.\n",
    "\n",
    "    Parameters:\n",
    "    ----------\n",
    "    sp: array[NxN]\n",
    "        initial lattice state\n",
    "    alpha: float\n",
    "        coupling constant J/(kb*T)\n",
    "    NMC: int\n",
    "        number of states to create\n",
    "\n",
    "    Returns:\n",
    "    -------\n",
    "    states: array[NMC+1xNxN]\n",
    "        sequence of states\n",
    "    \"\"\"\n",
    "\n",
    "    size = sp.shape\n",
    "    nx = size[0]\n",
    "    ny = size[1]\n",
    "\n",
    "    states = numpy.empty([NMC+1,nx,ny])\n",
    "    states[0] = sp.copy()\n",
    "\n",
    "    for i in range(1,NMC+1):\n",
    "        for j in range(0,nx*ny):\n",
    "            ix=numpy.random.random_integers(0,nx-1)\n",
    "            iy=numpy.random.random_integers(0,ny-1)\n",
    "            metropolis_at_site(sp,alpha,ix,iy)\n",
    "        states[i]=sp.copy()\n",
    "\n",
    "    return states"
   ]
  },
  {
   "cell_type": "markdown",
   "metadata": {},
   "source": [
    "### Value of $\\alpha$ for the phase transition\n"
   ]
  },
  {
   "cell_type": "markdown",
   "metadata": {},
   "source": [
    "Now we will look at the result of this method for varying $\\alpha$. For each result, we will then evaluate the energy and the magnetisation of the final state. There should be a break in the magnetization of the final state around a the $\\alpha$ corresponding to the temperature $T_c$. In term of $\\alpha$ this temperature is expressed as $T_c= J/k_b \\alpha$."
   ]
  },
  {
   "cell_type": "code",
   "execution_count": null,
   "metadata": {
    "collapsed": false
   },
   "outputs": [],
   "source": [
    "def ising_model_metropolis_for_alphas(spi, alphas, NMC):\n",
    "    \"\"\"\n",
    "    Creates a sequence of states for the Ising model using\n",
    "    the Metropolis algorithm.\n",
    "\n",
    "    Parameters:\n",
    "    ----------\n",
    "    spi: array[NxN]\n",
    "        initial lattice state\n",
    "    alphas: list of float\n",
    "        coupling constant J/(kb*T)\n",
    "    NMC: int\n",
    "        number of states to create\n",
    "\n",
    "    Returns:\n",
    "    -------\n",
    "    energy: list of floats\n",
    "        average energy for asked alphas\n",
    "    magn: list of floatsµ\n",
    "        average magnetization for asked alphas\n",
    "    \"\"\"\n",
    "\n",
    "    size = alphas.shape\n",
    "    na = size[0]\n",
    "\n",
    "    energy = numpy.zeros(na)\n",
    "    magn = numpy.zeros(na)\n",
    "\n",
    "    for i in range(0, na):\n",
    "        sp = spi.copy()\n",
    "        states = ising_model_metropolis(sp, alphas[i], NMC)\n",
    "        for j in range(25, NMC+1):\n",
    "            energy[i] += total_energy(states[j], alphas[i])/(NMC+1-25)\n",
    "            magn[i] += numpy.abs(total_magnetization(states[j])/(NMC+1-25))\n",
    "\n",
    "    return energy, magn"
   ]
  },
  {
   "cell_type": "markdown",
   "metadata": {},
   "source": [
    "We set the different parameters of our grid and the range of $\\alpha$ as follow:"
   ]
  },
  {
   "cell_type": "code",
   "execution_count": null,
   "metadata": {
    "collapsed": false
   },
   "outputs": [],
   "source": [
    "NMC = 100 #number of iteration for metropolis\n",
    "nx = 100 #size of the grid\n",
    "ny = 100\n",
    "\n",
    "na = 25  # nummber of step for the value aplha\n",
    "alpha_min=0. #range for alpha\n",
    "alpha_max=1.\n",
    "alpha = numpy.linspace(alpha_min, alpha_max, na)"
   ]
  },
  {
   "cell_type": "markdown",
   "metadata": {},
   "source": [
    "We will first compute the evolution of the magnetization and the energy for a system where, initially, all spins are pointing upwards."
   ]
  },
  {
   "cell_type": "code",
   "execution_count": null,
   "metadata": {
    "collapsed": false
   },
   "outputs": [],
   "source": [
    "spi = numpy.ones([nx, ny]) #initial condition of all spin up\n",
    "\n",
    "energy, magn = ising_model_metropolis_for_alphas(spi, alpha, NMC) \n",
    "\n",
    "pyplot.figure(figsize=(15, 10))\n",
    "pyplot.plot(alpha, energy)\n",
    "pyplot.plot(alpha, magn)\n",
    "pyplot.axvline(0.4406867935, color='red')"
   ]
  },
  {
   "cell_type": "markdown",
   "metadata": {},
   "source": [
    "We can clearly see that something happens around $\\alpha=0.45$. At this value of $\\alpha$, the final states goes from almost not magnetize to a maximum magnetization around 10000. This clearly shows a phase transition between two states for a ferromagnetic material.\n",
    "\n",
    "The Onsager's solution for the value of $T_c$ for the Ising model is \n",
    "\n",
    "$$T_c=\\frac{2J}{k_b\\ln(1+\\sqrt{2})}$$\n",
    "\n",
    "We extract $\\alpha$ at this temperature\n",
    "\n",
    "$$\\alpha_c=\\frac{ln(1+\\sqrt{2})}{2}$$\n",
    "\n",
    "which is illustrated by the red line which match our simulated value."
   ]
  },
  {
   "cell_type": "markdown",
   "metadata": {},
   "source": [
    "We can run this algorithm for a different initial distribution of spin. We chose this distribution to be random inside the grid and pointing upward on the edge of the grid. We should ge approximately the same relsult for $\\alpha_c$"
   ]
  },
  {
   "cell_type": "code",
   "execution_count": null,
   "metadata": {
    "collapsed": false
   },
   "outputs": [],
   "source": [
    "spi = numpy.ones([nx, ny])\n",
    "spi[1:-1,1:-1] = numpy.where(numpy.random.random_sample((nx-2, ny-2)) < 0.5, -1, 1)\n",
    "\n",
    "energy, magn = ising_model_metropolis_for_alphas(spi, alpha, NMC)\n",
    "\n",
    "pyplot.figure(figsize=(15, 10))\n",
    "pyplot.plot(alpha, energy)\n",
    "pyplot.plot(alpha, magn)\n",
    "pyplot.axvline(0.4406867935, color='red')"
   ]
  },
  {
   "cell_type": "markdown",
   "metadata": {},
   "source": [
    "It looks like there is a problem. This might be because the set of data is not big enough to give the predicted result."
   ]
  },
  {
   "cell_type": "markdown",
   "metadata": {},
   "source": [
    "## Conclusion\n",
    "\n",
    "We saw that generating random numbers following different distributions could be easily done with the Von Neumann rejection method. Although, to be efficient, the choice of the distribution used needs to be done in order to minimizes rejected data. If the distribution is invertible, the invertion method is very easy to implement and efficient but, the inverse function might be hard to find.\n",
    "\n",
    "The random walk method is a very efficient way to model the diffusion process. It can also model stochastic event such as stock prices. As soon as the complexity of the model for a small displacement increases, finding the analytical solution become almost impossible. This is why it is very usefull to compute those processes with numerical methods.\n",
    "\n",
    "It was also interesting to see the preidction power of a relatively simple model that is the Ising model. The phase transition is remarkably well predicted with an initial magetized state, but not at all with a random initial state. this might be due to a grid size not sufficiently big. This algorithm could be computed for a way larger grid and with a bigger number of iteration but it has not been done because the computation was far too long."
   ]
  },
  {
   "cell_type": "markdown",
   "metadata": {},
   "source": [
    "##### Source\n",
    "\n",
    "(1) We used the following lectures https://github.com/bknaepen/numerical-mooc, Branch Monte-Carlo, available under Creative Commons Attribution license CC-BY 4.0, (c)2014 L.A. Barba, C. Cooper, G.F. Forsyth, A. Krishnan, B. Knaepen."
   ]
  },
  {
   "cell_type": "markdown",
   "metadata": {
    "collapsed": true
   },
   "source": [
    "---\n",
    "###### The cell below loads the style of this notebook. "
   ]
  },
  {
   "cell_type": "code",
   "execution_count": null,
   "metadata": {
    "collapsed": false
   },
   "outputs": [],
   "source": [
    "# Execute this cell to load the notebook's style sheet, then ignore it\n",
    "from IPython.core.display import HTML\n",
    "css_file = '../../styles/numericalmoocstyle.css'\n",
    "HTML(open(css_file, \"r\").read())"
   ]
  },
  {
   "cell_type": "code",
   "execution_count": null,
   "metadata": {
    "collapsed": true
   },
   "outputs": [],
   "source": []
  }
 ],
 "metadata": {
  "kernelspec": {
   "display_name": "Python 3",
   "language": "python",
   "name": "python3"
  },
  "language_info": {
   "codemirror_mode": {
    "name": "ipython",
    "version": 3
   },
   "file_extension": ".py",
   "mimetype": "text/x-python",
   "name": "python",
   "nbconvert_exporter": "python",
   "pygments_lexer": "ipython3",
   "version": "3.4.4"
  }
 },
 "nbformat": 4,
 "nbformat_minor": 0
}
