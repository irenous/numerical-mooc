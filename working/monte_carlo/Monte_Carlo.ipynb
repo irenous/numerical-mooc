{
 "cells": [
  {
   "cell_type": "markdown",
   "metadata": {},
   "source": [
    "# Monte Carlo Assignment\n",
    "## The Stokes Flow\n",
    "\n",
    "##### Laurent Pétré & Ilan Renous"
   ]
  },
  {
   "cell_type": "markdown",
   "metadata": {},
   "source": [
    "In this assignment, we are going to generate random numbers with different distributions, simulate a brownian motion and simulate a model that predicts magnetism in a ferromagnetic material."
   ]
  },
  {
   "cell_type": "code",
   "execution_count": 21,
   "metadata": {
    "collapsed": true
   },
   "outputs": [],
   "source": [
    "#we import libraries\n",
    "import numpy\n",
    "from matplotlib import pyplot\n",
    "%matplotlib inline"
   ]
  },
  {
   "cell_type": "markdown",
   "metadata": {},
   "source": [
    "## Random numbers"
   ]
  },
  {
   "cell_type": "markdown",
   "metadata": {},
   "source": [
    "### Built-in Vs DIY Implementations"
   ]
  },
  {
   "cell_type": "markdown",
   "metadata": {},
   "source": [
    "We are going to generate random numbers following a gaussian and an exponential distibution from a uniform random numbers generator. For the Gaussian distibution we are going to use the Von-Neumann rejection method and compare it to the built in numpy metod."
   ]
  },
  {
   "cell_type": "code",
   "execution_count": 22,
   "metadata": {
    "collapsed": false
   },
   "outputs": [
    {
     "data": {
      "text/plain": [
       "[<matplotlib.lines.Line2D at 0xd434ef0>]"
      ]
     },
     "execution_count": 22,
     "metadata": {},
     "output_type": "execute_result"
    },
    {
     "data": {
      "image/png": "[encoded data removed]",
      "text/plain": [
       "<matplotlib.figure.Figure at 0xd4b9358>"
      ]
     },
     "metadata": {},
     "output_type": "display_data"
    }
   ],
   "source": [
    "# Number of random numbers to draw according to p1 \n",
    "N = 100000\n",
    "K = 1.4\n",
    "\n",
    "# Empty list for the final set of numbers\n",
    "h=[]\n",
    "\n",
    "#given Gaussian generator from the course with VNR method\n",
    "for i in range(N):\n",
    "    u1 = numpy.random.random_sample()\n",
    "    \n",
    "    # Distribute g according to the exponential distribution\n",
    "    g = numpy.log(1/(1-u1))\n",
    "    \n",
    "    # Generate a second number for the acceptance/rejection condition\n",
    "    u2 = numpy.random.random_sample()\n",
    "    \n",
    "    # Acceptance/rejection step\n",
    "    ratio = 2*numpy.exp(-g**2/2.0)/numpy.sqrt(2*numpy.pi) / \\\n",
    "                (K*numpy.exp(-g))\n",
    "    if (u2<ratio):\n",
    "        # Append g to the set h\n",
    "        h.append(g)\n",
    "\n",
    "# Built-in generator; we generate twice as much number as with the VNRM to have\n",
    "#to have a scaled histogram \n",
    "x = numpy.random.normal(loc=0, scale=1, size=2*len(h))\n",
    "\n",
    "# Plot\n",
    "pyplot.figure(figsize=(10,10))\n",
    "pyplot.xlim(-5, 5)\n",
    "\n",
    "binwidth = 0.2\n",
    "bins = numpy.arange(-5, 5, binwidth)\n",
    "pyplot.hist(x, bins, normed=False)\n",
    "pyplot.hist(h, bins, normed=False, alpha=0.75)\n",
    "\n",
    "#Expected\n",
    "bin_centers = bins[:-1] + binwidth/2\n",
    "pyplot.plot(bin_centers, numpy.exp(-bin_centers**2/2.0)/numpy.sqrt(2*numpy.pi))"
   ]
  },
  {
   "cell_type": "markdown",
   "metadata": {},
   "source": [
    "We see that the two distribution give very similar random number distribution."
   ]
  },
  {
   "cell_type": "markdown",
   "metadata": {},
   "source": [
    "For the exponential distribution, we use the inverse function method. This method tells us that the function $$\n",
    "F(x) = -\\frac{1}{\\alpha}\\log(1-x).\n",
    "$$\n",
    "follows a exponential distribution and x a is uniformly distributed in the interval [0.1["
   ]
  },
  {
   "cell_type": "code",
   "execution_count": 23,
   "metadata": {
    "collapsed": false
   },
   "outputs": [
    {
     "data": {
      "text/plain": [
       "[<matplotlib.lines.Line2D at 0xc9ca5c0>]"
      ]
     },
     "execution_count": 23,
     "metadata": {},
     "output_type": "execute_result"
    },
    {
     "data": {
      "image/png": "[encoded data removed]",
      "text/plain": [
       "<matplotlib.figure.Figure at 0x6165b70>"
      ]
     },
     "metadata": {},
     "output_type": "display_data"
    }
   ],
   "source": [
    "alpha = 0.25 # Rate of the exponential distribution\n",
    "\n",
    "# Built-in generator\n",
    "x = numpy.random.exponential(scale=1/alpha, size=100000)\n",
    "\n",
    "# Inverse function\n",
    "u = numpy.random.random_sample(100000)\n",
    "y = -1/alpha*numpy.log(1-u)\n",
    "\n",
    "# Plot\n",
    "pyplot.figure(figsize=(10,10))\n",
    "pyplot.xlim(0, 20)\n",
    "\n",
    "binwidth = 0.5\n",
    "bins = numpy.arange(0, 20, binwidth)\n",
    "pyplot.hist(y, bins, normed=True);\n",
    "pyplot.hist(x, bins, normed=True, alpha=0.75);\n",
    "\n",
    "#Expected\n",
    "bin_centers = bins[:-1] + binwidth/2\n",
    "pyplot.plot(bin_centers, alpha*numpy.exp(-alpha*bin_centers))"
   ]
  },
  {
   "cell_type": "markdown",
   "metadata": {},
   "source": [
    "Once again, we can see that the random numbers genreated by the inversion method are really close to those generated by the built in generator."
   ]
  },
  {
   "cell_type": "markdown",
   "metadata": {},
   "source": [
    "### Box-Muller  --------------------------------------laurent!!!"
   ]
  },
  {
   "cell_type": "markdown",
   "metadata": {},
   "source": [
    "Now, we are going to use another method to generate a gaussian distribution: the Box-Muller method.\n",
    "\n",
    "This method is summurized as follow:\n",
    "\n",
    "We use the product of two independant gaussian distributions  \n",
    "$$\n",
    "f(x, y)=\\frac{1}{2\\pi} e^{-\\frac{x^2+y^2}{2}}\n",
    "$$\n",
    "\n",
    "We consider the polar coordinates\n",
    "\n",
    "$$x=r\\cos(\\theta)$$\n",
    "$$y=r\\sin(\\theta)$$\n",
    "\n",
    "From the central symmetry, $\\theta$ is of course uniformly distribited in the interval $[0,2\\pi[$. With this fact, we can conclude that $r$ is distibuted following the relation:\n",
    "$$r=\\sqrt{-2\\ln{u}}$$\n",
    "\n",
    "Where u is a uniformly distributed variable in the interval $[0,1[$.\n",
    "For our implementation, we use the"
   ]
  },
  {
   "cell_type": "code",
   "execution_count": 24,
   "metadata": {
    "collapsed": false
   },
   "outputs": [
    {
     "data": {
      "text/plain": [
       "[<matplotlib.lines.Line2D at 0x797cd30>]"
      ]
     },
     "execution_count": 24,
     "metadata": {},
     "output_type": "execute_result"
    },
    {
     "data": {
      "image/png": "[encoded data removed]",
      "text/plain": [
       "<matplotlib.figure.Figure at 0x59e4c50>"
      ]
     },
     "metadata": {},
     "output_type": "display_data"
    }
   ],
   "source": [
    "def gauss(avg, stdev):\n",
    "    # Implémentation de la méthode Box-Muller polaire\n",
    "    # Cette forme est plus rapide et plus précise autour des 0 des nombres aléatoires\n",
    "\n",
    "    s = 2.0\n",
    "    while ( (s == 0) or ( s>=1 ) ):\n",
    "            i = numpy.random.random_sample(2)\n",
    "            i[:] = i[:]*2 - 1\n",
    "            s = sum(i*i)\n",
    "\n",
    "    return avg + stdev * i[:]*numpy.sqrt((-2*numpy.log(s))/s)\n",
    "\n",
    "x = numpy.empty(100000)\n",
    "for i in range(0, 50000):\n",
    "    t = gauss(0, 1)\n",
    "    x[i] = t[0]\n",
    "    x[50000 + i] = t[1]\n",
    "\n",
    "# Plot\n",
    "pyplot.xlim(-5, 5)\n",
    "\n",
    "binwidth = 0.2\n",
    "bins = numpy.arange(-5, 5, binwidth)\n",
    "pyplot.hist(x, bins, normed=True);\n",
    "\n",
    "#Expected\n",
    "bin_centers = bins[:-1] + binwidth/2\n",
    "pyplot.plot(bin_centers, numpy.exp(-bin_centers**2/2.0)/numpy.sqrt(2*numpy.pi))"
   ]
  },
  {
   "cell_type": "markdown",
   "metadata": {},
   "source": [
    "This method is very efficient and generate, like we can see on this graph, random numbers following a gaussian distribution."
   ]
  },
  {
   "cell_type": "markdown",
   "metadata": {
    "collapsed": true
   },
   "source": [
    "## Brownian motion"
   ]
  },
  {
   "cell_type": "markdown",
   "metadata": {},
   "source": [
    "The model equation for the evolution of the position of a molecule of dye in water is:\n",
    "\n",
    "$$\n",
    "dx=x(t+dt)−x(t)=ds\n",
    "$$\n",
    "\n",
    "$ds$ is a displacement resulting from the collision with surrounding water molecules.\n",
    "\n",
    "We will model $ds$ as\n",
    "$$ ds=cdt+\\sqrt{\\alpha dt}\\cal{N(0,1)} $$\n",
    "\n",
    "where $\\alpha$ is the same diffusion coefficient that one would use in the diffusion equation. Moreover, at each time step, $\\cal{N(0,1)}$ is a random number that is generated from a normal  distribution $f(n)$, centered around $0$, and with variance equal to $1$. \n",
    "\n",
    "This is a deplacement forced by a rondom collision and by a systematic displacment $cdt$. This could model an electrons under a electric field \"colliding\" randomly with atoms in a metal.\n",
    "\n",
    "We will follow the path of 100000 particules that are subject to this motion during a time  $T$. At time $t=0$ the positions of the particules are chosen to follow a gaussian distribution. let's see whats does the position distribution looks like at time $T$."
   ]
  },
  {
   "cell_type": "code",
   "execution_count": 25,
   "metadata": {
    "collapsed": false
   },
   "outputs": [
    {
     "data": {
      "text/plain": [
       "[<matplotlib.lines.Line2D at 0xd78e940>]"
      ]
     },
     "execution_count": 25,
     "metadata": {},
     "output_type": "execute_result"
    },
    {
     "data": {
      "image/png": "[encoded data removed]",
      "text/plain": [
       "<matplotlib.figure.Figure at 0x7a40ac8>"
      ]
     },
     "metadata": {},
     "output_type": "display_data"
    }
   ],
   "source": [
    "npart = 100000\n",
    "\n",
    "T = 50.0\n",
    "nt = 500\n",
    "dt = T/nt\n",
    "\n",
    "alpha = 2.0\n",
    "c = 0.5\n",
    "\n",
    "# Generate a set of initial positions based on the Gaussian distribution\n",
    "x = numpy.random.normal(loc=0,scale=1,size=npart)\n",
    "\n",
    "# Evolution\n",
    "for i in range(nt):\n",
    "    xi = x.copy()\n",
    "    x = xi + c*dt + numpy.sqrt(2*alpha*dt)*numpy.random.normal(0, 1, npart)\n",
    "\n",
    "# Plot\n",
    "pyplot.figure(figsize=(15, 10))\n",
    "pyplot.xlim(-50, 100)\n",
    "\n",
    "binwidth = 0.75\n",
    "bins = numpy.arange(-50, 100, binwidth)\n",
    "pyplot.hist(x, bins, normed=True);\n",
    "\n",
    "#Expected\n",
    "bin_centers = bins[:-1] + binwidth/2\n",
    "pyplot.plot(bin_centers, numpy.exp(-(bin_centers - c*T)**2/(4.0*alpha*T+1)) \\\n",
    "                            / numpy.sqrt(2*numpy.pi*(2*alpha*T+1)))"
   ]
  },
  {
   "cell_type": "markdown",
   "metadata": {},
   "source": [
    "The particles tend to spread away from each other and are \"pushed\" towards increasing x."
   ]
  },
  {
   "cell_type": "markdown",
   "metadata": {},
   "source": [
    "### Friction\n",
    "\n",
    "We can model the displacment $ds$ by \n",
    "$$ ds=-\\gamma x dt +\\sqrt{\\alpha dt}\\cal{N(0,1)} $$\n",
    "\n",
    "this can be a model for a deplacement forced by a rondom collision with a friction term. We will analize the positions of the particules after a time $T$ with the same initial setup as before."
   ]
  },
  {
   "cell_type": "code",
   "execution_count": 26,
   "metadata": {
    "collapsed": false
   },
   "outputs": [
    {
     "data": {
      "text/plain": [
       "[<matplotlib.lines.Line2D at 0xd8032e8>]"
      ]
     },
     "execution_count": 26,
     "metadata": {},
     "output_type": "execute_result"
    },
    {
     "data": {
      "image/png": "[encoded data removed]",
      "text/plain": [
       "<matplotlib.figure.Figure at 0xc9d9240>"
      ]
     },
     "metadata": {},
     "output_type": "display_data"
    }
   ],
   "source": [
    "npart = 100000\n",
    "\n",
    "T1 = 15000\n",
    "T2=20000\n",
    "nt = 5000\n",
    "dt = T/nt\n",
    "def friction(T,nt,dt):\n",
    "    alpha = 2.0\n",
    "    gamma = 0.01\n",
    "\n",
    "    # Generate a set of initial positions based on the Gaussian distribution\n",
    "    x = numpy.random.normal(loc=0, scale=1, size=npart)\n",
    "\n",
    "    # Evolution\n",
    "    for i in range(nt):\n",
    "        xi = x.copy()\n",
    "        x = xi - gamma*xi*dt + alpha*numpy.sqrt(dt)*numpy.random.normal(0, 1, npart)\n",
    "    return x\n",
    "x1=friction(T1,nt,dt)\n",
    "x2=friction(T2,nt,dt)\n",
    "# Plot\n",
    "pyplot.figure(figsize=(15, 10))\n",
    "pyplot.xlim(-50, 50)\n",
    "\n",
    "binwidth = 0.5\n",
    "bins = numpy.arange(-50, 50, binwidth)\n",
    "pyplot.hist(x1, bins, normed=True);\n",
    "pyplot.hist(x2, bins, normed=True,alpha=0.75)\n",
    "#Expected\n",
    "bin_centers = bins[:-1] + binwidth/2\n",
    "pyplot.plot(bin_centers, numpy.exp(-(bin_centers)**2/(2.0*alpha**2*T)) \\\n",
    "                             / numpy.sqrt(2*numpy.pi*alpha**2*T))\n",
    " "
   ]
  },
  {
   "cell_type": "markdown",
   "metadata": {},
   "source": [
    "Here, we compare two distributions at very large time $T1$ and $T2$. We can see that they are really close. We can suppose that the distribution reaches a steady states as $t\\rightarrow \\infty$. This can be checked anatically:"
   ]
  },
  {
   "cell_type": "markdown",
   "metadata": {},
   "source": [
    "## Phase transition for ferromagnteic material"
   ]
  },
  {
   "cell_type": "markdown",
   "metadata": {},
   "source": [
    "Using, the Metropolis algorithm, we are going to compute the magnetisation of a ferromagnetic material following the Ising model. We will prove that a metal, following this model, has different magnetic propreties before and after a temperature $T_c$. This temperature is called the the Curie temperature. "
   ]
  },
  {
   "cell_type": "markdown",
   "metadata": {},
   "source": [
    "## Ising model"
   ]
  },
  {
   "cell_type": "markdown",
   "metadata": {},
   "source": [
    "In the Ising model of ferromagnetism, the material considered is described using dipoles, distributed on a regular lattice and that can either point upwards or downwards (see figure 1). These dipoles represent the atoms that constitute the material and act like magnets oriented in different directions."
   ]
  },
  {
   "cell_type": "markdown",
   "metadata": {},
   "source": [
    "<img src=\"lattice1.png\" alt=\"Drawing\" style=\"width: 300px;\"/>\n",
    "Figure 1"
   ]
  },
  {
   "cell_type": "markdown",
   "metadata": {},
   "source": [
    "In the simplest version of the Ising model, all the dipoles interact with their nearest neighbors (left, right, above, below). When two neighbors are aligned, the system is in a more stable configuration than when they are aligned in opposite directions. The energy of the system can then be written as,\n",
    "\n",
    "$$\n",
    "E=-J\\sum_{pairs(i,j)} s_i s_j,\n",
    "$$\n",
    "\n",
    "where the sum runs over all the pairs of dipoles in the system and $s_i$ denotes the 'spin' of the $i$-th dipole which is equal to $1$ or $-1$ wether the dipole points upwards or downwards; $J>0$ is the coupling constant for each pair of dipoles. We thus see that the energy is minimized and equal to $-JN_{pairs}$ when all the dipoles point in the same direction. \n",
    "\n",
    "Each time a dipole is flipped, the energy changes by an amount equal to,\n",
    "\n",
    "$$\n",
    "\\Delta E = -{J} s_i \\sum_{j \\in n(i)} s_j\n",
    "$$\n",
    "\n",
    "where $n(i)$ denotes all the neighbors of the $i$-th dipole. $\\Delta E$ is positive or negative depending on the sign of $s_i$ and the total spin of the neighbors.\n",
    "\n",
    "According to statistical mechanics, the probability of finding the system in a given configuration $X$ is equal to,\n",
    "\n",
    "$$\n",
    "p(X) = \\frac{e^{-\\beta E_X}}{Z}\n",
    "$$\n",
    "\n",
    "where $E_X$ is the potential energy of the configuration and $\\beta=1/k_B T$ where $k_B$ is the so-called Boltzmann constant. In other words, the higher the potential energy, the less likely it is to find the system in the corresponding configuration. In the above formula $Z$ is a normalisation constant such that $\\sum_X p(X)=1$,\n",
    "\n",
    "$$\n",
    "Z=\\sum_X e^{-\\beta E_X}.\n",
    "$$\n",
    "\n",
    "the mean energy and the mean magnetisation are then respectively,\n",
    "\n",
    "$$\n",
    "<E> = \\frac{\\sum_X E_X e^{-\\beta E_X}}{Z}\\\\\n",
    "<M> = \\frac{\\sum_X M_X e^{-\\beta E_X}}{Z}\n",
    "$$\n",
    "\n",
    "with $M_X=\\sum_{i=1}^N s_i$ for the given state. Above the Curie temperature, one has $<M>=0$ while $<M>$ has a finite non vanishing value below the Curie temperature."
   ]
  },
  {
   "cell_type": "markdown",
   "metadata": {},
   "source": [
    "### The Metropolis algorithm\n",
    "\n",
    "Let us consider an initial state in which each spin takes a random orientation. \n",
    "The unit step of the Metropolis algorithm consists in choosing a random spin and in attempting to change its orientation. If the energy of the reversed spin decreases, the flipped state is chosen as the new configuration of the system.\n",
    "Otherwise if the energy increases by $\\Delta E$, the flip is only accepted with the probability,\n",
    "\n",
    "$$\n",
    "p_{\\rm flip}=e^{-\\beta\\Delta E},\n",
    "$$\n",
    "\n",
    "otherwise the current state is retained as the new configuration. This process is repeated until a large enough number of states $X_k$ has been collected.\n",
    "\n",
    "The averages we are interested in, such as the energy or the magnetisation, are then computed according to,\n",
    "\n",
    "$$\n",
    "<E> = \\frac{\\sum_k E_k}{N_k}\\\\\n",
    "<M> = \\frac{\\sum_k M_k}{N_k}\n",
    "$$\n",
    "\n",
    "where the sums run over all the states generated through the Metropolis algorithm and $N_k$ is the total number of them.\n",
    "\n",
    "Compared to the averages over all possible states, we see here that we only sum over a subset of them. However, thanks to the Metropolis algorithm, the states corresponding to different values of the energy are generated with the right distribution function and the averages above converge to the equilibrium values as $N_k\\rightarrow \\infty$."
   ]
  },
  {
   "cell_type": "markdown",
   "metadata": {},
   "source": [
    "### Functions definition"
   ]
  },
  {
   "cell_type": "markdown",
   "metadata": {},
   "source": [
    "We will now implement all the function needed to make this comutation."
   ]
  },
  {
   "cell_type": "markdown",
   "metadata": {},
   "source": [
    "The contribution to the energy coming from a change of spin at one site is computed with the following function. we assume that the system is periodic in both directions :"
   ]
  },
  {
   "cell_type": "code",
   "execution_count": 27,
   "metadata": {
    "collapsed": true
   },
   "outputs": [],
   "source": [
    "def energy_at_site(sp,alpha,sigma,ix,iy):\n",
    "    \"\"\" Computes the contribution to the energy for a given spin\n",
    "    at location ix,iy for a lattice with periodic boundary conditions\n",
    "   \n",
    "    Parameters:\n",
    "    ----------\n",
    "    sp: numpy array\n",
    "        array of spins\n",
    "    alpha  : real\n",
    "        coupling constant J/(kb*T)\n",
    "    sigma   : int\n",
    "        spin at site ix,iy\n",
    "    ix   : int\n",
    "        location in x\n",
    "    iy   : int\n",
    "        location in y\n",
    "    \n",
    "   \n",
    "    Returns:\n",
    "    -------\n",
    "    energy: energy for the given configuration\n",
    "    \"\"\"\n",
    "    \n",
    "    energy=-alpha*sigma*(sp[(ix-1)%nx,iy]+sp[(ix+1)%nx,iy]+sp[ix,(iy-1)%ny]+sp[ix,(iy+1)%ny])\n",
    "\n",
    "    return energy\n"
   ]
  },
  {
   "cell_type": "code",
   "execution_count": null,
   "metadata": {
    "collapsed": true
   },
   "outputs": [],
   "source": []
  },
  {
   "cell_type": "code",
   "execution_count": 28,
   "metadata": {
    "collapsed": false
   },
   "outputs": [],
   "source": [
    "def energy_array(sp, alpha):\n",
    "    return -alpha*sp[:, :]* \\\n",
    "        (numpy.roll(sp, 1, axis=0) + numpy.roll(sp, -1, axis=0) + \\\n",
    "         numpy.roll(sp, 1, axis=1) + numpy.roll(sp, -1, axis=1))\n",
    "\n",
    "def total_energy(sp, alpha):\n",
    "    return energy_array(sp, alpha).sum()"
   ]
  },
  {
   "cell_type": "code",
   "execution_count": null,
   "metadata": {
    "collapsed": true
   },
   "outputs": [],
   "source": []
  },
  {
   "cell_type": "code",
   "execution_count": 29,
   "metadata": {
    "collapsed": true
   },
   "outputs": [],
   "source": [
    "def total_magnetization(sp):\n",
    "    return sp.sum()"
   ]
  },
  {
   "cell_type": "code",
   "execution_count": 30,
   "metadata": {
    "collapsed": true
   },
   "outputs": [],
   "source": [
    "def metropolis_at_site(sp,alpha,ix,iy):\n",
    "    \"\"\" Flips a dipole at site ix, iy when probability condition is met \n",
    "   \n",
    "    Parameters:\n",
    "    ----------\n",
    "    sp: numpy array\n",
    "        array of spins\n",
    "    alpha  : real\n",
    "        coupling constant J/(kb*T)\n",
    "    ix   : int\n",
    "        location in x\n",
    "    iy   : int\n",
    "        location in y\n",
    "    \"\"\"\n",
    "    sigma=sp[ix,iy]\n",
    "    energy_before_flip = energy_at_site(sp,alpha,sigma,ix,iy)\n",
    "    sigma = -sigma\n",
    "    energy_if_site_flipped = energy_at_site(sp,alpha,sigma,ix,iy)\n",
    "    \n",
    "    # Flip the site with Metropolis probability\n",
    "    # Condition is always satisifed if dE < 0\n",
    "    if (numpy.random.random_sample()<numpy.exp(-(energy_if_site_flipped \\\n",
    "                                               -energy_before_flip))):\n",
    "        sp[ix,iy]=-sp[ix,iy]\n",
    "\n",
    "def ising_model_metropolis(sp, NMC, nx, ny, alpha):\n",
    "    \"\"\" Creates a sequence of states for the Ising model using\n",
    "    the Metropolis algorithm\n",
    "   \n",
    "    Parameters:\n",
    "    ----------\n",
    "    sp   : initial lattice state\n",
    "    nx   : int\n",
    "        Discretization points in x\n",
    "    ny   : int\n",
    "        Discretization points in y\n",
    "    NMC  : int\n",
    "        Number of states to create\n",
    "    alpha  : real\n",
    "        coupling constant J/(kb*T)\n",
    "    Returns:\n",
    "    -------\n",
    "    states: sequence of states\n",
    "    \"\"\"\n",
    "    states = numpy.empty([NMC+1,nx,ny])\n",
    "    states[0] = sp.copy()\n",
    "    \n",
    "    for i in range(1,NMC+1):\n",
    "        for j in range(0,nx*ny):\n",
    "            ix=numpy.random.random_integers(0,nx-1)\n",
    "            iy=numpy.random.random_integers(0,ny-1)\n",
    "            metropolis_at_site(sp,alpha,ix,iy)\n",
    "        states[i]=sp.copy()\n",
    "    return states"
   ]
  },
  {
   "cell_type": "code",
   "execution_count": 31,
   "metadata": {
    "collapsed": false
   },
   "outputs": [
    {
     "ename": "KeyboardInterrupt",
     "evalue": "",
     "output_type": "error",
     "traceback": [
      "\u001b[1;31m---------------------------------------------------------------------------\u001b[0m",
      "\u001b[1;31mKeyboardInterrupt\u001b[0m                         Traceback (most recent call last)",
      "\u001b[1;32m<ipython-input-31-06de28b6c42e>\u001b[0m in \u001b[0;36m<module>\u001b[1;34m()\u001b[0m\n\u001b[0;32m     13\u001b[0m \u001b[1;32mfor\u001b[0m \u001b[0mi\u001b[0m \u001b[1;32min\u001b[0m \u001b[0mrange\u001b[0m\u001b[1;33m(\u001b[0m\u001b[1;36m0\u001b[0m\u001b[1;33m,\u001b[0m \u001b[0mna\u001b[0m\u001b[1;33m)\u001b[0m\u001b[1;33m:\u001b[0m\u001b[1;33m\u001b[0m\u001b[0m\n\u001b[0;32m     14\u001b[0m     \u001b[0msp\u001b[0m \u001b[1;33m=\u001b[0m \u001b[0mnumpy\u001b[0m\u001b[1;33m.\u001b[0m\u001b[0mones\u001b[0m\u001b[1;33m(\u001b[0m\u001b[1;33m[\u001b[0m\u001b[0mnx\u001b[0m\u001b[1;33m,\u001b[0m\u001b[0mny\u001b[0m\u001b[1;33m]\u001b[0m\u001b[1;33m)\u001b[0m\u001b[1;33m\u001b[0m\u001b[0m\n\u001b[1;32m---> 15\u001b[1;33m     \u001b[0mstates\u001b[0m \u001b[1;33m=\u001b[0m \u001b[0mising_model_metropolis\u001b[0m\u001b[1;33m(\u001b[0m\u001b[0msp\u001b[0m\u001b[1;33m,\u001b[0m \u001b[0mNMC\u001b[0m\u001b[1;33m,\u001b[0m \u001b[0mnx\u001b[0m\u001b[1;33m,\u001b[0m \u001b[0mny\u001b[0m\u001b[1;33m,\u001b[0m \u001b[0malpha\u001b[0m\u001b[1;33m[\u001b[0m\u001b[0mi\u001b[0m\u001b[1;33m]\u001b[0m\u001b[1;33m)\u001b[0m\u001b[1;33m\u001b[0m\u001b[0m\n\u001b[0m\u001b[0;32m     16\u001b[0m     \u001b[1;32mfor\u001b[0m \u001b[0mj\u001b[0m \u001b[1;32min\u001b[0m \u001b[0mrange\u001b[0m\u001b[1;33m(\u001b[0m\u001b[1;36m0\u001b[0m\u001b[1;33m,\u001b[0m \u001b[0mNMC\u001b[0m\u001b[1;33m+\u001b[0m\u001b[1;36m1\u001b[0m\u001b[1;33m)\u001b[0m\u001b[1;33m:\u001b[0m\u001b[1;33m\u001b[0m\u001b[0m\n\u001b[0;32m     17\u001b[0m         \u001b[0menergy\u001b[0m\u001b[1;33m[\u001b[0m\u001b[0mi\u001b[0m\u001b[1;33m]\u001b[0m \u001b[1;33m+=\u001b[0m \u001b[0mtotal_energy\u001b[0m\u001b[1;33m(\u001b[0m\u001b[0mstates\u001b[0m\u001b[1;33m[\u001b[0m\u001b[0mj\u001b[0m\u001b[1;33m]\u001b[0m\u001b[1;33m,\u001b[0m \u001b[0malpha\u001b[0m\u001b[1;33m[\u001b[0m\u001b[0mi\u001b[0m\u001b[1;33m]\u001b[0m\u001b[1;33m)\u001b[0m\u001b[1;33m/\u001b[0m\u001b[1;33m(\u001b[0m\u001b[0mNMC\u001b[0m\u001b[1;33m+\u001b[0m\u001b[1;36m1\u001b[0m\u001b[1;33m)\u001b[0m\u001b[1;33m\u001b[0m\u001b[0m\n",
      "\u001b[1;32m<ipython-input-30-b20b95b71f2a>\u001b[0m in \u001b[0;36mising_model_metropolis\u001b[1;34m(sp, NMC, nx, ny, alpha)\u001b[0m\n\u001b[0;32m     49\u001b[0m             \u001b[0mix\u001b[0m\u001b[1;33m=\u001b[0m\u001b[0mnumpy\u001b[0m\u001b[1;33m.\u001b[0m\u001b[0mrandom\u001b[0m\u001b[1;33m.\u001b[0m\u001b[0mrandom_integers\u001b[0m\u001b[1;33m(\u001b[0m\u001b[1;36m0\u001b[0m\u001b[1;33m,\u001b[0m\u001b[0mnx\u001b[0m\u001b[1;33m-\u001b[0m\u001b[1;36m1\u001b[0m\u001b[1;33m)\u001b[0m\u001b[1;33m\u001b[0m\u001b[0m\n\u001b[0;32m     50\u001b[0m             \u001b[0miy\u001b[0m\u001b[1;33m=\u001b[0m\u001b[0mnumpy\u001b[0m\u001b[1;33m.\u001b[0m\u001b[0mrandom\u001b[0m\u001b[1;33m.\u001b[0m\u001b[0mrandom_integers\u001b[0m\u001b[1;33m(\u001b[0m\u001b[1;36m0\u001b[0m\u001b[1;33m,\u001b[0m\u001b[0mny\u001b[0m\u001b[1;33m-\u001b[0m\u001b[1;36m1\u001b[0m\u001b[1;33m)\u001b[0m\u001b[1;33m\u001b[0m\u001b[0m\n\u001b[1;32m---> 51\u001b[1;33m             \u001b[0mmetropolis_at_site\u001b[0m\u001b[1;33m(\u001b[0m\u001b[0msp\u001b[0m\u001b[1;33m,\u001b[0m\u001b[0malpha\u001b[0m\u001b[1;33m,\u001b[0m\u001b[0mix\u001b[0m\u001b[1;33m,\u001b[0m\u001b[0miy\u001b[0m\u001b[1;33m)\u001b[0m\u001b[1;33m\u001b[0m\u001b[0m\n\u001b[0m\u001b[0;32m     52\u001b[0m         \u001b[0mstates\u001b[0m\u001b[1;33m[\u001b[0m\u001b[0mi\u001b[0m\u001b[1;33m]\u001b[0m\u001b[1;33m=\u001b[0m\u001b[0msp\u001b[0m\u001b[1;33m.\u001b[0m\u001b[0mcopy\u001b[0m\u001b[1;33m(\u001b[0m\u001b[1;33m)\u001b[0m\u001b[1;33m\u001b[0m\u001b[0m\n\u001b[0;32m     53\u001b[0m     \u001b[1;32mreturn\u001b[0m \u001b[0mstates\u001b[0m\u001b[1;33m\u001b[0m\u001b[0m\n",
      "\u001b[1;32m<ipython-input-30-b20b95b71f2a>\u001b[0m in \u001b[0;36mmetropolis_at_site\u001b[1;34m(sp, alpha, ix, iy)\u001b[0m\n\u001b[0;32m     16\u001b[0m     \u001b[0menergy_before_flip\u001b[0m \u001b[1;33m=\u001b[0m \u001b[0menergy_at_site\u001b[0m\u001b[1;33m(\u001b[0m\u001b[0msp\u001b[0m\u001b[1;33m,\u001b[0m\u001b[0malpha\u001b[0m\u001b[1;33m,\u001b[0m\u001b[0msigma\u001b[0m\u001b[1;33m,\u001b[0m\u001b[0mix\u001b[0m\u001b[1;33m,\u001b[0m\u001b[0miy\u001b[0m\u001b[1;33m)\u001b[0m\u001b[1;33m\u001b[0m\u001b[0m\n\u001b[0;32m     17\u001b[0m     \u001b[0msigma\u001b[0m \u001b[1;33m=\u001b[0m \u001b[1;33m-\u001b[0m\u001b[0msigma\u001b[0m\u001b[1;33m\u001b[0m\u001b[0m\n\u001b[1;32m---> 18\u001b[1;33m     \u001b[0menergy_if_site_flipped\u001b[0m \u001b[1;33m=\u001b[0m \u001b[0menergy_at_site\u001b[0m\u001b[1;33m(\u001b[0m\u001b[0msp\u001b[0m\u001b[1;33m,\u001b[0m\u001b[0malpha\u001b[0m\u001b[1;33m,\u001b[0m\u001b[0msigma\u001b[0m\u001b[1;33m,\u001b[0m\u001b[0mix\u001b[0m\u001b[1;33m,\u001b[0m\u001b[0miy\u001b[0m\u001b[1;33m)\u001b[0m\u001b[1;33m\u001b[0m\u001b[0m\n\u001b[0m\u001b[0;32m     19\u001b[0m \u001b[1;33m\u001b[0m\u001b[0m\n\u001b[0;32m     20\u001b[0m     \u001b[1;31m# Flip the site with Metropolis probability\u001b[0m\u001b[1;33m\u001b[0m\u001b[1;33m\u001b[0m\u001b[0m\n",
      "\u001b[1;32m<ipython-input-27-5471ac209cae>\u001b[0m in \u001b[0;36menergy_at_site\u001b[1;34m(sp, alpha, sigma, ix, iy)\u001b[0m\n\u001b[0;32m     22\u001b[0m     \"\"\"\n\u001b[0;32m     23\u001b[0m \u001b[1;33m\u001b[0m\u001b[0m\n\u001b[1;32m---> 24\u001b[1;33m     \u001b[0menergy\u001b[0m\u001b[1;33m=\u001b[0m\u001b[1;33m-\u001b[0m\u001b[0malpha\u001b[0m\u001b[1;33m*\u001b[0m\u001b[0msigma\u001b[0m\u001b[1;33m*\u001b[0m\u001b[1;33m(\u001b[0m\u001b[0msp\u001b[0m\u001b[1;33m[\u001b[0m\u001b[1;33m(\u001b[0m\u001b[0mix\u001b[0m\u001b[1;33m-\u001b[0m\u001b[1;36m1\u001b[0m\u001b[1;33m)\u001b[0m\u001b[1;33m%\u001b[0m\u001b[0mnx\u001b[0m\u001b[1;33m,\u001b[0m\u001b[0miy\u001b[0m\u001b[1;33m]\u001b[0m\u001b[1;33m+\u001b[0m\u001b[0msp\u001b[0m\u001b[1;33m[\u001b[0m\u001b[1;33m(\u001b[0m\u001b[0mix\u001b[0m\u001b[1;33m+\u001b[0m\u001b[1;36m1\u001b[0m\u001b[1;33m)\u001b[0m\u001b[1;33m%\u001b[0m\u001b[0mnx\u001b[0m\u001b[1;33m,\u001b[0m\u001b[0miy\u001b[0m\u001b[1;33m]\u001b[0m\u001b[1;33m+\u001b[0m\u001b[0msp\u001b[0m\u001b[1;33m[\u001b[0m\u001b[0mix\u001b[0m\u001b[1;33m,\u001b[0m\u001b[1;33m(\u001b[0m\u001b[0miy\u001b[0m\u001b[1;33m-\u001b[0m\u001b[1;36m1\u001b[0m\u001b[1;33m)\u001b[0m\u001b[1;33m%\u001b[0m\u001b[0mny\u001b[0m\u001b[1;33m]\u001b[0m\u001b[1;33m+\u001b[0m\u001b[0msp\u001b[0m\u001b[1;33m[\u001b[0m\u001b[0mix\u001b[0m\u001b[1;33m,\u001b[0m\u001b[1;33m(\u001b[0m\u001b[0miy\u001b[0m\u001b[1;33m+\u001b[0m\u001b[1;36m1\u001b[0m\u001b[1;33m)\u001b[0m\u001b[1;33m%\u001b[0m\u001b[0mny\u001b[0m\u001b[1;33m]\u001b[0m\u001b[1;33m)\u001b[0m\u001b[1;33m\u001b[0m\u001b[0m\n\u001b[0m\u001b[0;32m     25\u001b[0m \u001b[1;33m\u001b[0m\u001b[0m\n\u001b[0;32m     26\u001b[0m     \u001b[1;32mreturn\u001b[0m \u001b[0menergy\u001b[0m\u001b[1;33m\u001b[0m\u001b[0m\n",
      "\u001b[1;31mKeyboardInterrupt\u001b[0m: "
     ]
    }
   ],
   "source": [
    "NMC = 100\n",
    "\n",
    "nx = 100\n",
    "ny = 100\n",
    "\n",
    "na = 20\n",
    "\n",
    "alpha = numpy.linspace(0.25, 0.55, na)\n",
    "#alpha = [0.1, 0.2, 0.3, 0.35, 0.37, 0.39, 0.41, 0.43, 0.45, 0.5, 0.6, 0.7]\n",
    "energy = numpy.zeros(na)\n",
    "magn = numpy.zeros(na)\n",
    "\n",
    "for i in range(0, na):\n",
    "    sp = numpy.ones([nx,ny])\n",
    "    states = ising_model_metropolis(sp, NMC, nx, ny, alpha[i])\n",
    "    for j in range(0, NMC+1):\n",
    "        energy[i] += total_energy(states[j], alpha[i])/(NMC+1)\n",
    "        magn[i] += total_magnetization(states[j])/(NMC+1)"
   ]
  },
  {
   "cell_type": "code",
   "execution_count": null,
   "metadata": {
    "collapsed": false
   },
   "outputs": [],
   "source": [
    "pyplot.figure(figsize=(15, 10))\n",
    "pyplot.plot(alpha, energy)\n",
    "pyplot.plot(alpha, magn)"
   ]
  },
  {
   "cell_type": "code",
   "execution_count": null,
   "metadata": {
    "collapsed": true
   },
   "outputs": [],
   "source": [
    "secondder_magn = numpy.zeros(na)\n",
    "def secondder(f,x):\n",
    "    ddf=(1/dx**2)*f[x+1]-2*f[x]+fx[x-1]\n",
    "    \n",
    "secondder_magn=secondder(magn,alph)"
   ]
  },
  {
   "cell_type": "code",
   "execution_count": null,
   "metadata": {
    "collapsed": true
   },
   "outputs": [],
   "source": [
    "pyplot.figure(figsize=(15, 10))\n",
    "pyplot.plot(alpha, energy)\n",
    "pyplot.plot(alpha,secondder_magn)"
   ]
  },
  {
   "cell_type": "code",
   "execution_count": null,
   "metadata": {
    "collapsed": true
   },
   "outputs": [],
   "source": []
  }
 ],
 "metadata": {
  "kernelspec": {
   "display_name": "Python 3",
   "language": "python",
   "name": "python3"
  },
  "language_info": {
   "codemirror_mode": {
    "name": "ipython",
    "version": 3
   },
   "file_extension": ".py",
   "mimetype": "text/x-python",
   "name": "python",
   "nbconvert_exporter": "python",
   "pygments_lexer": "ipython3",
   "version": "3.4.4"
  }
 },
 "nbformat": 4,
 "nbformat_minor": 0
}
