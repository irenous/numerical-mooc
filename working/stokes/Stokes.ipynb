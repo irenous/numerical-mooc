{
 "cells": [
  {
   "cell_type": "markdown",
   "metadata": {},
   "source": [
    "# Relaxation Assignment\n",
    "## The Stokes Flow\n",
    "\n",
    "##### Laurent Pétré & Ilan Renous"
   ]
  },
  {
   "cell_type": "markdown",
   "metadata": {},
   "source": [
    "In this assignment, we are going to use the Jacobi method to solve a system of a Laplace equation coupled with a Poisson equation. This system of equations can describe the fluid flow in a lid-driven cavity at very low Reynolds numbers. "
   ]
  },
  {
   "cell_type": "code",
   "execution_count": null,
   "metadata": {
    "collapsed": true
   },
   "outputs": [],
   "source": [
    "# We import the libraries we will need\n",
    "import numpy\n",
    "from matplotlib import pyplot, cm\n",
    "%matplotlib inline"
   ]
  },
  {
   "cell_type": "markdown",
   "metadata": {},
   "source": [
    "## The Stokes Flow\n",
    "\n",
    "The non-dimensional Navier-Stokes equation is given as\n",
    "\n",
    "\\begin{equation}\n",
    "Re \\left(\\frac{\\partial u}{\\partial t} + u \\cdot \\nabla u \\right) = -\\nabla p + \\nabla^2 u\n",
    "\\end{equation}\n",
    "\n",
    "Where $u$ and $p$ are the non-dimensional velocity and pressure, respectively.  \n",
    "\n",
    "To obtain a Stokes flow, we assume that the Reynolds $Re$ number approaches zero.  Applying that assumption yields\n",
    "\n",
    "\\begin{equation}\n",
    "\\nabla p = \\nabla^2 u\n",
    "\\end{equation}\n",
    "\n",
    "Now, we apply the curl operator on both sides of the equation to obtain:\n",
    "\n",
    "\\begin{equation}\n",
    "0 = \\nabla \\times \\nabla p = \\nabla \\times \\nabla^2 u = \\nabla^2\\omega\n",
    "\\end{equation}\n",
    "\n",
    "where $\\nabla \\times u = \\omega$ is the vorticity.  \n",
    "\n",
    "The LHS of the equation being zero, we arrive at the simplified vorticity transport equation for Stokes flow:\n",
    "\n",
    "\\begin{equation}\n",
    "\\nabla ^2 \\omega = 0\n",
    "\\end{equation}"
   ]
  },
  {
   "cell_type": "markdown",
   "metadata": {},
   "source": [
    "### Stream function\n",
    "\n",
    "Define the stream function $\\psi$, such that\n",
    "\n",
    "\\begin{equation}\n",
    "u = \\frac{\\partial \\psi}{\\partial y} \\text{   and   } v = - \\frac{\\partial \\psi}{\\partial x}\n",
    "\\end{equation}\n",
    "\n",
    "where u is the x-component and v the y-component of the fluid speed. \n",
    "\n",
    "In 2D, we can write out the vorticity as\n",
    "\n",
    "\\begin{equation}\n",
    "\\omega = \\frac{\\partial v}{\\partial x} - \\frac{\\partial u}{\\partial y}\n",
    "\\end{equation}\n",
    "\n",
    "which, combined with the previous equation yields another familiar looking equation:\n",
    "\n",
    "\\begin{equation}\n",
    "\\nabla^2 \\psi = -\\omega\n",
    "\\end{equation}\n",
    "\n",
    "We have a system of two coupled equations that can describe the fluid flow in a lid-driven cavity at very low Reynolds numbers.  \n",
    "\n",
    "\\begin{equation}\n",
    "\\nabla^2 \\omega = 0\n",
    "\\end{equation}\n",
    "\n",
    "\\begin{equation}\n",
    "\\nabla^2 \\psi = -\\omega\n",
    "\\end{equation}"
   ]
  },
  {
   "cell_type": "markdown",
   "metadata": {},
   "source": [
    "### Discretisation of the equations\n",
    "\n",
    "The **Poisson equation** for a 2D function f with a source term b can be written as : \n",
    "\n",
    "$$\\frac{\\partial ^2 f}{\\partial x^2} + \\frac{\\partial ^2 f}{\\partial y^2} = b$$\n",
    "\n",
    "In discretized form, this equation become:\n",
    "\n",
    "$$\\frac{f_{i+1,j}^{k}-2f_{i,j}^{k}+f_{i-1,j}^{k}}{\\Delta x^2}+\\frac{f_{i,j+1}^{k}-2 f_{i,j}^{k}+f_{i,j-1}^{k}}{\\Delta y^2}=b_{i,j}^{k}$$\n",
    "\n",
    "We rearrange this to obtain an equation for $f$ at point $i,j$, based on its neighbors: \n",
    "\n",
    "$$f_{i,j}^{k+1}=\\frac{(f_{i+1,j}^{k}+f_{i-1,j}^{k})\\Delta y^2+(f_{i,j+1}^{k}+f_{i,j-1}^{k})\\Delta x^2-b_{i,j}^{k}\\Delta x^2\\Delta y^2}{2(\\Delta x^2+\\Delta y^2)}$$\n",
    "\n",
    "When the term b is set to zero, we get the **Laplace equation**.\n",
    "\n",
    "This is called the Jacobi method and $f_{i,j}^{k+1}$ converges towards the solution to the poisson equation.\n",
    "\n",
    "Our system in a discret form is thus:\n",
    "\n",
    "$$\\omega_{i,j}^{k+1}=\\frac{(\\omega_{i+1,j}^{k}+\\omega_{i-1,j}^{k})\\Delta y^2+(\\omega_{i,j+1}^{k}+\\omega_{i,j-1}^{k})\\Delta x^2}{2(\\Delta x^2+\\Delta y^2)}$$\n",
    "\n",
    "$$\\psi_{i,j}^{k+1}=\\frac{(\\psi_{i+1,j}^{k}+\\psi_{i-1,j}^{k})\\Delta y^2+(\\psi_{i,j+1}^{k}+\\psi_{i,j-1}^{k})\\Delta x^2-\\omega_{i,j}^{k}\\Delta x^2\\Delta y^2}{2(\\Delta x^2+\\Delta y^2)}$$\n",
    "\n",
    "We can solve this system by evaluating $\\omega_{i,j}^{k+1} $ at each iteration and us it value to evaluate $\\psi_{i,j}^{k+1}$. We stop the iteration when a certain type of norm between $\\psi_{i,j}^{k}$ and $\\psi_{i,j}^{k+1}$ is smaller than a chosen value."
   ]
  },
  {
   "cell_type": "markdown",
   "metadata": {},
   "source": [
    "## Boundary conditions\n",
    "\n",
    "We will solve the lid-driven cavity flow problem. \n",
    "We assume that the lid of a square cavity moves at a constant velocity of $u=1$, with no fluid leaking out past the moving lid. \n",
    "\n",
    "All of the surfaces, including the lid, are assumed to have no-slip boundary conditions.  The boundary conditions are all specified in terms of the streamfunction $\\psi$, as shown below in Figure $(1)$.  \n",
    "\n",
    "<img src=\"../../lessons/05_relax/figures/drivencavity.svg\" width=400px>\n",
    "\n",
    "The boundary conditions are all specified in terms of $\\psi$ and its derivatives, but the Laplace equation\n",
    "\n",
    "$$\\nabla \\omega^2 = 0$$\n",
    "\n",
    "has no $\\psi$ value.  Instead, we need a way to represent the boundary conditions for $\\omega$ in terms of $\\psi$.  \n",
    "\n",
    "Along the top surface of the cavity (the moving surface). \n",
    "There can't be any velocity in the $y$-direction because the surface is solid, so $\\frac{\\partial ^2 \\psi}{\\partial x^2}$ goes to zero and the equation simplifies to\n",
    "\n",
    "\\begin{equation}\n",
    "\\frac{\\partial ^2 \\psi}{\\partial y^2} = -\\omega\n",
    "\\end{equation}\n",
    "\n",
    "A 2nd-order central difference discretization gives\n",
    "\n",
    "\\begin{equation}\n",
    "\\omega_j = - \\left(\\frac{\\psi_{j+1} - 2\\psi_j + \\psi_{j-1}}{\\Delta y^2}\\right)\n",
    "\\end{equation}\n",
    "\n",
    "but the value $\\psi_{j+1}$ is outside of the domain.  Now take a 3rd-order discretization of $\\frac{\\partial \\psi}{\\partial y}$ evaluated along the top edge.\n",
    "\n",
    "\\begin{equation}\n",
    "\\left.\\frac{\\partial \\psi}{\\partial y}\\right|_j = \\frac{2\\psi_{j+1} + 3\\psi_j - 6\\psi_{j-1} + \\psi_{j-2}}{6 \\Delta y}\n",
    "\\end{equation}\n",
    "\n",
    "$\\frac{\\partial \\psi}{\\partial y}$ is a given boundary value in the problem along the top edge\n",
    "\n",
    "\\begin{equation}\n",
    "\\left.\\frac{\\partial \\psi}{\\partial y}\\right|_j = u\n",
    "\\end{equation}\n",
    "\n",
    "which leaves us with a value for $\\psi_{j+1}$ that consists only of points within the domain.  \n",
    "\n",
    "\\begin{equation}\n",
    "\\psi_{j+1} = \\frac{6\\Delta y u_j - 3\\psi_j + 6 \\psi_{j-1} - \\psi_{j-2}}{2}\n",
    "\\end{equation}\n",
    "\n",
    "Plug in that result into the initial discretization from Equation $(16)$ and we have a boundary condition for $\\omega$ along the top surface in terms of $\\psi$:\n",
    "\n",
    "\\begin{equation}\n",
    "\\omega_{i,j} = -\\frac{1}{2 \\Delta y^2} (8\\psi_{i, j-1}- 7\\psi_{i, j} - \\psi_{i, j-2}) - \\frac{3u_j}{\\Delta y} + \\mathcal{O}(\\Delta y^2)\n",
    "\\end{equation}\n",
    "\n",
    "Since there is no flow through the cavity surface ,$\\psi_{i, j}$ needs to be constant on these surfaces. This constant is chosen to be zero.\n",
    "\n",
    "we thus get along the top surface:\n",
    "\n",
    "\\begin{equation}\\omega_{i,j} = -\\frac{1}{2 \\Delta y^2} (8\\psi_{i, j-1} - \\psi_{i, j-2}) - \\frac{3u}{\\Delta y}\n",
    "\\end{equation}\n",
    "\n",
    "along the bottom surface this becomes:\n",
    "\n",
    "\\begin{equation}\\omega_{i,j} = -\\frac{1}{2 \\Delta y^2} (8\\psi_{i, j+1} - \\psi_{i, j+2})\n",
    "\\end{equation}\n",
    "\n",
    "along the left surface:\n",
    "\n",
    "\\begin{equation}\\omega_{i,j} = -\\frac{1}{2 \\Delta y^2} (8\\psi_{i+1, j} - \\psi_{i+2, j})\n",
    "\\end{equation}\n",
    "\n",
    "and along the right surface:\n",
    "\n",
    "\\begin{equation}\\omega_{i,j} = -\\frac{1}{2 \\Delta y^2} (8\\psi_{i-1, j} - \\psi_{i-2, j})\n",
    "\\end{equation}\n",
    "\n"
   ]
  },
  {
   "cell_type": "markdown",
   "metadata": {},
   "source": [
    "## Implementation\n",
    "\n",
    "We can now implement those equations. The boundary conditions need to be applied at each itterations. In Python that gives us :"
   ]
  },
  {
   "cell_type": "code",
   "execution_count": null,
   "metadata": {
    "collapsed": false
   },
   "outputs": [],
   "source": [
    "def solve(psi_i, omega_i, dx, dy, norm_func, norm_target, u):\n",
    "    \"\"\"\n",
    "    Compute the solution of the partial differential system : \n",
    "        - nabla^2 omega = 0\n",
    "        - nabla^2 psi = -omega,\n",
    "    in a square cavity with the lid moving at speed u.\n",
    "\n",
    "    Parameters\n",
    "    ----------\n",
    "    psi_i, omega_i: array[NxN] of floats\n",
    "        initial conditions\n",
    "\n",
    "    dx, dy: float\n",
    "        space steps\n",
    "\n",
    "    norm_func: function of 2 arrays[NxN] of floats\n",
    "        computes the norm between two iterations\n",
    "\n",
    "    norm_target: float\n",
    "        norm between two iteration needed to stop the computation\n",
    "\n",
    "    u: float\n",
    "        speed of the moving lid\n",
    "\n",
    "    Returns\n",
    "    -------\n",
    "    psi, omega: array[NxN]\n",
    "        solution of the system\n",
    "    \"\"\"\n",
    "\n",
    "    # We don't want to modify the input parameters\n",
    "    psi = psi_i.copy()\n",
    "    omega = omega_i.copy()\n",
    "\n",
    "    # Initial norms for psi and omega\n",
    "    normp = 1\n",
    "    normo = 1\n",
    "\n",
    "    while ((normp > norm_target) or (normo > norm_target)):\n",
    "        # Omega computation\n",
    "        omegan = omega.copy()\n",
    "\n",
    "        omega[1:-1,1:-1] = 1/(2*(dx**2 + dy**2)) * ( \\\n",
    "                (omegan[1:-1,2:] + omegan[1:-1, :-2])*dy**2 + \\\n",
    "                (omegan[2:, 1:-1] + omegan[:-2, 1:-1])*dx**2 )\n",
    "\n",
    "        # BCs for omega (function of psi)\n",
    "        omega[-1, :] = (-1/(2*dy**2))*(8*psi[-2, :] - psi[-3, :]) \\\n",
    "                - (3*u)/dy # Top\n",
    "        omega[0, :] = (-1/(2*dy**2))*(8*psi[1, :] - psi[2, :]) # Bottom\n",
    "        omega[:, -1] = (-1/(2*dx**2))*(8*psi[:, -2] - psi[:, -3]) # Left\n",
    "        omega[:, 0] = (-1/(2*dx**2))*(8*psi[:, 1] - psi[:, 2]) # Right\n",
    "\n",
    "        # Psi computation\n",
    "        psid = psi.copy()\n",
    "\n",
    "        psi[1:-1,1:-1] = 1/(2*(dx**2 + dy**2)) * ( \\\n",
    "                (psid[1:-1,2:] + psid[1:-1,:-2])*dy**2 + \\\n",
    "                (psid[2:,1:-1] + psid[:-2,1:-1])*dx**2 + \\\n",
    "                omega[1:-1,1:-1]*(dx**2*dy**2) )\n",
    "\n",
    "        # BCs automatically satisfied for psi\n",
    "\n",
    "        normp = norm_func(psid, psi)\n",
    "        normo = norm_func(omega, omegan)\n",
    "\n",
    "    return psi, omega"
   ]
  },
  {
   "cell_type": "markdown",
   "metadata": {},
   "source": [
    "## Solve !\n",
    "\n",
    "We created the function needed to solve this problem, all we need now is initial conditions and simulation parameters. Let's choose the following parameters :\n",
    "\n",
    "* Grid of points with dimension `41x41` points\n",
    "* Domain is $l=1 \\times h=1$\n",
    "* L1 target $=10^{-6}$, the chosen norm between $\\psi_{i,j}^{k}$ and $\\psi_{i,j}^{k+1}$ \n"
   ]
  },
  {
   "cell_type": "code",
   "execution_count": null,
   "metadata": {
    "collapsed": false
   },
   "outputs": [],
   "source": [
    "# Space conditions\n",
    "nx = 41\n",
    "ny = 41\n",
    "\n",
    "l = 1.\n",
    "h = 1.\n",
    "\n",
    "dx = l/(nx-1)\n",
    "dy = h/(ny-1)\n",
    "\n",
    "# Convergence conditions\n",
    "def l1_norm(new, old):\n",
    "    return numpy.sum(numpy.abs(new - old))\n",
    "\n",
    "norm_target = 1e-6\n",
    "\n",
    "#speed\n",
    "u=1\n",
    "\n",
    "# Initial conditions\n",
    "psi = numpy.zeros((nx, ny))\n",
    "omega = numpy.zeros((nx, ny))"
   ]
  },
  {
   "cell_type": "markdown",
   "metadata": {},
   "source": [
    "Now, it's time to launch the simulation :"
   ]
  },
  {
   "cell_type": "code",
   "execution_count": null,
   "metadata": {
    "collapsed": false
   },
   "outputs": [],
   "source": [
    "# Solve\n",
    "psi, omega = solve(psi, omega, dx, dy, l1_norm, norm_target, u)\n",
    "\n",
    "# Output\n",
    "print(numpy.amax(numpy.abs(psi)))\n",
    "print(numpy.amax(numpy.abs(omega)))\n",
    "print(numpy.round(psi[32,::8], 4))"
   ]
  },
  {
   "cell_type": "markdown",
   "metadata": {},
   "source": [
    "Those values are the same that the one given online. Good news!"
   ]
  },
  {
   "cell_type": "markdown",
   "metadata": {},
   "source": [
    "## Drawing\n",
    "\n",
    "We will draw a contour plot of the stream function to see the look of the flow."
   ]
  },
  {
   "cell_type": "code",
   "execution_count": null,
   "metadata": {
    "collapsed": false
   },
   "outputs": [],
   "source": [
    "# Axes helpers\n",
    "x = numpy.linspace(0, l, nx)\n",
    "y = numpy.linspace(0, h, ny)\n",
    "\n",
    "# Figure\n",
    "pyplot.figure(figsize=(9,8))\n",
    "pyplot.contourf(x, y, psi, 10, cmap=cm.viridis)"
   ]
  },
  {
   "cell_type": "markdown",
   "metadata": {},
   "source": [
    "It looks like a vortex! To be sure, we can find, from the stream function, the speed of the fluid and then plot it."
   ]
  },
  {
   "cell_type": "code",
   "execution_count": null,
   "metadata": {
    "collapsed": false
   },
   "outputs": [],
   "source": [
    "def speed(psi, dx, dy, u):\n",
    "    \"\"\"\n",
    "    Calculate the speed from the potential\n",
    "    \n",
    "    Parameters:\n",
    "    ----------\n",
    "    psi: array[NxN] of floats\n",
    "        stream function\n",
    "\n",
    "    dx: float\n",
    "        mesh spacing in x direction\n",
    "\n",
    "    dy: float\n",
    "        mesh spacing in y direction\n",
    "\n",
    "    u: float\n",
    "        speed of the moving lid\n",
    "\n",
    "    Returns:\n",
    "    -------\n",
    "    vx: array[NxN] of float\n",
    "        speed in the x direction\n",
    "\n",
    "    vy: array[NxN] of float\n",
    "        speed in the y direction\n",
    "    \"\"\"\n",
    "\n",
    "    # Variables definition\n",
    "    vx = numpy.zeros(psi.shape)\n",
    "    vy = numpy.zeros(psi.shape)\n",
    "\n",
    "    # X-speed (sides already set to 0)\n",
    "    vx[-1,:]=u\n",
    "    vx[1:-1,1:-1]=(1/(2*dy))*(psi[2:,1:-1]-psi[0:-2,1:-1])\n",
    "\n",
    "    # Y-speed (sides already set to 0)\n",
    "    vy[1:-1,1:-1]=-(1/(2*dx))*(psi[1:-1,2:]-psi[1:-1,0:-2])\n",
    "\n",
    "    return vx, vy\n",
    "\n",
    "# Speed calculation\n",
    "vx, vy = speed(psi, dx, dy, u)\n",
    "\n",
    "# Plot the flow speed\n",
    "size = 7\n",
    "pyplot.figure(figsize=(size, \\\n",
    "    (y[-1]-y[0])/(x[-1]-x[0])*size)) # Formula used for non square arrays\n",
    "\n",
    "pyplot.xlim(x[0], x[-1])\n",
    "pyplot.ylim(y[0], y[-1])\n",
    "\n",
    "pyplot.xlabel('x', fontsize=16)\n",
    "pyplot.ylabel('y', fontsize=16)\n",
    "\n",
    "X, Y = numpy.meshgrid(x,y)\n",
    "pyplot.streamplot(X, Y, vx, vy, \\\n",
    "        density=1.86, linewidth=1, arrowsize=2, arrowstyle='->')"
   ]
  },
  {
   "cell_type": "markdown",
   "metadata": {},
   "source": [
    "## Conclusion\n",
    "\n",
    "It is interesting to see that any stokes flow system can be soled by the same equations. The only thing that are going to change the final solution is the boundaries conditions.\n",
    "\n",
    "We used the Jacobi method but it was slow. However, other methods which are faster - SOR and the conjugate gradient - are harder to implement with coupled eqations. Here we choosed the simplicity beacause of the small grid, but it could be interesting to implement an other method."
   ]
  },
  {
   "cell_type": "markdown",
   "metadata": {},
   "source": [
    "##### Source\n",
    "\n",
    "(1) We used the following lectures https://github.com/numerical-mooc/numerical-mooc available under Creative Commons Attribution license CC-BY 4.0, (c)2014 L.A. Barba, C. Cooper, G.F. Forsyth, A. Krishnan."
   ]
  },
  {
   "cell_type": "markdown",
   "metadata": {},
   "source": [
    "---\n",
    "###### The cell below loads the style of this notebook. "
   ]
  },
  {
   "cell_type": "code",
   "execution_count": null,
   "metadata": {
    "collapsed": false
   },
   "outputs": [],
   "source": [
    "# Execute this cell to load the notebook's style sheet, then ignore it\n",
    "from IPython.core.display import HTML\n",
    "css_file = '../../styles/numericalmoocstyle.css'\n",
    "HTML(open(css_file, \"r\").read())"
   ]
  }
 ],
 "metadata": {
  "kernelspec": {
   "display_name": "Python 3",
   "language": "python",
   "name": "python3"
  },
  "language_info": {
   "codemirror_mode": {
    "name": "ipython",
    "version": 3
   },
   "file_extension": ".py",
   "mimetype": "text/x-python",
   "name": "python",
   "nbconvert_exporter": "python",
   "pygments_lexer": "ipython3",
   "version": "3.4.4"
  }
 },
 "nbformat": 4,
 "nbformat_minor": 0
}
