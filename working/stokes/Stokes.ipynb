{
 "cells": [
  {
   "cell_type": "markdown",
   "metadata": {},
   "source": [
    "# Relaxation Assignment\n",
    "## The Stokes Flow\n",
    "\n",
    "##### Laurent Pétré & Ilan Renous"
   ]
  },
  {
   "cell_type": "markdown",
   "metadata": {},
   "source": [
    "In this assignment, we are going to simulate the interaction of two generic chemical species reacting. We are going tu use a two dimension version of a model called the Gray-Scott model. Let's get started!"
   ]
  },
  {
   "cell_type": "code",
   "execution_count": null,
   "metadata": {
    "collapsed": true
   },
   "outputs": [],
   "source": [
    "# We import the libraries we will need\n",
    "import numpy\n",
    "from matplotlib import pyplot, cm\n",
    "%matplotlib inline"
   ]
  },
  {
   "cell_type": "markdown",
   "metadata": {},
   "source": [
    "## The Stokes Flow"
   ]
  },
  {
   "cell_type": "markdown",
   "metadata": {},
   "source": [
    "The Gray-Scott model represents the reaction and diffusion of two generic chemical species, $U$ and $V$, whose concentrations at a point in space are represented by variables $u$ and $v$. The model follows some simple rules.  \n",
    "\n",
    "*  Each chemical _diffuses_ through space at its own rate.\n",
    "*  Species $U$ is added at a constant feed rate into the system.\n",
    "*  Two units of species V can 'turn' a unit of species U into V: $\\; 2V+U\\rightarrow 3V$\n",
    "*  There's a constant kill rate removing species $V$.\n",
    "\n",
    "This model results in the following system of partial differential equations for the concentrations $u(x,y,t)$ and $v(x,y,t)$ of both chemical species:\n",
    "\\begin{align}\n",
    "\\frac{\\partial u}{\\partial t} &= D_u \\nabla ^2 u - uv^2 + F(1-u)\\\\\n",
    "\\frac{\\partial v}{\\partial t} &= D_v \\nabla ^2 v + uv^2 - (F + k)v\n",
    "\\end{align}\n",
    "\n",
    "with $D_u$ and $D_v$ the respective rates of diffusion\n",
    "\n",
    "and $\\nabla ^2$ is the Laplacian:\n",
    "\n",
    "$$\n",
    "\\nabla ^2 u = \\frac{\\partial ^2 u}{\\partial x^2} + \\frac{\\partial ^2 u}{\\partial y^2}\n",
    "$$"
   ]
  },
  {
   "cell_type": "markdown",
   "metadata": {},
   "source": [
    "### Discretisation of the equations"
   ]
  },
  {
   "cell_type": "markdown",
   "metadata": {},
   "source": [
    "We need to discretise these equations to get a numerical approximation. We are going to use a forward-time, centered-space discretization . For the first equation, this gives us:\n",
    "\n",
    "$$\n",
    "\\frac{u^{n+1}_{i,j} - u^n_{i,j}}{\\Delta t} =\\\\ D_u \\left( \\frac{u^n_{i+1, j} - 2u^n_{i,j} + u^n_{i-1,j}}{\\Delta x^2} + \\frac{u^n_{i, j+1} - 2u^n_{i,j} + u^n_{i,j-1}}{\\Delta y^2}\\right)+(G_1)^n_{i,j}\n",
    "$$\n",
    "\n",
    "Where $(G_1)^n_{i,j}=-u^n_{i,j}  (v^n_{i,j})^2+ F(1-u^n_{i,j})$\n",
    "\n",
    "Rearranging the equation to solve for the value at the next time step, $u^{n+1}_{i,j}$, and assume that $\\Delta x = \\Delta y = \\delta$, yields\n",
    "\n",
    "$$\n",
    "u^{n+1}_{i,j}=\\\\ u^n_{i,j} +\\Delta t \\left( \\frac{D_u}{\\delta ^2} \\left( \\ u^n_{i+1, j} - 4u^n_{i,j} + u^n_{i-1,j} + u^n_{i, j+1}+ u^n_{i,j-1}\\right)+(G_1)^n_{i,j}\\right)\n",
    "$$\n",
    "\n",
    "Similarly, for the second equation, we have \n",
    "\n",
    "$$\n",
    "v^{n+1}_{i,j}= \\\\v^n_{i,j} +\\Delta t \\left( \\frac{D_v}{\\delta ^2} \\left(v^n_{i+1, j} - 4v^n_{i,j} + v^n_{i-1,j} + v^n_{i, j+1} + v^n_{i,j-1}\\right)+(G_2)^n_{i,j}\\right)\n",
    "$$\n",
    "\n",
    "Where $(G_2)^n_{i,j}=u^n_{i,j}  (v^n_{i,j})^2- (F+k)v^n_{i,j}$\n",
    "\n",
    "That's a little messy, but we will have all the information we need."
   ]
  },
  {
   "cell_type": "markdown",
   "metadata": {},
   "source": [
    "## Boundary conditions\n",
    "\n",
    "For this problem, we are going to use zero Neumann boundary conditions on all sides of the domain. These are : \n",
    "\n",
    "$$\n",
    "\\frac{\\partial u}{\\partial x}= \\frac{u^n_{N,j} - u^n_{N-1,j}}{\\delta} =0\n",
    "$$\n",
    "\n",
    "$$\n",
    "\\frac{\\partial u}{\\partial y}= \\frac{u^n_{i,N} - u^n_{i,N-1}}{\\delta} =0\n",
    "$$\n",
    "\n",
    "$$\n",
    "\\frac{\\partial v}{\\partial x}= \\frac{v^n_{N,j} - v^n_{N-1,j}}{\\delta} =0\n",
    "$$\n",
    "\n",
    "$$\n",
    "\\frac{\\partial v}{\\partial y}= \\frac{v^n_{i,N} - v^n_{i,N-1}}{\\delta} =0\n",
    "$$\n",
    "\n",
    "Where N is the index of the cell at the boundaries of our spacial domain (i.e. N = 0 and N = 192 here)."
   ]
  },
  {
   "cell_type": "markdown",
   "metadata": {},
   "source": [
    "## Implementation\n",
    "\n",
    "We can now implement those equations. The boundary conditions need to be applied at each itterations. In Python that gives us :"
   ]
  },
  {
   "cell_type": "code",
   "execution_count": null,
   "metadata": {
    "collapsed": false
   },
   "outputs": [],
   "source": [
    "def solve(psi_i, omega_i, dx, dy, norm_func, norm_target):\n",
    "    \"\"\"\n",
    "    Compute the solution of the partial differential system : \n",
    "        - du/dt = Du*(div(grad(u)) + G1(u, v)\n",
    "        - dv/dt = Dv*(div(grad(v)) + G2(u, v).\n",
    "\n",
    "    Parameters\n",
    "    ----------\n",
    "    psi_i, omega_i: array[NxN] of floats\n",
    "        initial conditions\n",
    "\n",
    "    dx, dy: float\n",
    "        space steps\n",
    "\n",
    "    nt: integer\n",
    "        number of iterations\n",
    "\n",
    "    norm_func: function of 2 arrays[NxN] of floats\n",
    "        computes the norm between two iterations\n",
    "\n",
    "    norm_target: float\n",
    "        norm between two iteration needed to stop the computation\n",
    "\n",
    "    Returns\n",
    "    -------\n",
    "    psi, omega: array[NxN]\n",
    "        solution of the system\n",
    "    \"\"\"\n",
    "    \n",
    "    # We don't want to modify the input parameters\n",
    "    psi = psi_i.copy()\n",
    "    omega = omega_i.copy()\n",
    "\n",
    "    # Initial norms for psi and omega\n",
    "    normp = 1\n",
    "    normo = 1\n",
    "\n",
    "    while ((normp > norm_target) or (normo > norm_target)):\n",
    "        # Omega computation\n",
    "        omegan = omega.copy()\n",
    "\n",
    "        omega[1:-1,1:-1] = .25 * (omegan[1:-1,2:] + omegan[1:-1, :-2] \\\n",
    "                + omegan[2:, 1:-1] + omegan[:-2, 1:-1])\n",
    "\n",
    "        # Bcs\n",
    "        omega[-1, :] = (-1/(2*dy**2))*(8*psi[-2, :] - psi[-3, :]) \\\n",
    "                - (3*1)/dy # Top\n",
    "        omega[0, :] = (-1/(2*dy**2))*(8*psi[1, :] - psi[2, :]) # Bottom\n",
    "        omega[:, -1] = (-1/(2*dx**2))*(8*psi[:, -2] - psi[:, -3]) # Left\n",
    "        omega[:, 0] = (-1/(2*dx**2))*(8*psi[:, 1] - psi[:, 2]) # Right\n",
    "\n",
    "        # Psi computation\n",
    "        psid = psi.copy()\n",
    "\n",
    "        psi[1:-1,1:-1] = 1/(2*(dx**2 + dy**2)) * ( \\\n",
    "                (psid[1:-1,2:]+psid[1:-1,:-2])*dy**2 + \\\n",
    "                (psid[2:,1:-1] + psid[:-2,1:-1])*dx**2 + \\\n",
    "                omega[1:-1,1:-1]*dx**2*dy**2)\n",
    "\n",
    "        # BCs automatically satisfied\n",
    "\n",
    "        normp = norm_func(psid, psi)\n",
    "        normo = norm_func(omega, omegan)\n",
    "\n",
    "    return psi, omega"
   ]
  },
  {
   "cell_type": "markdown",
   "metadata": {},
   "source": [
    "## Solve !"
   ]
  },
  {
   "cell_type": "markdown",
   "metadata": {},
   "source": [
    "We created the function needed to solve this problem, all we need now is initial conditions and simulation parameters. Let's choose the following parameters :\n",
    "\n",
    "* Grid of points with dimension `192x192` points\n",
    "* Domain is $5{\\rm m} \\times 5{\\rm m}$\n",
    "* Final time is $8000{\\rm s}$\n",
    "* $Du, Dv, F, k = 0.00016, 0.00008, 0.035, 0.065 $\n",
    "* For the initial distribution of $u$ and $v$, we download a grid given in the lesson."
   ]
  },
  {
   "cell_type": "markdown",
   "metadata": {},
   "source": [
    "We saw that, in two dimension, the stability constraints for an explicit scheme is given by\n",
    "\n",
    "$$\n",
    "\\alpha \\frac{\\Delta t}{(\\Delta x)^2} + \\alpha \\frac{\\Delta t}{(\\Delta y)^2} < \\frac{1}{2}.\n",
    "$$\n",
    "\n",
    "With $\\Delta x = \\Delta y = \\delta$ the stability condition is:\n",
    "\n",
    "$$\n",
    "\\alpha \\frac{\\Delta t}{\\delta^2} < \\frac{1}{4}\n",
    "$$\n",
    "\n",
    "To be sure to stay within the stability condition, we set our time step to be \n",
    "\n",
    "$$\\Delta t = \\frac{9}{40}\\frac{\\delta^2}{\\max(D_u, D_v)}$$"
   ]
  },
  {
   "cell_type": "code",
   "execution_count": null,
   "metadata": {
    "collapsed": false
   },
   "outputs": [],
   "source": [
    "# Space conditions\n",
    "nx = 41\n",
    "ny = 41\n",
    "\n",
    "l = 1.\n",
    "h = 1.\n",
    "\n",
    "dx = l/(nx-1)\n",
    "dy = h/(ny-1)\n",
    "\n",
    "# Convergence conditions\n",
    "def l1_norm(new, old):\n",
    "    return numpy.sum(numpy.abs(new - old))\n",
    "\n",
    "norm_target = 1e-6\n",
    "\n",
    "# Initial conditions\n",
    "psi = numpy.zeros((nx, ny))\n",
    "omega = numpy.zeros((nx, ny))"
   ]
  },
  {
   "cell_type": "markdown",
   "metadata": {},
   "source": [
    "Now, it's time to launch the simulation :"
   ]
  },
  {
   "cell_type": "code",
   "execution_count": null,
   "metadata": {
    "collapsed": false
   },
   "outputs": [],
   "source": [
    "# Solve\n",
    "psi, omega = solve(psi, omega, dx, dy, l1_norm, norm_target)\n",
    "\n",
    "# Output\n",
    "print(numpy.amax(numpy.abs(psi)))\n",
    "print(numpy.amax(numpy.abs(omega)))\n",
    "print(numpy.round(psi[32,::8], 4))"
   ]
  },
  {
   "cell_type": "markdown",
   "metadata": {},
   "source": [
    "## Drawing"
   ]
  },
  {
   "cell_type": "markdown",
   "metadata": {},
   "source": [
    "Thanks to this animation, we can see the evolution of the concentration of our species. The high concentration zones are represented by dots."
   ]
  },
  {
   "cell_type": "code",
   "execution_count": null,
   "metadata": {
    "collapsed": false
   },
   "outputs": [],
   "source": [
    "# Axes helpers\n",
    "x = numpy.linspace(0, l, nx)\n",
    "y = numpy.linspace(0, h, ny)\n",
    "\n",
    "# Figure\n",
    "pyplot.figure(figsize=(15,15))\n",
    "pyplot.contourf(x,y,psi,10,cmap=cm.viridis)"
   ]
  },
  {
   "cell_type": "markdown",
   "metadata": {},
   "source": [
    "## Conclusion\n",
    "\n",
    "Using a explicit scheme was easier to implement in code but we had to take a very small time step to reach stability. Implicit scheme would not have required such small time step to give a stable approximation.\n",
    "\n",
    "It was intersting to change the values of the different parameters to see different patterns of density evovle in time."
   ]
  },
  {
   "cell_type": "markdown",
   "metadata": {},
   "source": [
    "##### Source\n",
    "\n",
    "(1) We used the following lectures https://github.com/numerical-mooc/numerical-mooc available under Creative Commons Attribution license CC-BY 4.0, (c)2014 L.A. Barba, C. Cooper, G.F. Forsyth, A. Krishnan."
   ]
  },
  {
   "cell_type": "markdown",
   "metadata": {},
   "source": [
    "---\n",
    "###### The cell below loads the style of this notebook. "
   ]
  },
  {
   "cell_type": "code",
   "execution_count": null,
   "metadata": {
    "collapsed": false
   },
   "outputs": [],
   "source": [
    "# Execute this cell to load the notebook's style sheet, then ignore it\n",
    "from IPython.core.display import HTML\n",
    "css_file = '../../styles/numericalmoocstyle.css'\n",
    "HTML(open(css_file, \"r\").read())"
   ]
  },
  {
   "cell_type": "code",
   "execution_count": null,
   "metadata": {
    "collapsed": true
   },
   "outputs": [],
   "source": []
  }
 ],
 "metadata": {
  "kernelspec": {
   "display_name": "Python 3",
   "language": "python",
   "name": "python3"
  },
  "language_info": {
   "codemirror_mode": {
    "name": "ipython",
    "version": 3
   },
   "file_extension": ".py",
   "mimetype": "text/x-python",
   "name": "python",
   "nbconvert_exporter": "python",
   "pygments_lexer": "ipython3",
   "version": "3.4.4"
  }
 },
 "nbformat": 4,
 "nbformat_minor": 0
}
