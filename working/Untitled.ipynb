{
 "cells": [
  {
   "cell_type": "code",
   "execution_count": 13,
   "metadata": {
    "collapsed": false
   },
   "outputs": [
    {
     "name": "stdout",
     "output_type": "stream",
     "text": [
      "14\n",
      "74\n",
      "29252\n"
     ]
    },
    {
     "data": {
      "text/plain": [
       "<matplotlib.colorbar.Colorbar at 0xa61d208>"
      ]
     },
     "execution_count": 13,
     "metadata": {},
     "output_type": "execute_result"
    },
    {
     "data": {
      "image/png": "[encoded data removed]",
      "text/plain": [
       "<matplotlib.figure.Figure at 0xa48cc50>"
      ]
     },
     "metadata": {},
     "output_type": "display_data"
    }
   ],
   "source": [
    "from matplotlib import pyplot\n",
    "import numpy\n",
    "%matplotlib inline\n",
    "from matplotlib import rcParams\n",
    "rcParams['font.family'] = 'serif'\n",
    "rcParams['font.size'] = 16\n",
    "from mpl_toolkits.mplot3d import Axes3D\n",
    "from matplotlib import cm\n",
    "\n",
    "# resolution \n",
    "nx=150\n",
    "ny=150\n",
    "\n",
    "#box of length l and height h\n",
    "l=1\n",
    "h=1\n",
    "\n",
    "#speed of the flow u\n",
    "u=1\n",
    "\n",
    "x=numpy.linspace(0,l,nx)\n",
    "y=numpy.linspace(0,h,ny)\n",
    "\n",
    "dx=l/(nx-1)\n",
    "dy=h/(ny-1)\n",
    "l1_target = 1e-6\n",
    "\n",
    "\n",
    "w=numpy.zeros((nx,ny))\n",
    "psi=numpy.zeros((nx,ny))\n",
    "\n",
    "\n",
    "psi[:,0]=u*y[:]\n",
    "psi[:,-1]=u*y[:]\n",
    "psi[-1,:]=u*y[-1]\n",
    "psi[0,:]=u*y[0]\n",
    "\n",
    "def L1norm(new, old):\n",
    "    norm = numpy.sum(numpy.abs(new-old))\n",
    "    return norm\n",
    "\n",
    "def stokes_system(h,nx,ny,w,psi,l1_target,dx,dy,u,y):\n",
    "    '''Performs Jacobi relaxation for the cavity flow\n",
    "    \n",
    "    Parameters:\n",
    "    ----------\n",
    "    w : 2D array of floats\n",
    "        Initial guess\n",
    "    psi: 2D array of floats\n",
    "        Initial guess\n",
    "    dx: float\n",
    "        Mesh spacing in x direction\n",
    "    dy: float\n",
    "        Mesh spacing in y direction\n",
    "    l1_target: float\n",
    "        Target difference between two consecutive iterates\n",
    "    \n",
    "    Returns:\n",
    "    -------\n",
    "    psi: 2D array of float\n",
    "        Distribution after relaxation\n",
    "    iteration: number of iteration\n",
    "    ''' \n",
    "    iteration=0\n",
    "    stop1=1\n",
    "    stop2=1\n",
    "    \n",
    "    xi=int((nx-1)/2)\n",
    "    yi=int((ny-1)/2)\n",
    "    r=int((nx-1)/10)\n",
    "    print(r)\n",
    "    print(xi)\n",
    "    \n",
    "    psin = numpy.empty_like(psi)\n",
    "    wn= numpy.empty_like(w)\n",
    "    \n",
    "    while(stop1>l1_target or stop2>l1_target):\n",
    "        \n",
    "        psin=psi.copy()\n",
    "        wn=w.copy()\n",
    "        w[1:-1,1:-1]=.25*(wn[2:,1:-1]+wn[:-2,1:-1]+w[1:-1,:-2]+wn[1:-1,2:])\n",
    "        \n",
    "        psi[1:-1:,1:-1]=.25*((dx**2)*wn[1:-1,1:-1]+psin[2:,1:-1] \\\n",
    "                             +psin[:-2,1:-1]+psi[1:-1,:-2]+psin[1:-1,2:]) \n",
    "        \n",
    "        #BCs\n",
    "        \n",
    "        w[-1,:]= (-1/dx**2)*(6*dy*u-7*psi[-1,:]+8*psi[-2,:]-psi[-3,:])\n",
    "        w[0,:]= (-1/dx**2)*(-6*dy*u-7*psi[0,:]+8*psi[1,:]-psi[2,:])\n",
    "        w[:,0]= (-1/dx**2)*(-7*psi[:,0]+8*psi[:,1]-psi[:,2])\n",
    "        w[:,-1]= (-1/dx**2)*(-7*psi[:,-1]+8*psi[:,-2]-psi[:,-3])\n",
    "        \n",
    "        w[yi-r,xi-r:xi+r+1]=(-1/(2*(dy)**2))*(8*psi[yi-r-1,xi-r:xi+r+1]-7*h/2*u-psi[yi-r-2,xi-r:xi+r+1])\n",
    "        w[yi-r:yi+r+1,xi-r]=(-1/(2*(dy)**2))*(8*psi[yi-r:yi+r+1,xi-r-1]-7*h/2*u-psi[yi-r:yi+r+1,xi-r-2])\n",
    "        w[yi+r,xi-r:xi+r+1]=(-1/(2*(dy)**2))*(8*psi[yi+r+1,xi-r:xi+r+1]-7*h/2*u-psi[yi+r+2,xi-r:xi+r+1])\n",
    "        w[yi-r:yi+r+1,xi+r]=(-1/(2*(dy)**2))*(8*psi[yi-r:yi+r+1,xi+r+1]-7*h/2*u-psi[yi-r:yi+r+1,xi+r+2])\n",
    "        \n",
    "        stop1=L1norm(psi,psin)\n",
    "        stop2=L1norm(w,wn)\n",
    "        iteration+=1\n",
    "        \n",
    "    return psi, iteration\n",
    "\n",
    "psi,iteration = stokes_system(h,nx,ny,w,psi,l1_target,dx,dy,u,y)\n",
    "print(iteration)\n",
    "\n",
    "pyplot.figure(figsize=(8,5))\n",
    "pyplot.contourf(x,y,psi,30,cmap=cm.viridis)\n",
    "pyplot.xlabel('$x$')\n",
    "pyplot.ylabel('$y$')\n",
    "pyplot.colorbar();\n",
    "\n",
    "        "
   ]
  },
  {
   "cell_type": "code",
   "execution_count": null,
   "metadata": {
    "collapsed": true
   },
   "outputs": [],
   "source": []
  }
 ],
 "metadata": {
  "kernelspec": {
   "display_name": "Python 3",
   "language": "python",
   "name": "python3"
  },
  "language_info": {
   "codemirror_mode": {
    "name": "ipython",
    "version": 3
   },
   "file_extension": ".py",
   "mimetype": "text/x-python",
   "name": "python",
   "nbconvert_exporter": "python",
   "pygments_lexer": "ipython3",
   "version": "3.4.4"
  }
 },
 "nbformat": 4,
 "nbformat_minor": 0
}
